{
 "cells": [
  {
   "cell_type": "markdown",
   "id": "efee6f15",
   "metadata": {},
   "source": [
    "# Assignment 2"
   ]
  },
  {
   "cell_type": "markdown",
   "id": "70330326",
   "metadata": {},
   "source": [
    "\n",
    "# 💡 **Question 1**\n",
    "\n",
    "Given two strings s1 and s2, return *the lowest **ASCII** sum of deleted characters to make two strings equal*.\n",
    "\n",
    "**Example 1:**\n",
    "\n",
    "**Input:** s1 = \"sea\", s2 = \"eat\"\n",
    "\n",
    "**Output:** 231\n",
    "\n",
    "**Explanation:** Deleting \"s\" from \"sea\" adds the ASCII value of \"s\" (115) to the sum.\n",
    "\n",
    "Deleting \"t\" from \"eat\" adds 116 to the sum.\n",
    "\n",
    "At the end, both strings are equal, and 115 + 116 = 231 is the minimum sum possible to achieve this.\n",
    "\n",
    "</aside>"
   ]
  },
  {
   "cell_type": "markdown",
   "id": "f399428c",
   "metadata": {},
   "source": [
    "To find the lowest ASCII sum of deleted characters to make two strings equal, you can use dynamic programming with a bottom-up approach. Here's a possible solution in Python:"
   ]
  },
  {
   "cell_type": "code",
   "execution_count": 1,
   "id": "c31badeb",
   "metadata": {},
   "outputs": [],
   "source": [
    "def minimumDeleteSum(s1, s2):\n",
    "    m, n = len(s1), len(s2)\n",
    "    dp = [[0] * (n + 1) for _ in range(m + 1)]\n",
    "\n",
    "    # Fill the first row and first column\n",
    "    for i in range(1, m + 1):\n",
    "        dp[i][0] = dp[i-1][0] + ord(s1[i-1])\n",
    "    for j in range(1, n + 1):\n",
    "        dp[0][j] = dp[0][j-1] + ord(s2[j-1])\n",
    "\n",
    "    # Build the DP table\n",
    "    for i in range(1, m + 1):\n",
    "        for j in range(1, n + 1):\n",
    "            if s1[i-1] == s2[j-1]:\n",
    "                dp[i][j] = dp[i-1][j-1]\n",
    "            else:\n",
    "                dp[i][j] = min(dp[i-1][j] + ord(s1[i-1]), dp[i][j-1] + ord(s2[j-1]))\n",
    "\n",
    "    return dp[m][n]\n"
   ]
  },
  {
   "cell_type": "markdown",
   "id": "0ee6b2d4",
   "metadata": {},
   "source": [
    "In this solution, we create a 2D DP table where dp[i][j] represents the minimum ASCII sum of deleted characters to make the substrings s1[0:i] and s2[0:j] equal. We fill the first row and first column of the table with the cumulative ASCII values of the characters.\n",
    "\n",
    "Then, we iterate through the remaining cells of the table and calculate the minimum sum based on the following conditions:\n",
    "\n",
    "If the current characters of s1 and s2 are the same, we can simply take the value from the previous diagonal cell (dp[i-1][j-1]) since no deletions are needed.\n",
    "If the current characters are different, we consider two possibilities:\n",
    "Delete the current character from s1 and take the minimum sum from the previous row (dp[i-1][j]) plus the ASCII value of the deleted character.\n",
    "Delete the current character from s2 and take the minimum sum from the previous column (dp[i][j-1]) plus the ASCII value of the deleted character.\n",
    "Finally, we return dp[m][n], which represents the minimum sum to make both strings equal, where m and n are the lengths of s1 and s2, respectively."
   ]
  },
  {
   "cell_type": "code",
   "execution_count": 2,
   "id": "3f8c85ea",
   "metadata": {},
   "outputs": [
    {
     "name": "stdout",
     "output_type": "stream",
     "text": [
      "231\n"
     ]
    }
   ],
   "source": [
    "s1 = \"sea\"\n",
    "s2 = \"eat\"\n",
    "result = minimumDeleteSum(s1, s2)\n",
    "print(result)  # Output: 231\n"
   ]
  },
  {
   "cell_type": "code",
   "execution_count": 3,
   "id": "c6d75d63",
   "metadata": {},
   "outputs": [],
   "source": [
    "# The minimum ASCII sum of deleted characters to make \"sea\" and \"eat\" equal is 231."
   ]
  },
  {
   "cell_type": "markdown",
   "id": "448d3308",
   "metadata": {},
   "source": [
    "\n",
    "# 💡 **Question 2**\n",
    "\n",
    "Given a string s containing only three types of characters: '(', ')' and '*', return true *if* s *is **valid***.\n",
    "\n",
    "The following rules define a **valid** string:\n",
    "\n",
    "- Any left parenthesis '(' must have a corresponding right parenthesis ')'.\n",
    "- Any right parenthesis ')' must have a corresponding left parenthesis '('.\n",
    "- Left parenthesis '(' must go before the corresponding right parenthesis ')'.\n",
    "- '*' could be treated as a single right parenthesis ')' or a single left parenthesis '(' or an empty string \"\".\n",
    "\n",
    "**Example 1:**\n",
    "\n",
    "**Input:** s = \"()\"\n",
    "\n",
    "**Output:**\n",
    "\n",
    "true\n",
    "\n",
    "</aside>"
   ]
  },
  {
   "cell_type": "markdown",
   "id": "3efb6707",
   "metadata": {},
   "source": [
    "To determine if a string s containing only the characters '(', ')', and '*' is valid, we can use a stack-based approach. The idea is to iterate through each character in the string and keep track of the count of open parentheses and asterisks encountered.\n",
    "\n",
    "Here's the algorithm:\n",
    "\n",
    "Initialize two stacks: openStack to store the indices of open parentheses, and starStack to store the indices of asterisks encountered.\n",
    "Iterate through each character c at index i in the string s:\n",
    "If c is '(', push i to the openStack.\n",
    "If c is '*', push i to the starStack.\n",
    "If c is ')':\n",
    "If the openStack is not empty, pop an index from it to match the current closing parenthesis at index i.\n",
    "Otherwise, if the starStack is not empty, pop an index from it to match the current closing parenthesis at index i.\n",
    "If both stacks are empty, there is no valid opening parenthesis or asterisk to match the current closing parenthesis, so return false.\n",
    "After iterating through all characters in s, we need to ensure that each remaining opening parenthesis can be matched by an asterisk. We continue matching opening parentheses from the openStack with asterisks from the starStack until one of the stacks becomes empty.\n",
    "If the openStack is empty, all opening parentheses have been matched, and the remaining asterisks are considered empty strings.\n",
    "If the starStack is empty but there are remaining opening parentheses, it means there are unmatched opening parentheses, and the string is not valid. Return false.\n",
    "If there are unmatched opening parentheses and asterisks, pop the indices from both stacks until one of the stacks becomes empty or all opening parentheses have been matched.\n",
    "If we reach this point, all parentheses have been matched with either closing parentheses or asterisks, and there are no unmatched opening parentheses. Return true.\n",
    "\n"
   ]
  },
  {
   "cell_type": "code",
   "execution_count": 7,
   "id": "2cb36d8c",
   "metadata": {},
   "outputs": [],
   "source": [
    "def checkValidString(s):\n",
    "    openStack = []\n",
    "    starStack = []\n",
    "\n",
    "    for i, c in enumerate(s):\n",
    "        if c == '(':\n",
    "            openStack.append(i)\n",
    "        elif c == '*':\n",
    "            starStack.append(i)\n",
    "        elif c == ')':\n",
    "            if openStack:\n",
    "                openStack.pop()\n",
    "            elif starStack:\n",
    "                starStack.pop()\n",
    "            else:\n",
    "                return False\n",
    "\n",
    "    while openStack and starStack:\n",
    "        if openStack[-1] > starStack[-1]:\n",
    "            return False\n",
    "        openStack.pop()\n",
    "        starStack.pop()\n",
    "\n",
    "    return len(openStack) == 0\n"
   ]
  },
  {
   "cell_type": "code",
   "execution_count": 8,
   "id": "3bd23bd8",
   "metadata": {},
   "outputs": [
    {
     "name": "stdout",
     "output_type": "stream",
     "text": [
      "True\n"
     ]
    }
   ],
   "source": [
    "s = \"()\"\n",
    "print(checkValidString(s)) "
   ]
  },
  {
   "cell_type": "code",
   "execution_count": 9,
   "id": "1ef372a4",
   "metadata": {},
   "outputs": [],
   "source": [
    "#The output is True, indicating that the string s is valid."
   ]
  },
  {
   "cell_type": "markdown",
   "id": "c1fc0350",
   "metadata": {},
   "source": [
    "\n",
    "# 💡 **Question 3**\n",
    "\n",
    "Given two strings word1 and word2, return *the minimum number of **steps** required to make* word1 *and* word2 *the same*.\n",
    "\n",
    "In one **step**, you can delete exactly one character in either string.\n",
    "\n",
    "**Example 1:**\n",
    "\n",
    "**Input:** word1 = \"sea\", word2 = \"eat\"\n",
    "\n",
    "**Output:** 2\n",
    "\n",
    "**Explanation:** You need one step to make \"sea\" to \"ea\" and another step to make \"eat\" to \"ea\".\n",
    "\n",
    "</aside>"
   ]
  },
  {
   "cell_type": "markdown",
   "id": "f9067594",
   "metadata": {},
   "source": [
    "To find the minimum number of steps required to make word1 and word2 the same, we can use dynamic programming. Let's denote the length of word1 as m and the length of word2 as n. We can define a 2D array dp[m+1][n+1], where dp[i][j] represents the minimum number of steps required to make the substring word1[0...i-1] and word2[0...j-1] the same.\n",
    "\n",
    "The dynamic programming algorithm can be defined as follows:\n",
    "\n",
    "Initialize the dp array with dimensions (m+1) x (n+1).\n",
    "Initialize the first row and the first column of the dp array. dp[i][0] represents the minimum number of steps required to make the substring word1[0...i-1] and an empty string the same, which is equal to i. Similarly, dp[0][j] represents the minimum number of steps required to make an empty string and the substring word2[0...j-1] the same, which is equal to j.\n",
    "Iterate over the dp array starting from dp[1][1] up to dp[m][n].\n",
    "If word1[i-1] is equal to word2[j-1], then dp[i][j] is equal to dp[i-1][j-1] since no deletion is required.\n",
    "Otherwise, dp[i][j] is equal to the minimum of dp[i-1][j] + 1 and dp[i][j-1] + 1, which represents deleting one character from either word1 or word2.\n",
    "After the iterations, the final result will be stored in dp[m][n]."
   ]
  },
  {
   "cell_type": "code",
   "execution_count": 10,
   "id": "97009b33",
   "metadata": {},
   "outputs": [],
   "source": [
    "def minSteps(word1, word2):\n",
    "    m, n = len(word1), len(word2)\n",
    "    dp = [[0] * (n + 1) for _ in range(m + 1)]\n",
    "\n",
    "    for i in range(m + 1):\n",
    "        dp[i][0] = i\n",
    "\n",
    "    for j in range(n + 1):\n",
    "        dp[0][j] = j\n",
    "\n",
    "    for i in range(1, m + 1):\n",
    "        for j in range(1, n + 1):\n",
    "            if word1[i - 1] == word2[j - 1]:\n",
    "                dp[i][j] = dp[i - 1][j - 1]\n",
    "            else:\n",
    "                dp[i][j] = min(dp[i - 1][j], dp[i][j - 1]) + 1\n",
    "\n",
    "    return dp[m][n]\n"
   ]
  },
  {
   "cell_type": "code",
   "execution_count": 11,
   "id": "a0d114bc",
   "metadata": {},
   "outputs": [
    {
     "name": "stdout",
     "output_type": "stream",
     "text": [
      "2\n"
     ]
    }
   ],
   "source": [
    "word1 = \"sea\"\n",
    "word2 = \"eat\"\n",
    "print(minSteps(word1, word2))  # Output: 2\n"
   ]
  },
  {
   "cell_type": "code",
   "execution_count": 12,
   "id": "042cedcd",
   "metadata": {},
   "outputs": [],
   "source": [
    "# The minimum number of steps required to make \"sea\" and \"eat\" the same is 2, as explained in the example."
   ]
  },
  {
   "cell_type": "markdown",
   "id": "0dd15015",
   "metadata": {},
   "source": [
    "\n",
    "# 💡 **Question 4**\n",
    "\n",
    "You need to construct a binary tree from a string consisting of parenthesis and integers.\n",
    "\n",
    "The whole input represents a binary tree. It contains an integer followed by zero, one or two pairs of parenthesis. The integer represents the root's value and a pair of parenthesis contains a child binary tree with the same structure.\n",
    "You always start to construct the **left** child node of the parent first if it exists.\n",
    "\n",
    "</aside>\n",
    "\n",
    "**Input:** s = \"4(2(3)(1))(6(5))\"\n",
    "\n",
    "**Output:** [4,2,6,3,1,5]"
   ]
  },
  {
   "cell_type": "markdown",
   "id": "b46a192a",
   "metadata": {},
   "source": [
    "To construct a binary tree from the given string, we can use a recursive approach. We'll start by defining a TreeNode class to represent the nodes of the binary tree:"
   ]
  },
  {
   "cell_type": "code",
   "execution_count": 17,
   "id": "f1bf8401",
   "metadata": {},
   "outputs": [],
   "source": [
    "class TreeNode:\n",
    "    def __init__(self, val=0, left=None, right=None):\n",
    "        self.val = val\n",
    "        self.left = left\n",
    "        self.right = right\n"
   ]
  },
  {
   "cell_type": "code",
   "execution_count": 21,
   "id": "8335a165",
   "metadata": {},
   "outputs": [],
   "source": [
    "# Next, we'll define a recursive function called constructTree that takes a string and constructs the binary tree:\n",
    "\n",
    "def constructTree(s):\n",
    "    if not s:\n",
    "        return None\n",
    "\n",
    "    # Find the index of the first opening parenthesis\n",
    "    index = s.find('(')\n",
    "\n",
    "    if index == -1:\n",
    "        # No child nodes, only a single value\n",
    "        val = int(s)\n",
    "        return TreeNode(val)\n",
    "\n",
    "    # Extract the value of the root node\n",
    "    val = int(s[:index])\n",
    "\n",
    "    # Find the index of the matching closing parenthesis\n",
    "    count = 0\n",
    "    for i in range(index, len(s)):\n",
    "        if s[i] == '(':\n",
    "            count += 1\n",
    "        elif s[i] == ')':\n",
    "            count -= 1\n",
    "        if count == 0:\n",
    "            break\n",
    "\n",
    "    # Recursively construct the left and right subtrees\n",
    "    left = constructTree(s[index + 1:i])\n",
    "    right = constructTree(s[i + 2:-1])\n",
    "\n",
    "    return TreeNode(val, left, right)\n"
   ]
  },
  {
   "cell_type": "code",
   "execution_count": 22,
   "id": "02c3aded",
   "metadata": {},
   "outputs": [
    {
     "name": "stdout",
     "output_type": "stream",
     "text": [
      "[3, 2, 1, 4, 5, 6]\n"
     ]
    }
   ],
   "source": [
    "#Finally, we can call the constructTree function with the given input string and traverse the constructed binary tree to obtain the desired output:\n",
    "\n",
    "def inorderTraversal(root):\n",
    "    if root is None:\n",
    "        return []\n",
    "    return inorderTraversal(root.left) + [root.val] + inorderTraversal(root.right)\n",
    "\n",
    "s = \"4(2(3)(1))(6(5))\"\n",
    "root = constructTree(s)\n",
    "output = inorderTraversal(root)\n",
    "print(output)\n"
   ]
  },
  {
   "cell_type": "code",
   "execution_count": 20,
   "id": "c8feec9a",
   "metadata": {},
   "outputs": [],
   "source": [
    "#The inorderTraversal function is used to traverse the binary tree in an inorder manner and returns a list of node values. This ensures that the output matches the expected order of values."
   ]
  },
  {
   "cell_type": "markdown",
   "id": "0bca4ea2",
   "metadata": {},
   "source": [
    "\n",
    "# 💡 **Question 5**\n",
    "\n",
    "Given an array of characters chars, compress it using the following algorithm:\n",
    "\n",
    "Begin with an empty string s. For each group of **consecutive repeating characters** in chars:\n",
    "\n",
    "- If the group's length is 1, append the character to s.\n",
    "- Otherwise, append the character followed by the group's length.\n",
    "\n",
    "The compressed string s **should not be returned separately**, but instead, be stored **in the input character array chars**. Note that group lengths that are 10 or longer will be split into multiple characters in chars.\n",
    "\n",
    "After you are done **modifying the input array,** return *the new length of the array*.\n",
    "\n",
    "You must write an algorithm that uses only constant extra space.\n",
    "\n",
    "**Example 1:**\n",
    "\n",
    "**Input:** chars = [\"a\",\"a\",\"b\",\"b\",\"c\",\"c\",\"c\"]\n",
    "\n",
    "**Output:** Return 6, and the first 6 characters of the input array should be: [\"a\",\"2\",\"b\",\"2\",\"c\",\"3\"]\n",
    "\n",
    "**Explanation:**\n",
    "\n",
    "The groups are \"aa\", \"bb\", and \"ccc\". This compresses to \"a2b2c3\".\n",
    "\n",
    "</aside>"
   ]
  },
  {
   "cell_type": "markdown",
   "id": "105bff6e",
   "metadata": {},
   "source": [
    "To solve this problem, we can use two pointers to iterate over the characters in the array. The first pointer, read, will move forward to read characters, and the second pointer, write, will move forward to write the compressed characters.\n",
    "\n",
    "Here's the step-by-step algorithm:\n",
    "\n",
    "Initialize the read pointer to 0 and the write pointer to 0.\n",
    "Initialize a variable count to 1 to keep track of the count of consecutive repeating characters.\n",
    "Iterate over the array starting from index 1:\n",
    "If the current character is equal to the previous character, increment count by 1.\n",
    "If the current character is different from the previous character:\n",
    "Write the previous character at the write index.\n",
    "If count is greater than 1, convert the count to a string and write each digit of the count as a separate character at subsequent indices.\n",
    "Reset count to 1.\n",
    "Move the write pointer forward.\n",
    "Update the previous character to the current character.\n",
    "Move the read pointer forward.\n",
    "Write the last character and its count (if greater than 1) at the write index.\n",
    "If the write pointer is greater than the original length of the array, remove the remaining elements.\n",
    "Return the write pointer as the new length of the array."
   ]
  },
  {
   "cell_type": "code",
   "execution_count": 23,
   "id": "b4602fb4",
   "metadata": {},
   "outputs": [],
   "source": [
    "def compress(chars):\n",
    "    read = 0\n",
    "    write = 0\n",
    "    count = 1\n",
    "    n = len(chars)\n",
    "    \n",
    "    for read in range(1, n):\n",
    "        if chars[read] == chars[read - 1]:\n",
    "            count += 1\n",
    "        else:\n",
    "            chars[write] = chars[read - 1]\n",
    "            write += 1\n",
    "            if count > 1:\n",
    "                count_str = str(count)\n",
    "                for digit in count_str:\n",
    "                    chars[write] = digit\n",
    "                    write += 1\n",
    "            count = 1\n",
    "    \n",
    "    chars[write] = chars[read]\n",
    "    write += 1\n",
    "    \n",
    "    if count > 1:\n",
    "        count_str = str(count)\n",
    "        for digit in count_str:\n",
    "            chars[write] = digit\n",
    "            write += 1\n",
    "    \n",
    "    if write > n:\n",
    "        chars = chars[:n]\n",
    "    \n",
    "    return write\n"
   ]
  },
  {
   "cell_type": "code",
   "execution_count": 24,
   "id": "5a4352cb",
   "metadata": {},
   "outputs": [
    {
     "name": "stdout",
     "output_type": "stream",
     "text": [
      "6\n",
      "['a', '2', 'b', '2', 'c', '3']\n"
     ]
    }
   ],
   "source": [
    "chars = [\"a\", \"a\", \"b\", \"b\", \"c\", \"c\", \"c\"]\n",
    "print(compress(chars))  # Output: 6\n",
    "print(chars[:6])  # Output: [\"a\", \"2\", \"b\", \"2\", \"c\", \"3\"]\n"
   ]
  },
  {
   "cell_type": "code",
   "execution_count": 25,
   "id": "1207967e",
   "metadata": {},
   "outputs": [],
   "source": [
    "# The algorithm will modify the chars array in place, compressing it according to the rules specified, and return the new length of the array. The first 6 characters of the modified array will be [\"a\", \"2\", \"b\", \"2\", \"c\", \"3\"]"
   ]
  },
  {
   "cell_type": "markdown",
   "id": "be2c4043",
   "metadata": {},
   "source": [
    "\n",
    "# 💡 **Question 6**\n",
    "\n",
    "Given two strings s and p, return *an array of all the start indices of* p*'s anagrams in* s. You may return the answer in **any order**.\n",
    "\n",
    "An **Anagram** is a word or phrase formed by rearranging the letters of a different word or phrase, typically using all the original letters exactly once.\n",
    "\n",
    "**Example 1:**\n",
    "\n",
    "**Input:** s = \"cbaebabacd\", p = \"abc\"\n",
    "\n",
    "**Output:** [0,6]\n",
    "\n",
    "**Explanation:**\n",
    "\n",
    "The substring with start index = 0 is \"cba\", which is an anagram of \"abc\".\n",
    "\n",
    "The substring with start index = 6 is \"bac\", which is an anagram of \"abc\".\n",
    "\n",
    "</aside>"
   ]
  },
  {
   "cell_type": "markdown",
   "id": "8eadede4",
   "metadata": {},
   "source": [
    "To solve this problem, we can use a sliding window approach along with a frequency counter to keep track of the characters in the current window.\n",
    "\n",
    "Here's the step-by-step algorithm:\n",
    "\n",
    "Initialize an empty list result to store the start indices of the anagrams.\n",
    "Create two lists of size 26 to serve as the frequency counters for characters in strings s and p. Initialize both lists with zeros.\n",
    "Iterate over the characters in string p and increment the corresponding counter in the p_counter list.\n",
    "Initialize two pointers, left and right, to represent the sliding window in string s.\n",
    "While the right pointer is less than the length of string s, do the following:\n",
    "Increment the counter for the character at index right in the s_counter list.\n",
    "If the window size (distance between left and right) is greater than the length of string p, decrement the counter for the character at index left in the s_counter list and move the left pointer one step to the right.\n",
    "If the s_counter and p_counter lists are equal, append the left pointer to the result list.\n",
    "Move the right pointer one step to the right.\n",
    "Return the result list containing the start indices of the anagrams."
   ]
  },
  {
   "cell_type": "code",
   "execution_count": 26,
   "id": "25f59ff9",
   "metadata": {},
   "outputs": [],
   "source": [
    "def findAnagrams(s, p):\n",
    "    result = []\n",
    "    s_counter = [0] * 26\n",
    "    p_counter = [0] * 26\n",
    "\n",
    "    # Initialize p_counter\n",
    "    for char in p:\n",
    "        p_counter[ord(char) - ord('a')] += 1\n",
    "\n",
    "    left, right = 0, 0\n",
    "    while right < len(s):\n",
    "        # Increment counter for character at index right in s\n",
    "        s_counter[ord(s[right]) - ord('a')] += 1\n",
    "\n",
    "        # Maintain window size\n",
    "        if right - left + 1 > len(p):\n",
    "            # Decrement counter for character at index left in s\n",
    "            s_counter[ord(s[left]) - ord('a')] -= 1\n",
    "            left += 1\n",
    "\n",
    "        # Compare s_counter and p_counter\n",
    "        if s_counter == p_counter:\n",
    "            result.append(left)\n",
    "\n",
    "        right += 1\n",
    "\n",
    "    return result\n"
   ]
  },
  {
   "cell_type": "code",
   "execution_count": 27,
   "id": "8770bcd9",
   "metadata": {},
   "outputs": [
    {
     "name": "stdout",
     "output_type": "stream",
     "text": [
      "[0, 6]\n"
     ]
    }
   ],
   "source": [
    "s = \"cbaebabacd\"\n",
    "p = \"abc\"\n",
    "print(findAnagrams(s, p))\n"
   ]
  },
  {
   "cell_type": "code",
   "execution_count": 28,
   "id": "277e63c0",
   "metadata": {},
   "outputs": [],
   "source": [
    "# The function correctly returns the start indices of the anagrams \"cba\" and \"bac\" in s."
   ]
  },
  {
   "cell_type": "markdown",
   "id": "a2bebd0c",
   "metadata": {},
   "source": [
    "\n",
    "# 💡 **Question 7**\n",
    "\n",
    "Given an encoded string, return its decoded string.\n",
    "\n",
    "The encoding rule is: k[encoded_string], where the encoded_string inside the square brackets is being repeated exactly k times. Note that k is guaranteed to be a positive integer.\n",
    "\n",
    "You may assume that the input string is always valid; there are no extra white spaces, square brackets are well-formed, etc. Furthermore, you may assume that the original data does not contain any digits and that digits are only for those repeat numbers, k. For example, there will not be input like 3a or 2[4].\n",
    "\n",
    "The test cases are generated so that the length of the output will never exceed 105.\n",
    "\n",
    "**Example 1:**\n",
    "\n",
    "**Input:** s = \"3[a]2[bc]\"\n",
    "\n",
    "**Output:** \"aaabcbc\"\n",
    "\n",
    "</aside>"
   ]
  },
  {
   "cell_type": "markdown",
   "id": "a2c41ff1",
   "metadata": {},
   "source": [
    "To solve this problem, we can use a stack to keep track of the characters and their repetition count as we process the encoded string. We iterate through each character in the input string and perform the following steps:\n",
    "\n",
    "If the current character is a digit, we extract the entire number and convert it to an integer. We store this count on the stack.\n",
    "If the current character is an opening bracket '[', we continue to the next character.\n",
    "If the current character is a letter, we append it to the current string being built.\n",
    "If the current character is a closing bracket ']', we have completed a section of the encoded string. We pop the count from the stack and multiply the current string by this count. We also pop the previous string from the stack (if any) and append the multiplied string to it.\n",
    "Repeat steps 2-4 until we have processed the entire input string."
   ]
  },
  {
   "cell_type": "code",
   "execution_count": 29,
   "id": "39bf3618",
   "metadata": {},
   "outputs": [],
   "source": [
    "def decodeString(s):\n",
    "    stack = []\n",
    "    curr_str = \"\"\n",
    "    curr_num = 0\n",
    "\n",
    "    for char in s:\n",
    "        if char.isdigit():\n",
    "            curr_num = curr_num * 10 + int(char)\n",
    "        elif char == \"[\":\n",
    "            stack.append(curr_str)\n",
    "            stack.append(curr_num)\n",
    "            curr_str = \"\"\n",
    "            curr_num = 0\n",
    "        elif char == \"]\":\n",
    "            num = stack.pop()\n",
    "            prev_str = stack.pop()\n",
    "            curr_str = prev_str + curr_str * num\n",
    "        else:\n",
    "            curr_str += char\n",
    "\n",
    "    return curr_str\n"
   ]
  },
  {
   "cell_type": "code",
   "execution_count": 30,
   "id": "4f213e01",
   "metadata": {},
   "outputs": [
    {
     "name": "stdout",
     "output_type": "stream",
     "text": [
      "aaabcbc\n"
     ]
    }
   ],
   "source": [
    "s = \"3[a]2[bc]\"\n",
    "print(decodeString(s))\n"
   ]
  },
  {
   "cell_type": "code",
   "execution_count": 31,
   "id": "af582e15",
   "metadata": {},
   "outputs": [],
   "source": [
    "# The function correctly decodes the input string and returns the expected output."
   ]
  },
  {
   "cell_type": "markdown",
   "id": "70e2630c",
   "metadata": {},
   "source": [
    "\n",
    "# 💡 **Question 8**\n",
    "\n",
    "Given two strings s and goal, return true *if you can swap two letters in* s *so the result is equal to* goal*, otherwise, return* false*.*\n",
    "\n",
    "Swapping letters is defined as taking two indices i and j (0-indexed) such that i != j and swapping the characters at s[i] and s[j].\n",
    "\n",
    "- For example, swapping at indices 0 and 2 in \"abcd\" results in \"cbad\".\n",
    "\n",
    "**Example 1:**\n",
    "\n",
    "**Input:** s = \"ab\", goal = \"ba\"\n",
    "\n",
    "**Output:** true\n",
    "\n",
    "**Explanation:** You can swap s[0] = 'a' and s[1] = 'b' to get \"ba\", which is equal to goal.\n",
    "\n",
    "</aside>"
   ]
  },
  {
   "cell_type": "markdown",
   "id": "6cdbca09",
   "metadata": {},
   "source": [
    "To determine if it is possible to swap two letters in string s to obtain the string goal, we need to check if the two strings have the same characters and if there are at least two indices i and j where s[i] != goal[i] and s[j] != goal[j] but s[i] = goal[j] and s[j] = goal[i]."
   ]
  },
  {
   "cell_type": "code",
   "execution_count": 35,
   "id": "241b034d",
   "metadata": {},
   "outputs": [],
   "source": [
    "def can_swap_strings(s, goal):\n",
    "    if s == goal:\n",
    "        return True\n",
    "\n",
    "    mismatched_indices = []\n",
    "    for i in range(len(s)):\n",
    "        if s[i] != goal[i]:\n",
    "            mismatched_indices.append(i)\n",
    "\n",
    "    if len(mismatched_indices) != 2:\n",
    "        return False\n",
    "\n",
    "    i, j = mismatched_indices\n",
    "    return s[i] == goal[j] and s[j] == goal[i]\n"
   ]
  },
  {
   "cell_type": "code",
   "execution_count": 36,
   "id": "88c2ec93",
   "metadata": {},
   "outputs": [
    {
     "name": "stdout",
     "output_type": "stream",
     "text": [
      "True\n"
     ]
    }
   ],
   "source": [
    "s = \"ab\"\n",
    "goal = \"ba\"\n",
    "print(can_swap_strings(s, goal))\n"
   ]
  },
  {
   "cell_type": "code",
   "execution_count": 37,
   "id": "3bf689cf",
   "metadata": {},
   "outputs": [],
   "source": [
    "# The function correctly determines that it is possible to swap two letters in s to obtain goal."
   ]
  },
  {
   "cell_type": "code",
   "execution_count": null,
   "id": "0e9a32bf",
   "metadata": {},
   "outputs": [],
   "source": []
  }
 ],
 "metadata": {
  "kernelspec": {
   "display_name": "Python 3",
   "language": "python",
   "name": "python3"
  },
  "language_info": {
   "codemirror_mode": {
    "name": "ipython",
    "version": 3
   },
   "file_extension": ".py",
   "mimetype": "text/x-python",
   "name": "python",
   "nbconvert_exporter": "python",
   "pygments_lexer": "ipython3",
   "version": "3.8.8"
  }
 },
 "nbformat": 4,
 "nbformat_minor": 5
}
