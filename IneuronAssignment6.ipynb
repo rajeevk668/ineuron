{
 "cells": [
  {
   "cell_type": "markdown",
   "id": "cbcd74b1",
   "metadata": {},
   "source": [
    "# Assignment 6"
   ]
  },
  {
   "cell_type": "markdown",
   "id": "d0957f0a",
   "metadata": {},
   "source": [
    "\n",
    "💡 **Question 1**\n",
    "\n",
    "A permutation perm of n + 1 integers of all the integers in the range [0, n] can be represented as a string s of length n where:\n",
    "\n",
    "- s[i] == 'I' if perm[i] < perm[i + 1], and\n",
    "- s[i] == 'D' if perm[i] > perm[i + 1].\n",
    "\n",
    "Given a string s, reconstruct the permutation perm and return it. If there are multiple valid permutations perm, return **any of them**.\n",
    "\n",
    "**Example 1:**\n",
    "\n",
    "**Input:** s = \"IDID\"\n",
    "\n",
    "**Output:**\n",
    "\n",
    "[0,4,1,3,2]"
   ]
  },
  {
   "cell_type": "markdown",
   "id": "b4502e0c",
   "metadata": {},
   "source": [
    "To reconstruct the permutation perm from the given string s, we can use the following approach:\n",
    "\n",
    "Initialize an empty list perm to store the reconstructed permutation.\n",
    "Initialize two variables n and current to store the maximum number in the permutation and the current number to be inserted, respectively. Set n to the length of s and current to 0.\n",
    "Iterate over the characters in s:\n",
    "If the current character is 'I', append current to perm and increment current by 1.\n",
    "If the current character is 'D', insert n to perm at the current index and decrement n by 1.\n",
    "After the loop, append the final value of current to perm.\n",
    "Return the reconstructed permutation perm."
   ]
  },
  {
   "cell_type": "code",
   "execution_count": 1,
   "id": "b45fdad9",
   "metadata": {},
   "outputs": [],
   "source": [
    "def findPermutation(s):\n",
    "    perm = []\n",
    "    n = len(s)\n",
    "    current = 0\n",
    "\n",
    "    for char in s:\n",
    "        if char == 'I':\n",
    "            perm.append(current)\n",
    "            current += 1\n",
    "        elif char == 'D':\n",
    "            perm.append(n)\n",
    "            n -= 1\n",
    "\n",
    "    perm.append(current)\n",
    "    return perm\n",
    "\n",
    "\n",
    " "
   ]
  },
  {
   "cell_type": "code",
   "execution_count": 2,
   "id": "8a35e239",
   "metadata": {},
   "outputs": [
    {
     "name": "stdout",
     "output_type": "stream",
     "text": [
      "[0, 4, 1, 3, 2]\n"
     ]
    }
   ],
   "source": [
    "s = \"IDID\"\n",
    "print(findPermutation(s))"
   ]
  },
  {
   "cell_type": "markdown",
   "id": "e58f10bd",
   "metadata": {},
   "source": [
    "💡 **Question 2**\n",
    "\n",
    "You are given an m x n integer matrix matrix with the following two properties:\n",
    "\n",
    "- Each row is sorted in non-decreasing order.\n",
    "- The first integer of each row is greater than the last integer of the previous row.\n",
    "\n",
    "Given an integer target, return true *if* target *is in* matrix *or* false *otherwise*.\n",
    "\n",
    "You must write a solution in O(log(m * n)) time complexity.\n"
   ]
  },
  {
   "cell_type": "markdown",
   "id": "501e7757",
   "metadata": {},
   "source": [
    "To solve this problem in O(log(m * n)) time complexity, we can perform a modified binary search on the matrix. Here's the algorithm:\n",
    "\n",
    "Initialize two pointers, start and end, to the first and last indices of the matrix, respectively.\n",
    "While start is less than or equal to end, do:\n",
    "Calculate the middle index mid as (start + end) // 2.\n",
    "Convert the mid index to row and column indices using the formula row = mid // n and col = mid % n, where n is the number of columns in the matrix.\n",
    "If matrix[row][col] is equal to the target, return True.\n",
    "If matrix[row][col] is less than the target, update start = mid + 1 to search in the right half of the matrix.\n",
    "If matrix[row][col] is greater than the target, update end = mid - 1 to search in the left half of the matrix.\n",
    "If the target is not found after the while loop, return False."
   ]
  },
  {
   "cell_type": "code",
   "execution_count": 3,
   "id": "9e802734",
   "metadata": {},
   "outputs": [],
   "source": [
    "def searchMatrix(matrix, target):\n",
    "    m = len(matrix)  # Number of rows\n",
    "    n = len(matrix[0])  # Number of columns\n",
    "    start = 0\n",
    "    end = m * n - 1\n",
    "\n",
    "    while start <= end:\n",
    "        mid = (start + end) // 2\n",
    "        row = mid // n\n",
    "        col = mid % n\n",
    "\n",
    "        if matrix[row][col] == target:\n",
    "            return True\n",
    "        elif matrix[row][col] < target:\n",
    "            start = mid + 1\n",
    "        else:\n",
    "            end = mid - 1\n",
    "\n",
    "    return False\n"
   ]
  },
  {
   "cell_type": "code",
   "execution_count": 4,
   "id": "37128ff3",
   "metadata": {},
   "outputs": [
    {
     "name": "stdout",
     "output_type": "stream",
     "text": [
      "True\n"
     ]
    }
   ],
   "source": [
    "matrix = [\n",
    "    [1, 3, 5, 7],\n",
    "    [10, 11, 16, 20],\n",
    "    [23, 30, 34, 60]\n",
    "]\n",
    "target = 3\n",
    "\n",
    "print(searchMatrix(matrix, target))\n"
   ]
  },
  {
   "cell_type": "code",
   "execution_count": 5,
   "id": "c50e5e77",
   "metadata": {},
   "outputs": [],
   "source": [
    "#The target value 3 is present in the matrix, so the algorithm returns True."
   ]
  },
  {
   "cell_type": "markdown",
   "id": "ddaa7c09",
   "metadata": {},
   "source": [
    "💡 **Question 3**\n",
    "\n",
    "Given an array of integers arr, return *true if and only if it is a valid mountain array*.\n",
    "\n",
    "Recall that arr is a mountain array if and only if:\n",
    "\n",
    "- arr.length >= 3\n",
    "- There exists some i with 0 < i < arr.length - 1 such that:\n",
    "    - arr[0] < arr[1] < ... < arr[i - 1] < arr[i]\n",
    "    - arr[i] > arr[i + 1] > ... > arr[arr.length - 1]"
   ]
  },
  {
   "cell_type": "markdown",
   "id": "23a93fe2",
   "metadata": {},
   "source": [
    "To determine if an array arr is a valid mountain array, we can follow these steps:\n",
    "\n",
    "Check if the length of arr is less than 3. If so, return False since a mountain array must have at least three elements.\n",
    "Initialize two pointers, left and right, to the first and last indices of arr, respectively.\n",
    "Move the left pointer to the right until arr[left] is strictly increasing.\n",
    "Move the right pointer to the left until arr[right] is strictly decreasing.\n",
    "If the left pointer is equal to 0 or the right pointer is equal to the last index of arr, return False since there must be a peak element for a valid mountain array.\n",
    "If the left pointer is equal to the right pointer, return True since the peak element separates the strictly increasing and strictly decreasing parts.\n",
    "Otherwise, return False since the strictly increasing and strictly decreasing parts are not separated by a single peak element."
   ]
  },
  {
   "cell_type": "code",
   "execution_count": 6,
   "id": "f0d3c15e",
   "metadata": {},
   "outputs": [],
   "source": [
    "def validMountainArray(arr):\n",
    "    n = len(arr)\n",
    "    if n < 3:\n",
    "        return False\n",
    "\n",
    "    left = 0\n",
    "    right = n - 1\n",
    "\n",
    "    while left < n - 1 and arr[left] < arr[left + 1]:\n",
    "        left += 1\n",
    "\n",
    "    while right > 0 and arr[right] < arr[right - 1]:\n",
    "        right -= 1\n",
    "\n",
    "    if left == 0 or right == n - 1:\n",
    "        return False\n",
    "\n",
    "    return left == right\n"
   ]
  },
  {
   "cell_type": "code",
   "execution_count": 7,
   "id": "1f3f689c",
   "metadata": {},
   "outputs": [
    {
     "name": "stdout",
     "output_type": "stream",
     "text": [
      "False\n",
      "False\n",
      "True\n",
      "False\n",
      "False\n"
     ]
    }
   ],
   "source": [
    "arr1 = [2, 1]\n",
    "arr2 = [3, 5, 5]\n",
    "arr3 = [0, 3, 2, 1]\n",
    "arr4 = [1, 2, 3, 4, 5]\n",
    "arr5 = [5, 4, 3, 2, 1]\n",
    "\n",
    "print(validMountainArray(arr1))  # False\n",
    "print(validMountainArray(arr2))  # False\n",
    "print(validMountainArray(arr3))  # True\n",
    "print(validMountainArray(arr4))  # False\n",
    "print(validMountainArray(arr5))  # False\n"
   ]
  },
  {
   "cell_type": "code",
   "execution_count": 8,
   "id": "eb17585f",
   "metadata": {},
   "outputs": [],
   "source": [
    "#The results indicate whether each array is a valid mountain array or not."
   ]
  },
  {
   "cell_type": "markdown",
   "id": "522d1c29",
   "metadata": {},
   "source": [
    "💡 **Question 4**\n",
    "\n",
    "Given a binary array nums, return *the maximum length of a contiguous subarray with an equal number of* 0 *and* 1.\n",
    "\n",
    "**Example 1:**\n",
    "\n",
    "**Input:** nums = [0,1]\n",
    "\n",
    "**Output:** 2\n",
    "\n",
    "**Explanation:**\n",
    "\n",
    "[0, 1] is the longest contiguous subarray with an equal number of 0 and 1."
   ]
  },
  {
   "cell_type": "markdown",
   "id": "0fc32eb5",
   "metadata": {},
   "source": [
    "To find the maximum length of a contiguous subarray with an equal number of 0 and 1 in a binary array nums, we can use the following approach:\n",
    "\n",
    "Initialize a variable max_len to store the maximum length of the subarray.\n",
    "Initialize a variable count to keep track of the cumulative difference between the number of 0s and 1s encountered so far. Initially, set count to 0.\n",
    "Create a dictionary count_dict to store the cumulative differences encountered along with their corresponding indices. Initialize count_dict with {0: -1} to handle the case when the subarray starts from index 0.\n",
    "Iterate over the elements of nums:\n",
    "If the current element is 0, decrement count by 1.\n",
    "If the current element is 1, increment count by 1.\n",
    "If count is already in count_dict, calculate the length of the subarray as the difference between the current index and the index stored in count_dict[count]. Update max_len if necessary.\n",
    "If count is not in count_dict, add it to count_dict along with the current index.\n",
    "Finally, return max_len as the result."
   ]
  },
  {
   "cell_type": "code",
   "execution_count": 9,
   "id": "b689859b",
   "metadata": {},
   "outputs": [],
   "source": [
    "def findMaxLength(nums):\n",
    "    max_len = 0\n",
    "    count = 0\n",
    "    count_dict = {0: -1}\n",
    "\n",
    "    for i, num in enumerate(nums):\n",
    "        if num == 0:\n",
    "            count -= 1\n",
    "        else:\n",
    "            count += 1\n",
    "\n",
    "        if count in count_dict:\n",
    "            curr_len = i - count_dict[count]\n",
    "            max_len = max(max_len, curr_len)\n",
    "        else:\n",
    "            count_dict[count] = i\n",
    "\n",
    "    return max_len\n"
   ]
  },
  {
   "cell_type": "code",
   "execution_count": 10,
   "id": "d9255484",
   "metadata": {},
   "outputs": [
    {
     "name": "stdout",
     "output_type": "stream",
     "text": [
      "2\n"
     ]
    }
   ],
   "source": [
    "nums = [0, 1]\n",
    "print(findMaxLength(nums))\n"
   ]
  },
  {
   "cell_type": "code",
   "execution_count": 11,
   "id": "f18b953f",
   "metadata": {},
   "outputs": [],
   "source": [
    "#The maximum length of a contiguous subarray with an equal number of 0 and 1 in the binary array [0, 1] is 2."
   ]
  },
  {
   "cell_type": "markdown",
   "id": "6dc19306",
   "metadata": {},
   "source": [
    "\n",
    "💡 **Question 5**\n",
    "\n",
    "The **product sum** of two equal-length arrays a and b is equal to the sum of a[i] * b[i] for all 0 <= i < a.length (**0-indexed**).\n",
    "\n",
    "- For example, if a = [1,2,3,4] and b = [5,2,3,1], the **product sum** would be 1*5 + 2*2 + 3*3 + 4*1 = 22.\n",
    "\n",
    "Given two arrays nums1 and nums2 of length n, return *the **minimum product sum** if you are allowed to **rearrange** the **order** of the elements in* nums1.\n",
    "\n",
    "**Example 1:**\n",
    "\n",
    "**Input:** nums1 = [5,3,4,2], nums2 = [4,2,2,5]\n",
    "\n",
    "**Output:** 40\n",
    "\n",
    "**Explanation:**\n",
    "\n",
    "We can rearrange nums1 to become [3,5,4,2]. The product sum of [3,5,4,2] and [4,2,2,5] is 3*4 + 5*2 + 4*2 + 2*5 = 40.\n",
    "\n"
   ]
  },
  {
   "cell_type": "markdown",
   "id": "946b8881",
   "metadata": {},
   "source": [
    "To find the minimum product sum of two arrays nums1 and nums2 by rearranging the order of elements in nums1, we can follow these steps:\n",
    "\n",
    "Sort nums1 and nums2 in non-decreasing order.\n",
    "Initialize a variable min_product_sum to store the minimum product sum, initially set to 0.\n",
    "Iterate over the elements in nums1 and nums2 simultaneously, multiplying each pair of corresponding elements and adding the result to min_product_sum.\n",
    "Return min_product_sum as the minimum product sum."
   ]
  },
  {
   "cell_type": "code",
   "execution_count": 12,
   "id": "e9ee7142",
   "metadata": {},
   "outputs": [],
   "source": [
    "def minProductSum(nums1, nums2):\n",
    "    nums1.sort()\n",
    "    nums2.sort(reverse=True)\n",
    "    min_product_sum = 0\n",
    "\n",
    "    for i in range(len(nums1)):\n",
    "        min_product_sum += nums1[i] * nums2[i]\n",
    "\n",
    "    return min_product_sum"
   ]
  },
  {
   "cell_type": "code",
   "execution_count": 13,
   "id": "c43a4af5",
   "metadata": {},
   "outputs": [
    {
     "name": "stdout",
     "output_type": "stream",
     "text": [
      "40\n"
     ]
    }
   ],
   "source": [
    "nums1 = [5, 3, 4, 2]\n",
    "nums2 = [4, 2, 2, 5]\n",
    "print(minProductSum(nums1, nums2))\n"
   ]
  },
  {
   "cell_type": "code",
   "execution_count": 14,
   "id": "f4248e61",
   "metadata": {},
   "outputs": [],
   "source": [
    "# The minimum product sum of the rearranged arrays [3, 5, 4, 2] and [4, 2, 2, 5] is 40"
   ]
  },
  {
   "cell_type": "markdown",
   "id": "a70b51c8",
   "metadata": {},
   "source": [
    "\n",
    "💡 **Question 6**\n",
    "\n",
    "An integer array original is transformed into a **doubled** array changed by appending **twice the value** of every element in original, and then randomly **shuffling** the resulting array.\n",
    "\n",
    "Given an array changed, return original *if* changed *is a **doubled** array. If* changed *is not a **doubled** array, return an empty array. The elements in* original *may be returned in **any** order*.\n",
    "\n",
    "**Example 1:**\n",
    "\n",
    "**Input:** changed = [1,3,4,2,6,8]\n",
    "\n",
    "**Output:** [1,3,4]\n",
    "\n",
    "**Explanation:** One possible original array could be [1,3,4]:\n",
    "\n",
    "- Twice the value of 1 is 1 * 2 = 2.\n",
    "- Twice the value of 3 is 3 * 2 = 6.\n",
    "- Twice the value of 4 is 4 * 2 = 8.\n",
    "\n",
    "Other original arrays could be [4,3,1] or [3,1,4]."
   ]
  },
  {
   "cell_type": "markdown",
   "id": "da26132e",
   "metadata": {},
   "source": [
    "To determine the original array given the transformed array changed, we can follow these steps:\n",
    "\n",
    "Sort the changed array in ascending order.\n",
    "Initialize an empty list original to store the original array.\n",
    "Iterate over the elements in the sorted changed array:\n",
    "If the current element is divisible by 2 and the half value is present in the original list, remove the half value from original.\n",
    "Otherwise, append the current element divided by 2 to the original list.\n",
    "If the original list is empty at the end, return an empty array since changed is not a valid doubled array.\n",
    "Otherwise, return the original list."
   ]
  },
  {
   "cell_type": "code",
   "execution_count": 44,
   "id": "6d0aaf94",
   "metadata": {},
   "outputs": [],
   "source": [
    "from collections import Counter\n",
    "\n",
    "def findOriginalArray(changed):\n",
    "    if len(changed) % 2 != 0:\n",
    "        return []\n",
    "\n",
    "    freq_map = Counter(changed)\n",
    "    double_map = Counter([num * 2 for num in changed])\n",
    "    original = []\n",
    "\n",
    "    for num in changed:\n",
    "        if freq_map[num] > 0 and double_map[num] > 0:\n",
    "            freq_map[num] -= 1\n",
    "            double_map[num] -= 1\n",
    "            original.append(num)\n",
    "        else:\n",
    "            return []\n",
    "\n",
    "    return original\n"
   ]
  },
  {
   "cell_type": "code",
   "execution_count": 45,
   "id": "dec8ade0",
   "metadata": {},
   "outputs": [
    {
     "name": "stdout",
     "output_type": "stream",
     "text": [
      "[]\n"
     ]
    }
   ],
   "source": [
    "changed = [1, 3, 4, 2, 6, 8]\n",
    "print(findOriginalArray(changed))"
   ]
  },
  {
   "cell_type": "markdown",
   "id": "78166c1e",
   "metadata": {},
   "source": [
    "💡 Question 7\n",
    "\n",
    "Given a positive integer n, generate an n x n matrix filled with elements from 1 to n2 in spiral order."
   ]
  },
  {
   "cell_type": "markdown",
   "id": "897348f5",
   "metadata": {},
   "source": [
    "Initialize the matrix with zeros. Set the boundaries for the top, bottom, left, and right sides of the matrix. Initialize top to 0, bottom to n-1, left to 0, and right to n-1. Initialize a variable num to 1 to keep track of the current number to be filled in the matrix. Use a while loop that continues until num reaches n^2. Within the loop, fill the top row of the matrix from left to right, incrementing num at each position. Increment top to exclude the top row from future iterations. Fill the right column of the matrix from top to bottom, incrementing num at each position. Decrement right to exclude the right column from future iterations. Fill the bottom row of the matrix from right to left, incrementing num at each position. Decrement bottom to exclude the bottom row from future iterations. Fill the left column of the matrix from bottom to top, incrementing num at each position. Increment left to exclude the left column from future iterations. Return the generated matrix."
   ]
  },
  {
   "cell_type": "code",
   "execution_count": 24,
   "id": "16adca09",
   "metadata": {},
   "outputs": [],
   "source": [
    "def generateMatrix(n):\n",
    "    matrix = [[0] * n for _ in range(n)]\n",
    "    top = 0\n",
    "    bottom = n - 1\n",
    "    left = 0\n",
    "    right = n - 1\n",
    "    num = 1\n",
    "\n",
    "    while num <= n * n:\n",
    "        for i in range(left, right + 1):\n",
    "            matrix[top][i] = num\n",
    "            num += 1\n",
    "        top += 1\n",
    "\n",
    "        for i in range(top, bottom + 1):\n",
    "            matrix[i][right] = num\n",
    "            num += 1\n",
    "        right -= 1\n",
    "\n",
    "        for i in range(right, left - 1, -1):\n",
    "            matrix[bottom][i] = num\n",
    "            num += 1\n",
    "        bottom -= 1\n",
    "\n",
    "        for i in range(bottom, top - 1, -1):\n",
    "            matrix[i][left] = num\n",
    "            num += 1\n",
    "        left += 1\n",
    "\n",
    "    return matrix\n"
   ]
  },
  {
   "cell_type": "code",
   "execution_count": 25,
   "id": "3d8b3dee",
   "metadata": {},
   "outputs": [
    {
     "name": "stdout",
     "output_type": "stream",
     "text": [
      "[[1, 2, 3], [8, 9, 4], [7, 6, 5]]\n"
     ]
    }
   ],
   "source": [
    "print(generateMatrix(3))\n"
   ]
  },
  {
   "cell_type": "code",
   "execution_count": 26,
   "id": "d0238d70",
   "metadata": {},
   "outputs": [],
   "source": [
    "#The generated matrix is filled with elements from 1 to 9 in spiral order."
   ]
  },
  {
   "cell_type": "markdown",
   "id": "ae944cb6",
   "metadata": {},
   "source": [
    "💡 **Question 8**\n",
    "\n",
    "Given two [sparse matrices](https://en.wikipedia.org/wiki/Sparse_matrix) mat1 of size m x k and mat2 of size k x n, return the result of mat1 x mat2. You may assume that multiplication is always possible.\n"
   ]
  },
  {
   "cell_type": "markdown",
   "id": "12c39332",
   "metadata": {},
   "source": [
    "**Example 1:**\n",
    "\n",
    "To multiply two sparse matrices mat1 and mat2, we can use the following approach:\n",
    "\n",
    "Initialize a result matrix result of size m x n with all elements initialized to 0.\n",
    "Iterate over the rows of mat1 using index i.\n",
    "Iterate over the columns of mat2 using index j.\n",
    "Iterate over the range k, where k is the number of columns in mat1 or the number of rows in mat2.\n",
    "Multiply mat1[i][k] with mat2[k][j].\n",
    "Add the product to the corresponding element in the result matrix result[i][j].\n",
    "Return the resulting matrix result."
   ]
  },
  {
   "cell_type": "code",
   "execution_count": 27,
   "id": "a98e6488",
   "metadata": {},
   "outputs": [],
   "source": [
    "def multiply(mat1, mat2):\n",
    "    m = len(mat1)\n",
    "    k = len(mat1[0])\n",
    "    n = len(mat2[0])\n",
    "\n",
    "    result = [[0] * n for _ in range(m)]\n",
    "\n",
    "    for i in range(m):\n",
    "        for j in range(n):\n",
    "            for x in range(k):\n",
    "                result[i][j] += mat1[i][x] * mat2[x][j]\n",
    "\n",
    "    return result"
   ]
  },
  {
   "cell_type": "code",
   "execution_count": 28,
   "id": "8f976a99",
   "metadata": {},
   "outputs": [
    {
     "name": "stdout",
     "output_type": "stream",
     "text": [
      "[[7, 0, 0], [-7, 0, 3]]\n"
     ]
    }
   ],
   "source": [
    "mat1 = [[1, 0, 0], [-1, 0, 3]]\n",
    "mat2 = [[7, 0, 0], [0, 0, 0], [0, 0, 1]]\n",
    "print(multiply(mat1, mat2))"
   ]
  },
  {
   "cell_type": "code",
   "execution_count": 29,
   "id": "b036b6ca",
   "metadata": {},
   "outputs": [],
   "source": [
    "#The result of multiplying mat1 with mat2 is [[7, 0, 0], [-7, 0, 3]]."
   ]
  },
  {
   "cell_type": "code",
   "execution_count": null,
   "id": "c1cfdfc3",
   "metadata": {},
   "outputs": [],
   "source": []
  },
  {
   "cell_type": "code",
   "execution_count": null,
   "id": "85ac885d",
   "metadata": {},
   "outputs": [],
   "source": []
  }
 ],
 "metadata": {
  "kernelspec": {
   "display_name": "Python 3",
   "language": "python",
   "name": "python3"
  },
  "language_info": {
   "codemirror_mode": {
    "name": "ipython",
    "version": 3
   },
   "file_extension": ".py",
   "mimetype": "text/x-python",
   "name": "python",
   "nbconvert_exporter": "python",
   "pygments_lexer": "ipython3",
   "version": "3.8.8"
  }
 },
 "nbformat": 4,
 "nbformat_minor": 5
}
