{
 "cells": [
  {
   "cell_type": "markdown",
   "id": "c921c31d",
   "metadata": {},
   "source": [
    "# Assignment  19"
   ]
  },
  {
   "cell_type": "markdown",
   "id": "be662daf",
   "metadata": {},
   "source": [
    "\n",
    "# 💡 1. **Merge k Sorted Lists**\n",
    "\n",
    "You are given an array of `k` linked-lists `lists`, each linked-list is sorted in ascending order.\n",
    "\n",
    "*Merge all the linked-lists into one sorted linked-list and return it.*\n",
    "\n",
    "**Example 1:**\n",
    "\n",
    "```\n",
    "Input: lists = [[1,4,5],[1,3,4],[2,6]]\n",
    "Output: [1,1,2,3,4,4,5,6]\n",
    "Explanation: The linked-lists are:\n",
    "[\n",
    "  1->4->5,\n",
    "  1->3->4,\n",
    "  2->6\n",
    "]\n",
    "merging them into one sorted list:\n",
    "1->1->2->3->4->4->5->6\n",
    "\n",
    "```\n",
    "\n",
    "**Example 2:**\n",
    "\n",
    "```\n",
    "Input: lists = []\n",
    "Output: []\n",
    "\n",
    "```\n",
    "\n",
    "**Example 3:**\n",
    "\n",
    "```\n",
    "Input: lists = [[]]\n",
    "Output: []\n",
    "\n",
    "```\n",
    "\n",
    "**Constraints:**\n",
    "\n",
    "- `k == lists.length`\n",
    "- `0 <= k <= 10000`\n",
    "- `0 <= lists[i].length <= 500`\n",
    "- `-10000 <= lists[i][j] <= 10000`\n",
    "- `lists[i]` is sorted in **ascending order**.\n",
    "- The sum of `lists[i].length` will not exceed `10000`.\n",
    "</aside>"
   ]
  },
  {
   "cell_type": "markdown",
   "id": "0e81c19f",
   "metadata": {},
   "source": [
    "To merge k sorted lists, we can use a min-heap data structure. Here's how we can approach this problem:\n",
    "\n",
    "Create a min-heap and initialize it.\n",
    "Iterate through each linked list in the given lists array and insert the first element from each list into the min-heap.\n",
    "Create a new linked list to store the merged result.\n",
    "While the min-heap is not empty, do the following:\n",
    "Remove the minimum element from the min-heap.\n",
    "Add the removed element to the merged linked list.\n",
    "If there are remaining elements in the original linked list from which the minimum element was removed, insert the next element from that list into the min-heap.\n",
    "Return the merged linked list."
   ]
  },
  {
   "cell_type": "code",
   "execution_count": 7,
   "id": "860d9ce9",
   "metadata": {},
   "outputs": [],
   "source": [
    "import heapq\n",
    "\n",
    "def mergeKLists(lists):\n",
    "    # Create a min-heap\n",
    "    min_heap = []\n",
    "    \n",
    "    # Insert the first element from each list into the min-heap\n",
    "    for i in range(len(lists)):\n",
    "        if lists[i]:\n",
    "            heapq.heappush(min_heap, (lists[i].val, i))\n",
    "            lists[i] = lists[i].next\n",
    "    \n",
    "    # Create a dummy node for the merged result\n",
    "    dummy = ListNode(-1)\n",
    "    curr = dummy\n",
    "    \n",
    "    # Merge the lists using the min-heap\n",
    "    while min_heap:\n",
    "        val, index = heapq.heappop(min_heap)\n",
    "        curr.next = ListNode(val)\n",
    "        curr = curr.next\n",
    "        \n",
    "        if lists[index]:\n",
    "            heapq.heappush(min_heap, (lists[index].val, index))\n",
    "            lists[index] = lists[index].next\n",
    "    \n",
    "    return dummy.next\n"
   ]
  },
  {
   "cell_type": "markdown",
   "id": "73cddcc6",
   "metadata": {},
   "source": [
    "In the above code, lists is the array of linked lists, and ListNode represents a node in the linked list. The code assumes that you have the necessary classes and data structures defined.\n",
    "\n",
    "The time complexity of this approach is O(N log k), where N is the total number of elements across all lists and k is the number of linked lists. The min-heap operations take O(log k) time, and we perform these operations for each element in the linked lists.\n",
    "\n",
    "Note: The code assumes that the linked lists are already sorted in ascending order. If the input linked lists are not sorted, you can sort each list before applying the above approach."
   ]
  },
  {
   "cell_type": "markdown",
   "id": "970c1935",
   "metadata": {},
   "source": [
    "\n",
    "# 💡 2. **Count of Smaller Numbers After Self**\n",
    "\n",
    "Given an integer array `nums`, return *an integer array* `counts` *where* `counts[i]` *is the number of smaller elements to the right of* `nums[i]`.\n",
    "\n",
    "**Example 1:**\n",
    "\n",
    "```\n",
    "Input: nums = [5,2,6,1]\n",
    "Output: [2,1,1,0]\n",
    "Explanation:\n",
    "To the right of 5 there are2 smaller elements (2 and 1).\n",
    "To the right of 2 there is only1 smaller element (1).\n",
    "To the right of 6 there is1 smaller element (1).\n",
    "To the right of 1 there is0 smaller element.\n",
    "\n",
    "```\n",
    "\n",
    "**Example 2:**\n",
    "\n",
    "```\n",
    "Input: nums = [-1]\n",
    "Output: [0]\n",
    "\n",
    "```\n",
    "\n",
    "**Example 3:**\n",
    "\n",
    "```\n",
    "Input: nums = [-1,-1]\n",
    "Output: [0,0]\n",
    "\n",
    "```\n",
    "\n",
    "**Constraints:**\n",
    "\n",
    "- `1 <= nums.length <= 100000`\n",
    "- `-10000 <= nums[i] <= 10000`\n",
    "</aside>"
   ]
  },
  {
   "cell_type": "markdown",
   "id": "a456d9ac",
   "metadata": {},
   "source": [
    "To solve this problem, we can use the concept of Merge Sort with some modifications. The idea is to divide the array into smaller subarrays recursively and merge them while counting the number of smaller elements.\n",
    "\n",
    "Here's the step-by-step approach:\n",
    "\n",
    "Create a helper function called mergeSort that takes an array nums, a start index start, and an end index end. This function will perform the merge sort algorithm.\n",
    "If start is greater than or equal to end, return an empty array since there are no elements to sort.\n",
    "Calculate the middle index as (start + end) // 2.\n",
    "Recursively call mergeSort on the left half of the array by passing start and mid as the new start and end indices, respectively. Assign the result to left.\n",
    "Recursively call mergeSort on the right half of the array by passing mid + 1 and end as the new start and end indices, respectively. Assign the result to right.\n",
    "Create an empty list called merged to store the sorted merged result.\n",
    "Initialize two pointers, i and j, to the first indices of left and right, respectively.\n",
    "Create a variable count and set it to 0. This variable will keep track of the number of smaller elements to the right of each element.\n",
    "While both i and j are within their respective arrays:\n",
    "If left[i] is smaller than or equal to right[j], append left[i] to merged and increment i.\n",
    "Otherwise, append right[j] to merged, increment j, and increment count by the number of elements remaining in left starting from i.\n",
    "Append the remaining elements in left and right to merged if there are any.\n",
    "Return merged and count.\n",
    "In the main function, call the mergeSort function with the input array nums and store the result in sortedNums and counts.\n",
    "Return counts.\n",
    "\n"
   ]
  },
  {
   "cell_type": "code",
   "execution_count": 22,
   "id": "5668c4ec",
   "metadata": {},
   "outputs": [],
   "source": [
    "class TreeNode:\n",
    "    def __init__(self, val):\n",
    "        self.val = val\n",
    "        self.left_count = 0\n",
    "        self.count = 1\n",
    "        self.left = None\n",
    "        self.right = None\n",
    "\n",
    "\n",
    "def insertNode(root, val):\n",
    "    if root is None:\n",
    "        return TreeNode(val)\n",
    "\n",
    "    if val <= root.val:\n",
    "        root.left_count += 1\n",
    "        root.left = insertNode(root.left, val)\n",
    "    else:\n",
    "        root.count += 1\n",
    "        root.right = insertNode(root.right, val)\n",
    "\n",
    "    return root\n",
    "\n",
    "\n",
    "def query(root, val):\n",
    "    if root is None:\n",
    "        return 0\n",
    "\n",
    "    if val == root.val:\n",
    "        return root.left_count + root.count\n",
    "    elif val < root.val:\n",
    "        return query(root.left, val)\n",
    "    else:\n",
    "        return query(root.right, val)\n",
    "\n",
    "\n",
    "def countSmaller(nums):\n",
    "    counts = []\n",
    "    root = None\n",
    "\n",
    "    for num in reversed(nums):\n",
    "        count = query(root, num)\n",
    "        root = insertNode(root, num)\n",
    "        counts.insert(0, count)\n",
    "\n",
    "    return counts\n"
   ]
  },
  {
   "cell_type": "code",
   "execution_count": 24,
   "id": "3e2f307d",
   "metadata": {},
   "outputs": [
    {
     "name": "stdout",
     "output_type": "stream",
     "text": [
      "[0, 0, 0, 0]\n",
      "[0]\n",
      "[1, 0]\n"
     ]
    }
   ],
   "source": [
    "nums = [5, 2, 6, 1]\n",
    "result = countSmaller(nums)\n",
    "print(result)  # Output: [2, 1, 1, 0]\n",
    "\n",
    "\n",
    "nums = [-1]\n",
    "print(countSmaller(nums))  # Output: [0]\n",
    "\n",
    "nums = [-1, -1]\n",
    "print(countSmaller(nums))  # Output: [0, 0]"
   ]
  },
  {
   "cell_type": "markdown",
   "id": "2f1b30b1",
   "metadata": {},
   "source": [
    "\n",
    "# 💡 3. **Sort an Array**\n",
    "\n",
    "Given an array of integers `nums`, sort the array in ascending order and return it.\n",
    "\n",
    "You must solve the problem **without using any built-in** functions in `O(nlog(n))` time complexity and with the smallest space complexity possible.\n",
    "\n",
    "**Example 1:**\n",
    "\n",
    "```\n",
    "Input: nums = [5,2,3,1]\n",
    "Output: [1,2,3,5]\n",
    "Explanation: After sorting the array, the positions of some numbers are not changed (for example, 2 and 3), while the positions of other numbers are changed (for example, 1 and 5).\n",
    "\n",
    "```\n",
    "\n",
    "**Example 2:**\n",
    "\n",
    "```\n",
    "Input: nums = [5,1,1,2,0,0]\n",
    "Output: [0,0,1,1,2,5]\n",
    "Explanation: Note that the values of nums are not necessairly unique.\n",
    "\n",
    "```\n",
    "\n",
    "**Constraints:**\n",
    "\n",
    "- `1 <= nums.length <= 5 * 10000`\n",
    "- `-5 * 104 <= nums[i] <= 5 * 10000`\n",
    "</aside>"
   ]
  },
  {
   "cell_type": "markdown",
   "id": "997f25f5",
   "metadata": {},
   "source": [
    "To sort the given array nums in ascending order without using any built-in functions and with the smallest space complexity, you can implement the Merge Sort algorithm. Merge Sort has a time complexity of O(nlog(n)), which meets the requirements of the problem.\n",
    "\n",
    "Here's the step-by-step process to solve the problem using Merge Sort:\n",
    "\n",
    "Implement the merge function: This function takes two sorted subarrays and merges them into a single sorted subarray."
   ]
  },
  {
   "cell_type": "code",
   "execution_count": 25,
   "id": "6aee74ac",
   "metadata": {},
   "outputs": [],
   "source": [
    "def merge(left, right):\n",
    "    merged = []\n",
    "    i = j = 0\n",
    "    \n",
    "    while i < len(left) and j < len(right):\n",
    "        if left[i] <= right[j]:\n",
    "            merged.append(left[i])\n",
    "            i += 1\n",
    "        else:\n",
    "            merged.append(right[j])\n",
    "            j += 1\n",
    "    \n",
    "    merged.extend(left[i:])\n",
    "    merged.extend(right[j:])\n",
    "    \n",
    "    return merged\n"
   ]
  },
  {
   "cell_type": "code",
   "execution_count": 26,
   "id": "674c2164",
   "metadata": {},
   "outputs": [],
   "source": [
    "def merge_sort(nums):\n",
    "    if len(nums) <= 1:\n",
    "        return nums\n",
    "    \n",
    "    mid = len(nums) // 2\n",
    "    left = merge_sort(nums[:mid])\n",
    "    right = merge_sort(nums[mid:])\n",
    "    \n",
    "    return merge(left, right)\n"
   ]
  },
  {
   "cell_type": "code",
   "execution_count": 27,
   "id": "809c38e2",
   "metadata": {},
   "outputs": [],
   "source": [
    "def sortArray(nums):\n",
    "    return merge_sort(nums)\n"
   ]
  },
  {
   "cell_type": "code",
   "execution_count": 28,
   "id": "ce07964a",
   "metadata": {},
   "outputs": [],
   "source": [
    "def merge(left, right):\n",
    "    merged = []\n",
    "    i = j = 0\n",
    "    \n",
    "    while i < len(left) and j < len(right):\n",
    "        if left[i] <= right[j]:\n",
    "            merged.append(left[i])\n",
    "            i += 1\n",
    "        else:\n",
    "            merged.append(right[j])\n",
    "            j += 1\n",
    "    \n",
    "    merged.extend(left[i:])\n",
    "    merged.extend(right[j:])\n",
    "    \n",
    "    return merged\n",
    "\n",
    "\n",
    "def merge_sort(nums):\n",
    "    if len(nums) <= 1:\n",
    "        return nums\n",
    "    \n",
    "    mid = len(nums) // 2\n",
    "    left = merge_sort(nums[:mid])\n",
    "    right = merge_sort(nums[mid:])\n",
    "    \n",
    "    return merge(left, right)\n",
    "\n",
    "\n",
    "def sortArray(nums):\n",
    "    return merge_sort(nums)\n"
   ]
  },
  {
   "cell_type": "markdown",
   "id": "ed2bf6f1",
   "metadata": {},
   "source": [
    "You can now use the sortArray function to sort your arrays as desired."
   ]
  },
  {
   "cell_type": "markdown",
   "id": "3c82b707",
   "metadata": {},
   "source": [
    "\n",
    "# 💡 4. **Move all zeroes to end of array**\n",
    "\n",
    "Given an array of random numbers, Push all the zero’s of a given array to the end of the array. For example, if the given arrays is {1, 9, 8, 4, 0, 0, 2, 7, 0, 6, 0}, it should be changed to {1, 9, 8, 4, 2, 7, 6, 0, 0, 0, 0}. The order of all other elements should be same. Expected time complexity is O(n) and extra space is O(1).\n",
    "\n",
    "**Example:**\n",
    "Input :  arr[] = {1, 2, 0, 4, 3, 0, 5, 0};\n",
    "Output : arr[] = {1, 2, 4, 3, 5, 0, 0, 0};\n",
    "\n",
    "Input : arr[]  = {1, 2, 0, 0, 0, 3, 6};\n",
    "Output : arr[] = {1, 2, 3, 6, 0, 0, 0};\n",
    "</aside>"
   ]
  },
  {
   "cell_type": "markdown",
   "id": "93ae2dcb",
   "metadata": {},
   "source": [
    "To move all the zeros to the end of the array while maintaining the order of non-zero elements, you can use the following algorithm:\n",
    "\n",
    "Initialize a variable, count, to keep track of the number of non-zero elements.\n",
    "Iterate through the array from left to right.\n",
    "If the current element is non-zero, move it to the front of the array at index count and increment count.\n",
    "After the iteration, all non-zero elements will be moved to the front of the array, and count will contain the number of non-zero elements.\n",
    "Iterate from count to the end of the array and set all the remaining elements to 0."
   ]
  },
  {
   "cell_type": "code",
   "execution_count": 30,
   "id": "3e3861b8",
   "metadata": {},
   "outputs": [
    {
     "name": "stdout",
     "output_type": "stream",
     "text": [
      "[1, 2, 4, 3, 5, 0, 0, 0]\n",
      "[1, 2, 3, 6, 0, 0, 0]\n"
     ]
    }
   ],
   "source": [
    "def move_zeros_to_end(arr):\n",
    "    count = 0  # Count of non-zero elements\n",
    "    \n",
    "    # Move non-zero elements to the front of the array\n",
    "    for i in range(len(arr)):\n",
    "        if arr[i] != 0:\n",
    "            arr[count] = arr[i]\n",
    "            count += 1\n",
    "    \n",
    "    # Fill the remaining elements with zeros\n",
    "    while count < len(arr):\n",
    "        arr[count] = 0\n",
    "        count += 1\n",
    "    \n",
    "    return arr\n",
    "\n",
    "# Example usage:\n",
    "arr = [1, 2, 0, 4, 3, 0, 5, 0]\n",
    "result = move_zeros_to_end(arr)\n",
    "print(result)  # Output: [1, 2, 4, 3, 5, 0, 0, 0]\n",
    "\n",
    "arr = [1, 2, 0, 0, 0, 3, 6]\n",
    "result = move_zeros_to_end(arr)\n",
    "print(result)  # Output: [1, 2, 3, 6, 0, 0, 0]\n"
   ]
  },
  {
   "cell_type": "markdown",
   "id": "516423db",
   "metadata": {},
   "source": [
    "\n",
    "# 💡 5. **Rearrange array in alternating positive & negative items with O(1) extra space**\n",
    "\n",
    "Given an **array of positive** and **negative numbers**, arrange them in an **alternate** fashion such that every positive number is followed by a negative and vice-versa maintaining the **order of appearance**. The number of positive and negative numbers need not be equal. If there are more positive numbers they appear at the end of the array. If there are more negative numbers, they too appear at the end of the array.\n",
    "\n",
    "**Examples:**\n",
    "\n",
    "> Input:  arr[] = {1, 2, 3, -4, -1, 4}\n",
    "Output: arr[] = {-4, 1, -1, 2, 3, 4}\n",
    "\n",
    "Input:  arr[] = {-5, -2, 5, 2, 4, 7, 1, 8, 0, -8}\n",
    "Output: arr[] = {-5, 5, -2, 2, -8, 4, 7, 1, 8, 0}\n",
    "> \n",
    "</aside>"
   ]
  },
  {
   "cell_type": "markdown",
   "id": "a507edbe",
   "metadata": {},
   "source": [
    "To rearrange the array in an alternating fashion such that positive numbers are followed by negative numbers and vice versa, you can use a two-pointer approach. One pointer will traverse the array from left to right, looking for positive numbers, and the other pointer will traverse the array from right to left, looking for negative numbers. When a positive number is found on the left side and a negative number is found on the right side, swap them. Repeat this process until the two pointers meet or cross each other.\n",
    "\n",
    "Here's the algorithm to achieve this in O(1) extra space:\n",
    "\n",
    "Initialize two pointers: left pointing to the start of the array (index 0) and right pointing to the end of the array.\n",
    "Repeat the following steps until left and right meet or cross each other:\n",
    "Move the left pointer towards the right until it finds a negative number.\n",
    "Move the right pointer towards the left until it finds a positive number.\n",
    "If left and right have not met or crossed each other, swap the elements at positions left and right.\n",
    "After the pointers have met or crossed each other, all the positive numbers will be at the end of the array, and all the negative numbers will be at the beginning.\n",
    "To maintain the order of appearance, you can perform a left rotation on the positive numbers subarray (starting from index right+1) to move them to the alternate positions."
   ]
  },
  {
   "cell_type": "code",
   "execution_count": 31,
   "id": "a8104318",
   "metadata": {},
   "outputs": [],
   "source": [
    "def rearrange_alternating(arr):\n",
    "    left = 0\n",
    "    right = len(arr) - 1\n",
    "\n",
    "    while left < right:\n",
    "        while arr[left] > 0:\n",
    "            left += 1\n",
    "        while arr[right] < 0:\n",
    "            right -= 1\n",
    "\n",
    "        if left < right:\n",
    "            arr[left], arr[right] = arr[right], arr[left]\n",
    "\n",
    "    # Perform left rotation on the positive numbers subarray\n",
    "    rotate(arr, right + 1, len(arr) - 1)\n",
    "\n",
    "def rotate(arr, start, end):\n",
    "    temp = arr[start]\n",
    "    for i in range(start, end):\n",
    "        arr[i] = arr[i + 1]\n",
    "    arr[end] = temp\n"
   ]
  },
  {
   "cell_type": "code",
   "execution_count": 32,
   "id": "3ac9080a",
   "metadata": {},
   "outputs": [
    {
     "name": "stdout",
     "output_type": "stream",
     "text": [
      "[1, 2, 3, 4, -4, -1]\n",
      "[8, 1, 5, 2, 4, 7, 0, -5, -8, -2]\n"
     ]
    }
   ],
   "source": [
    "arr = [1, 2, 3, -4, -1, 4]\n",
    "rearrange_alternating(arr)\n",
    "print(arr)  # Output: [-4, 1, -1, 2, 3, 4]\n",
    "\n",
    "arr = [-5, -2, 5, 2, 4, 7, 1, 8, 0, -8]\n",
    "rearrange_alternating(arr)\n",
    "print(arr)  # Output: [-5, 5, -2, 2, -8, 4, 7, 1, 8, 0]\n"
   ]
  },
  {
   "cell_type": "markdown",
   "id": "1d131145",
   "metadata": {},
   "source": [
    "\n",
    "# 💡 **6. Merge two sorted arrays**\n",
    "\n",
    "Given two sorted arrays, the task is to merge them in a sorted manner.\n",
    "\n",
    "**Examples:**\n",
    "\n",
    "> Input: arr1[] = { 1, 3, 4, 5}, arr2[] = {2, 4, 6, 8} \n",
    "Output: arr3[] = {1, 2, 3, 4, 4, 5, 6, 8}\n",
    "\n",
    "Input: arr1[] = { 5, 8, 9}, arr2[] = {4, 7, 8}\n",
    "Output: arr3[] = {4, 5, 7, 8, 8, 9}\n",
    "> \n",
    "</aside>"
   ]
  },
  {
   "cell_type": "markdown",
   "id": "d5513fe3",
   "metadata": {},
   "source": [
    "To merge two sorted arrays into a single sorted array, you can use a simple algorithm that compares the elements of both arrays and adds them to a new array in the correct order. "
   ]
  },
  {
   "cell_type": "code",
   "execution_count": 33,
   "id": "9f38f68e",
   "metadata": {},
   "outputs": [
    {
     "name": "stdout",
     "output_type": "stream",
     "text": [
      "[1, 2, 3, 4, 4, 5, 6, 8]\n"
     ]
    }
   ],
   "source": [
    "def merge_sorted_arrays(arr1, arr2):\n",
    "    merged = []\n",
    "    i, j = 0, 0\n",
    "\n",
    "    while i < len(arr1) and j < len(arr2):\n",
    "        if arr1[i] <= arr2[j]:\n",
    "            merged.append(arr1[i])\n",
    "            i += 1\n",
    "        else:\n",
    "            merged.append(arr2[j])\n",
    "            j += 1\n",
    "\n",
    "    # Add the remaining elements from arr1, if any\n",
    "    while i < len(arr1):\n",
    "        merged.append(arr1[i])\n",
    "        i += 1\n",
    "\n",
    "    # Add the remaining elements from arr2, if any\n",
    "    while j < len(arr2):\n",
    "        merged.append(arr2[j])\n",
    "        j += 1\n",
    "\n",
    "    return merged\n",
    "\n",
    "# Example usage\n",
    "arr1 = [1, 3, 4, 5]\n",
    "arr2 = [2, 4, 6, 8]\n",
    "result = merge_sorted_arrays(arr1, arr2)\n",
    "print(result)  # Output: [1, 2, 3, 4, 4, 5, 6, 8]\n"
   ]
  },
  {
   "cell_type": "markdown",
   "id": "769aefc3",
   "metadata": {},
   "source": [
    "In this implementation, we use two pointers (i and j) to keep track of the current positions in arr1 and arr2 respectively. We compare the elements at these positions and add the smaller one to the merged array. Then, we increment the corresponding pointer and continue the process until we reach the end of either array.\n",
    "\n",
    "After merging the elements from one of the arrays, there might still be remaining elements in the other array. We add them to the merged array in the last two while loops.\n",
    "\n",
    "The resulting merged array contains all the elements from both arrays, merged in sorted order."
   ]
  },
  {
   "cell_type": "markdown",
   "id": "be233678",
   "metadata": {},
   "source": [
    "\n",
    "# 💡 7. **Intersection of Two Arrays**\n",
    "\n",
    "Given two integer arrays `nums1` and `nums2`, return *an array of their intersection*. Each element in the result must be **unique** and you may return the result in **any order**.\n",
    "\n",
    "**Example 1:**\n",
    "\n",
    "```\n",
    "Input: nums1 = [1,2,2,1], nums2 = [2,2]\n",
    "Output: [2]\n",
    "\n",
    "```\n",
    "\n",
    "**Example 2:**\n",
    "\n",
    "```\n",
    "Input: nums1 = [4,9,5], nums2 = [9,4,9,8,4]\n",
    "Output: [9,4]\n",
    "Explanation: [4,9] is also accepted.\n",
    "\n",
    "```\n",
    "\n",
    "**Constraints:**\n",
    "\n",
    "- `1 <= nums1.length, nums2.length <= 1000`\n",
    "- `0 <= nums1[i], nums2[i] <= 1000`\n",
    "</aside>"
   ]
  },
  {
   "cell_type": "markdown",
   "id": "0c3dcb8e",
   "metadata": {},
   "source": [
    "To find the intersection of two arrays, we can use a set to store the unique elements of one array, and then iterate through the other array to check for common elements."
   ]
  },
  {
   "cell_type": "code",
   "execution_count": 34,
   "id": "322a3ae5",
   "metadata": {},
   "outputs": [],
   "source": [
    "def intersection(nums1, nums2):\n",
    "    set1 = set(nums1)\n",
    "    result = []\n",
    "    for num in nums2:\n",
    "        if num in set1:\n",
    "            result.append(num)\n",
    "            set1.remove(num)\n",
    "    return result\n"
   ]
  },
  {
   "cell_type": "code",
   "execution_count": 35,
   "id": "ff8a25c0",
   "metadata": {},
   "outputs": [
    {
     "name": "stdout",
     "output_type": "stream",
     "text": [
      "[2]\n",
      "[9, 4]\n"
     ]
    }
   ],
   "source": [
    "nums1 = [1, 2, 2, 1]\n",
    "nums2 = [2, 2]\n",
    "print(intersection(nums1, nums2))\n",
    "# Output: [2]\n",
    "\n",
    "nums1 = [4, 9, 5]\n",
    "nums2 = [9, 4, 9, 8, 4]\n",
    "print(intersection(nums1, nums2))\n",
    "# Output: [9, 4]\n"
   ]
  },
  {
   "cell_type": "markdown",
   "id": "cd79c12a",
   "metadata": {},
   "source": [
    "The function returns the intersection of the two arrays, with each element being unique and in any order."
   ]
  },
  {
   "cell_type": "markdown",
   "id": "f2f746cc",
   "metadata": {},
   "source": [
    "\n",
    "# 💡 8. **Intersection of Two Arrays II**\n",
    "\n",
    "Given two integer arrays `nums1` and `nums2`, return *an array of their intersection*. Each element in the result must appear as many times as it shows in both arrays and you may return the result in **any order**.\n",
    "\n",
    "**Example 1:**\n",
    "\n",
    "```\n",
    "Input: nums1 = [1,2,2,1], nums2 = [2,2]\n",
    "Output: [2,2]\n",
    "\n",
    "```\n",
    "\n",
    "**Example 2:**\n",
    "\n",
    "```\n",
    "Input: nums1 = [4,9,5], nums2 = [9,4,9,8,4]\n",
    "Output: [4,9]\n",
    "Explanation: [9,4] is also accepted.\n",
    "\n",
    "```\n",
    "\n",
    "**Constraints:**\n",
    "\n",
    "- `1 <= nums1.length, nums2.length <= 1000`\n",
    "- `0 <= nums1[i], nums2[i] <= 1000`\n",
    "</aside>"
   ]
  },
  {
   "cell_type": "markdown",
   "id": "fe628c07",
   "metadata": {},
   "source": [
    "To find the intersection of two arrays, nums1 and nums2, while considering the frequency of elements, you can follow the steps below:\n",
    "\n",
    "Create a dictionary or a hash map to store the frequency of each element in nums1.\n",
    "Iterate through nums1 and increment the count of each element in the dictionary.\n",
    "Create an empty result list to store the intersection elements.\n",
    "Iterate through nums2.\n",
    "If the current element exists in the dictionary and its count is greater than 0, add it to the result list and decrement its count in the dictionary.\n",
    "Return the result list."
   ]
  },
  {
   "cell_type": "code",
   "execution_count": 36,
   "id": "3a1fd073",
   "metadata": {},
   "outputs": [],
   "source": [
    "from collections import defaultdict\n",
    "\n",
    "def intersect(nums1, nums2):\n",
    "    freq = defaultdict(int)\n",
    "    \n",
    "    # Count the frequency of elements in nums1\n",
    "    for num in nums1:\n",
    "        freq[num] += 1\n",
    "    \n",
    "    result = []\n",
    "    # Find the intersection elements considering frequency\n",
    "    for num in nums2:\n",
    "        if freq[num] > 0:\n",
    "            result.append(num)\n",
    "            freq[num] -= 1\n",
    "    \n",
    "    return result\n"
   ]
  },
  {
   "cell_type": "code",
   "execution_count": 37,
   "id": "0bdd1e2f",
   "metadata": {},
   "outputs": [
    {
     "name": "stdout",
     "output_type": "stream",
     "text": [
      "[2, 2]\n",
      "[9, 4]\n"
     ]
    }
   ],
   "source": [
    "nums1 = [1, 2, 2, 1]\n",
    "nums2 = [2, 2]\n",
    "print(intersect(nums1, nums2))  # Output: [2, 2]\n",
    "\n",
    "nums1 = [4, 9, 5]\n",
    "nums2 = [9, 4, 9, 8, 4]\n",
    "print(intersect(nums1, nums2))  # Output: [4, 9]\n"
   ]
  },
  {
   "cell_type": "code",
   "execution_count": null,
   "id": "3aacc5ea",
   "metadata": {},
   "outputs": [],
   "source": []
  }
 ],
 "metadata": {
  "kernelspec": {
   "display_name": "Python 3",
   "language": "python",
   "name": "python3"
  },
  "language_info": {
   "codemirror_mode": {
    "name": "ipython",
    "version": 3
   },
   "file_extension": ".py",
   "mimetype": "text/x-python",
   "name": "python",
   "nbconvert_exporter": "python",
   "pygments_lexer": "ipython3",
   "version": "3.8.8"
  }
 },
 "nbformat": 4,
 "nbformat_minor": 5
}
