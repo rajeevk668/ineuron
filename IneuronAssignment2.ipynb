{
 "cells": [
  {
   "cell_type": "markdown",
   "id": "ca308456",
   "metadata": {},
   "source": [
    "# Assignment 2"
   ]
  },
  {
   "cell_type": "markdown",
   "id": "ce57cd1b",
   "metadata": {},
   "source": [
    "\n",
    "# **Question 1**\n",
    "Given an integer array nums of 2n integers, group these integers into n pairs (a1, b1), (a2, b2),..., (an, bn) such that the sum of min(ai, bi) for all i is maximized. Return the maximized sum.\n",
    "\n",
    "**Example 1:**\n",
    "Input: nums = [1,4,3,2]\n",
    "Output: 4\n",
    "\n",
    "**Explanation:** All possible pairings (ignoring the ordering of elements) are:\n",
    "\n",
    "1. (1, 4), (2, 3) -> min(1, 4) + min(2, 3) = 1 + 2 = 3\n",
    "2. (1, 3), (2, 4) -> min(1, 3) + min(2, 4) = 1 + 2 = 3\n",
    "3. (1, 2), (3, 4) -> min(1, 2) + min(3, 4) = 1 + 3 = 4\n",
    "So the maximum possible sum is 4\n"
   ]
  },
  {
   "cell_type": "markdown",
   "id": "c1977792",
   "metadata": {},
   "source": [
    "To maximize the sum of the minimum elements in each pair, we need to pair the smallest elements with each other. Sorting the array will bring the smallest elements together, allowing us to easily pair them up.\n",
    "\n",
    "Here's the step-by-step approach to solve this problem:\n",
    "\n",
    "Sort the given array nums in ascending order.\n",
    "Initialize a variable sum to 0. This variable will store the sum of the minimum elements in each pair.\n",
    "Iterate over the sorted array by skipping one element at a time (i.e., increment the index by 2 in each iteration).\n",
    "In each iteration, add the minimum of the two elements at the current and next indices to the sum.\n",
    "Return the sum as the maximum possible sum."
   ]
  },
  {
   "cell_type": "code",
   "execution_count": 1,
   "id": "785dc5e7",
   "metadata": {},
   "outputs": [
    {
     "name": "stdout",
     "output_type": "stream",
     "text": [
      "4\n"
     ]
    }
   ],
   "source": [
    "def array_pair_sum(nums):\n",
    "    nums.sort()  # Sort the array in ascending order\n",
    "    sum = 0\n",
    "\n",
    "    for i in range(0, len(nums), 2):\n",
    "        sum += min(nums[i], nums[i+1])\n",
    "\n",
    "    return sum\n",
    "\n",
    "nums = [1, 4, 3, 2]\n",
    "print(array_pair_sum(nums))"
   ]
  },
  {
   "cell_type": "markdown",
   "id": "1a488015",
   "metadata": {},
   "source": [
    "So, the maximum possible sum is 4 in this case."
   ]
  },
  {
   "cell_type": "markdown",
   "id": "2b8c6d44",
   "metadata": {},
   "source": [
    "# Question 2\n",
    "Alice has n candies, where the ith candy is of type candyType[i]. Alice noticed that she started to gain weight, so she visited a doctor. \n",
    "\n",
    "The doctor advised Alice to only eat n / 2 of the candies she has (n is always even). Alice likes her candies very much, and she wants to eat the maximum number of different types of candies while still following the doctor's advice. \n",
    "\n",
    "Given the integer array candyType of length n, return the maximum number of different types of candies she can eat if she only eats n / 2 of them.\n",
    "\n",
    "Example 1:\n",
    "Input: candyType = [1,1,2,2,3,3]\n",
    "Output: 3\n",
    "\n",
    "Explanation: Alice can only eat 6 / 2 = 3 candies. Since there are only 3 types, she can eat one of each type."
   ]
  },
  {
   "cell_type": "markdown",
   "id": "b91e3e96",
   "metadata": {},
   "source": [
    "To find the maximum number of different types of candies Alice can eat while following the doctor's advice, we need to count the number of unique candy types in the array candyType and compare it with half the length of the array.\n",
    "\n",
    "Here's a step-by-step approach to solve this problem:\n",
    "\n",
    "Initialize a set uniqueCandies to store unique candy types.\n",
    "Iterate over each candy in the candyType array.\n",
    "Add each candy to the uniqueCandies set.\n",
    "After iterating through all candies, get the length of the uniqueCandies set.\n",
    "Calculate maxCandies as the minimum value between the length of uniqueCandies and half the length of the candyType array.\n",
    "If uniqueCandies is smaller, it means Alice has fewer unique candies than the maximum allowed. In this case, she can eat all the unique candies.\n",
    "If half the length of candyType is smaller, it means Alice has more unique candies than the maximum allowed. In this case, she can eat only half the candies.\n",
    "Return maxCandies as the maximum number of different types of candies Alice can eat."
   ]
  },
  {
   "cell_type": "code",
   "execution_count": 2,
   "id": "439f73c7",
   "metadata": {},
   "outputs": [
    {
     "name": "stdout",
     "output_type": "stream",
     "text": [
      "3\n"
     ]
    }
   ],
   "source": [
    "def max_candies(candyType):\n",
    "    unique_candies = set(candyType)\n",
    "    max_candies = min(len(unique_candies), len(candyType) // 2)\n",
    "    return max_candies\n",
    "candyType = [1, 1, 2, 2, 3, 3]\n",
    "print(max_candies(candyType))"
   ]
  },
  {
   "cell_type": "markdown",
   "id": "1b78ef8b",
   "metadata": {},
   "source": [
    "Therefore, Alice can eat a maximum of 3 different types of candies while following the doctor's advice."
   ]
  },
  {
   "cell_type": "markdown",
   "id": "720cff0e",
   "metadata": {},
   "source": [
    "# Question 3\n",
    "We define a harmonious array as an array where the difference between its maximum value\n",
    "and its minimum value is exactly 1.\n",
    "\n",
    "Given an integer array nums, return the length of its longest harmonious subsequence\n",
    "among all its possible subsequences.\n",
    "\n",
    "A subsequence of an array is a sequence that can be derived from the array by deleting some or no elements without changing the order of the remaining elements.\n",
    "\n",
    "Example 1:\n",
    "Input: nums = [1,3,2,2,5,2,3,7]\n",
    "Output: 5\n",
    "\n",
    "Explanation: The longest harmonious subsequence is [3,2,2,2,3]."
   ]
  },
  {
   "cell_type": "markdown",
   "id": "a2d831b5",
   "metadata": {},
   "source": [
    "To find the length of the longest harmonious subsequence in an array, we can use a hashmap to count the frequency of each number in the array. Then, we iterate over the hashmap and check if there exists a pair of numbers (n, n+1) where n is a key in the hashmap. If such a pair exists, we add the frequencies of n and n+1 to calculate the length of the harmonious subsequence. We update the maximum length as we find longer subsequences.\n",
    "\n",
    "Here's a step-by-step approach to solve this problem:\n",
    "\n",
    "Initialize a hashmap freqMap to store the frequency of each number in nums.\n",
    "Iterate over each number num in nums:\n",
    "If num is already present in freqMap, increment its frequency by 1.\n",
    "Otherwise, add num to freqMap with a frequency of 1.\n",
    "Initialize a variable maxLen to 0 to keep track of the maximum length of the harmonious subsequence.\n",
    "Iterate over each key num in freqMap:\n",
    "If num + 1 is a key in freqMap, calculate the length of the harmonious subsequence as the sum of the frequencies of num and num + 1.\n",
    "If the length is greater than maxLen, update maxLen with the new length.\n",
    "Return maxLen as the length of the longest harmonious subsequence."
   ]
  },
  {
   "cell_type": "code",
   "execution_count": 3,
   "id": "0af62daf",
   "metadata": {},
   "outputs": [
    {
     "name": "stdout",
     "output_type": "stream",
     "text": [
      "5\n"
     ]
    }
   ],
   "source": [
    "def findLHS(nums):\n",
    "    freqMap = {}\n",
    "    for num in nums:\n",
    "        freqMap[num] = freqMap.get(num, 0) + 1\n",
    "\n",
    "    maxLen = 0\n",
    "    for num in freqMap:\n",
    "        if num + 1 in freqMap:\n",
    "            length = freqMap[num] + freqMap[num + 1]\n",
    "            maxLen = max(maxLen, length)\n",
    "\n",
    "    return maxLen\n",
    "nums = [1, 3, 2, 2, 5, 2, 3, 7]\n",
    "print(findLHS(nums))"
   ]
  },
  {
   "cell_type": "markdown",
   "id": "c8c2b6d1",
   "metadata": {},
   "source": [
    "Therefore, the length of the longest harmonious subsequence in the given array is 5."
   ]
  },
  {
   "cell_type": "markdown",
   "id": "4d94db19",
   "metadata": {},
   "source": [
    "# Question 4\n",
    "You have a long flowerbed in which some of the plots are planted, and some are not.\n",
    "However, flowers cannot be planted in adjacent plots.\n",
    "Given an integer array flowerbed containing 0's and 1's, where 0 means empty and 1 means not empty, and an integer n, return true if n new flowers can be planted in the flowerbed without violating the no-adjacent-flowers rule and false otherwise.\n",
    "\n",
    "Example 1:\n",
    "Input: flowerbed = [1,0,0,0,1], n = 1\n",
    "Output: true"
   ]
  },
  {
   "cell_type": "markdown",
   "id": "aaac59ea",
   "metadata": {},
   "source": [
    "To solve this problem, we can iterate over the flowerbed array and check if each plot is empty (0), as well as the adjacent plots. If a plot is empty and its adjacent plots are also empty or out of bounds, we can plant a flower in that plot.\n",
    "\n",
    "Here's a step-by-step approach to solve this problem:\n",
    "\n",
    "Initialize a variable count to 0 to keep track of the number of flowers planted.\n",
    "Iterate over each plot in the flowerbed array.\n",
    "Check if the current plot is empty (0) and its adjacent plots are also empty or out of bounds.\n",
    "If both conditions are true, increment the count by 1 and set the current plot to 1 to indicate a flower is planted.\n",
    "If the count is greater than or equal to n, return true because we were able to plant enough flowers without violating the adjacent flowers rule.\n",
    "If we finish iterating over the flowerbed and the count is less than n, return false because we were not able to plant enough flowers."
   ]
  },
  {
   "cell_type": "code",
   "execution_count": 4,
   "id": "dc1fd2e7",
   "metadata": {},
   "outputs": [
    {
     "name": "stdout",
     "output_type": "stream",
     "text": [
      "True\n"
     ]
    }
   ],
   "source": [
    "def canPlaceFlowers(flowerbed, n):\n",
    "    count = 0\n",
    "    length = len(flowerbed)\n",
    "\n",
    "    for i in range(length):\n",
    "        if flowerbed[i] == 0 and (i == 0 or flowerbed[i-1] == 0) and (i == length-1 or flowerbed[i+1] == 0):\n",
    "            flowerbed[i] = 1\n",
    "            count += 1\n",
    "\n",
    "    return count >= n\n",
    "\n",
    "flowerbed = [1, 0, 0, 0, 1]\n",
    "n = 1\n",
    "print(canPlaceFlowers(flowerbed, n))"
   ]
  },
  {
   "cell_type": "markdown",
   "id": "e0bb531d",
   "metadata": {},
   "source": [
    "Therefore, it is possible to plant 1 new flower in the given flowerbed without violating the no-adjacent-flowers rule."
   ]
  },
  {
   "cell_type": "markdown",
   "id": "515f2e2f",
   "metadata": {},
   "source": [
    "# Question 5\n",
    "Given an integer array nums, find three numbers whose product is maximum and return the maximum product.\n",
    "\n",
    "Example 1:\n",
    "Input: nums = [1,2,3]\n",
    "Output: 6"
   ]
  },
  {
   "cell_type": "markdown",
   "id": "2e0d75c7",
   "metadata": {},
   "source": [
    "To find the maximum product of three numbers in an array, we can sort the array and consider two cases:\n",
    "\n",
    "The three largest numbers have a positive product: In this case, the maximum product is the product of the three largest numbers in the sorted array.\n",
    "\n",
    "The two smallest numbers (which can be negative) and the largest number have a positive product: In this case, the maximum product is the product of the two smallest numbers and the largest number in the sorted array.\n",
    "\n",
    "We compare the products from these two cases and return the maximum.\n",
    "\n",
    "Here's a step-by-step approach to solve this problem:\n",
    "\n",
    "Sort the given array nums in ascending order.\n",
    "Calculate the product of the three largest numbers: product1 = nums[-1] * nums[-2] * nums[-3].\n",
    "Calculate the product of the two smallest numbers and the largest number: product2 = nums[0] * nums[1] * nums[-1].\n",
    "Return the maximum between product1 and product2."
   ]
  },
  {
   "cell_type": "code",
   "execution_count": 5,
   "id": "8ed7078e",
   "metadata": {},
   "outputs": [
    {
     "name": "stdout",
     "output_type": "stream",
     "text": [
      "6\n"
     ]
    }
   ],
   "source": [
    "def maximumProduct(nums):\n",
    "    nums.sort()\n",
    "    product1 = nums[-1] * nums[-2] * nums[-3]\n",
    "    product2 = nums[0] * nums[1] * nums[-1]\n",
    "    return max(product1, product2)\n",
    "\n",
    "nums = [1, 2, 3]\n",
    "print(maximumProduct(nums))"
   ]
  },
  {
   "cell_type": "markdown",
   "id": "a85c11de",
   "metadata": {},
   "source": [
    "Therefore, the maximum product of three numbers in the given array is 6."
   ]
  },
  {
   "cell_type": "markdown",
   "id": "0fe7a768",
   "metadata": {},
   "source": [
    "# Question 6\n",
    "Given an array of integers nums which is sorted in ascending order, and an integer target,\n",
    "write a function to search target in nums. If target exists, then return its index. Otherwise,\n",
    "return -1.\n",
    "\n",
    "You must write an algorithm with O(log n) runtime complexity.\n",
    "\n",
    "Input: nums = [-1,0,3,5,9,12], target = 9\n",
    "Output: 4\n",
    "\n",
    "Explanation: 9 exists in nums and its index is 4"
   ]
  },
  {
   "cell_type": "markdown",
   "id": "d6ff91bd",
   "metadata": {},
   "source": [
    "To search for a target value in a sorted array nums with O(log n) runtime complexity, we can utilize the binary search algorithm.\n",
    "\n",
    "Here's a step-by-step approach to solve this problem:\n",
    "\n",
    "Initialize two pointers, left and right, pointing to the start and end of the array, respectively.\n",
    "While left is less than or equal to right, do the following:\n",
    "Calculate the middle index as mid = (left + right) // 2.\n",
    "If the value at index mid is equal to the target, return mid as the index.\n",
    "If the value at index mid is greater than the target, update right to mid - 1 to search in the left half of the array.\n",
    "If the value at index mid is less than the target, update left to mid + 1 to search in the right half of the array.\n",
    "If the target is not found during the search, return -1 to indicate that the target does not exist in the array."
   ]
  },
  {
   "cell_type": "code",
   "execution_count": 6,
   "id": "44698959",
   "metadata": {},
   "outputs": [
    {
     "name": "stdout",
     "output_type": "stream",
     "text": [
      "4\n"
     ]
    }
   ],
   "source": [
    "def search(nums, target):\n",
    "    left, right = 0, len(nums) - 1\n",
    "\n",
    "    while left <= right:\n",
    "        mid = (left + right) // 2\n",
    "\n",
    "        if nums[mid] == target:\n",
    "            return mid\n",
    "        elif nums[mid] > target:\n",
    "            right = mid - 1\n",
    "        else:\n",
    "            left = mid + 1\n",
    "\n",
    "    return -1\n",
    "\n",
    "nums = [-1, 0, 3, 5, 9, 12]\n",
    "target = 9\n",
    "print(search(nums, target))"
   ]
  },
  {
   "cell_type": "markdown",
   "id": "aa811a12",
   "metadata": {},
   "source": [
    "Therefore, the target value 9 exists in the nums array, and its index is 4."
   ]
  },
  {
   "cell_type": "markdown",
   "id": "893ab0af",
   "metadata": {},
   "source": [
    "# Question 7\n",
    "An array is monotonic if it is either monotone increasing or monotone decreasing.\n",
    "\n",
    "An array nums is monotone increasing if for all i <= j, nums[i] <= nums[j]. An array nums is\n",
    "monotone decreasing if for all i <= j, nums[i] >= nums[j].\n",
    "\n",
    "Given an integer array nums, return true if the given array is monotonic, or false otherwise.\n",
    "\n",
    "Example 1:\n",
    "Input: nums = [1,2,2,3]\n",
    "Output: true"
   ]
  },
  {
   "cell_type": "markdown",
   "id": "7ecc1ca6",
   "metadata": {},
   "source": [
    "To determine if an array is monotonic, we can iterate over the array and check if the elements are either strictly increasing or strictly decreasing.\n",
    "\n",
    "Here's a step-by-step approach to solve this problem:\n",
    "\n",
    "Initialize two boolean variables, isIncreasing and isDecreasing, to True. These variables will track whether the array is monotone increasing or monotone decreasing, respectively.\n",
    "Iterate over the array nums starting from the second element (index 1):\n",
    "If the current element nums[i] is greater than the previous element nums[i-1], set isDecreasing to False.\n",
    "If the current element nums[i] is less than the previous element nums[i-1], set isIncreasing to False.\n",
    "If both isIncreasing and isDecreasing are False, return False because the array is neither strictly increasing nor strictly decreasing.\n",
    "If the iteration completes without returning False, return True because the array is either monotone increasing or monotone decreasing."
   ]
  },
  {
   "cell_type": "code",
   "execution_count": 7,
   "id": "881abddd",
   "metadata": {},
   "outputs": [
    {
     "name": "stdout",
     "output_type": "stream",
     "text": [
      "True\n"
     ]
    }
   ],
   "source": [
    "def isMonotonic(nums):\n",
    "    isIncreasing = True\n",
    "    isDecreasing = True\n",
    "\n",
    "    for i in range(1, len(nums)):\n",
    "        if nums[i] > nums[i - 1]:\n",
    "            isDecreasing = False\n",
    "        elif nums[i] < nums[i - 1]:\n",
    "            isIncreasing = False\n",
    "\n",
    "        if not isIncreasing and not isDecreasing:\n",
    "            return False\n",
    "\n",
    "    return True\n",
    "nums = [1, 2, 2, 3]\n",
    "print(isMonotonic(nums))"
   ]
  },
  {
   "cell_type": "markdown",
   "id": "38ec70c0",
   "metadata": {},
   "source": [
    "Therefore, the given array [1, 2, 2, 3] is monotonic (specifically, monotone increasing), so the function returns True."
   ]
  },
  {
   "cell_type": "markdown",
   "id": "4fb7c068",
   "metadata": {},
   "source": [
    "# Question 8\n",
    "You are given an integer array nums and an integer k.\n",
    "\n",
    "In one operation, you can choose any index i where 0 <= i < nums.length and change nums[i] to nums[i] + x where x is an integer from the range [-k, k]. You can apply this operation at most once for each index i.\n",
    "\n",
    "The score of nums is the difference between the maximum and minimum elements in nums.\n",
    "\n",
    "Return the minimum score of nums after applying the mentioned operation at most once for each index in it.\n",
    "\n",
    "Example 1:\n",
    "Input: nums = [1], k = 0\n",
    "Output: 0\n",
    "\n",
    "Explanation: The score is max(nums) - min(nums) = 1 - 1 = 0."
   ]
  },
  {
   "cell_type": "markdown",
   "id": "fd435863",
   "metadata": {},
   "source": [
    "To minimize the score of the array nums, we can choose the optimal values to add or subtract from each element in order to minimize the difference between the maximum and minimum elements.\n",
    "\n",
    "Here's a step-by-step approach to solve this problem:\n",
    "\n",
    "Find the maximum and minimum elements in the array nums.\n",
    "If the difference between the maximum and minimum elements is less than or equal to 2*k, return 0 because we can make the array elements equal by adding or subtracting a value within the range [-k, k] to each element.\n",
    "Otherwise, calculate the optimal values to add or subtract from the maximum and minimum elements.\n",
    "The maximum element can be reduced by subtracting k from it.\n",
    "The minimum element can be increased by adding k to it.\n",
    "Return the difference between the updated maximum and minimum elements."
   ]
  },
  {
   "cell_type": "code",
   "execution_count": 8,
   "id": "78cfb058",
   "metadata": {},
   "outputs": [
    {
     "name": "stdout",
     "output_type": "stream",
     "text": [
      "0\n"
     ]
    }
   ],
   "source": [
    "def minimumDifference(nums, k):\n",
    "    max_num = max(nums)\n",
    "    min_num = min(nums)\n",
    "\n",
    "    if max_num - min_num <= 2 * k:\n",
    "        return 0\n",
    "\n",
    "    return max_num - min_num - 2 * k\n",
    "\n",
    "nums = [1]\n",
    "k = 0\n",
    "print(minimumDifference(nums, k))"
   ]
  },
  {
   "cell_type": "markdown",
   "id": "72957f7f",
   "metadata": {},
   "source": [
    "Therefore, the minimum score of the array [1] after applying the operation at most once for each index is 0."
   ]
  },
  {
   "cell_type": "code",
   "execution_count": null,
   "id": "48a83329",
   "metadata": {},
   "outputs": [],
   "source": []
  }
 ],
 "metadata": {
  "kernelspec": {
   "display_name": "Python 3",
   "language": "python",
   "name": "python3"
  },
  "language_info": {
   "codemirror_mode": {
    "name": "ipython",
    "version": 3
   },
   "file_extension": ".py",
   "mimetype": "text/x-python",
   "name": "python",
   "nbconvert_exporter": "python",
   "pygments_lexer": "ipython3",
   "version": "3.8.8"
  }
 },
 "nbformat": 4,
 "nbformat_minor": 5
}
