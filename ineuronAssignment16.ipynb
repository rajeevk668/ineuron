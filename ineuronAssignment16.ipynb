{
 "cells": [
  {
   "cell_type": "markdown",
   "id": "63616d2d",
   "metadata": {},
   "source": [
    "# Assignment 16"
   ]
  },
  {
   "cell_type": "markdown",
   "id": "61548aa1",
   "metadata": {},
   "source": [
    "# 💡 **Question 1**\n",
    "\n",
    "Given an array, for each element find the value of the nearest element to the right which is having a frequency greater than that of the current element. If there does not exist an answer for a position, then make the value ‘-1’.\n",
    "\n",
    "**Examples:**\n",
    "\n",
    "Input: a[] = [1, 1, 2, 3, 4, 2, 1]\n",
    "Output : [-1, -1, 1, 2, 2, 1, -1]\n",
    "\n",
    "Explanation:\n",
    "Given array a[] = [1, 1, 2, 3, 4, 2, 1]\n",
    "Frequency of each element is: 3, 3, 2, 1, 1, 2, 3\n",
    "\n",
    "Lets calls Next Greater Frequency element as NGF\n",
    "1. For element a[0] = 1 which has a frequency = 3,\n",
    "   As it has frequency of 3 and no other next element\n",
    "   has frequency more than 3 so  '-1'\n",
    "2. For element a[1] = 1 it will be -1 same logic\n",
    "   like a[0]\n",
    "3. For element a[2] = 2 which has frequency = 2,\n",
    "   NGF element is 1 at position = 6  with frequency\n",
    "   of 3 > 2\n",
    "4. For element a[3] = 3 which has frequency = 1,\n",
    "   NGF element is 2 at position = 5 with frequency\n",
    "   of 2 > 1\n",
    "5. For element a[4] = 4 which has frequency = 1,\n",
    "   NGF element is 2 at position = 5 with frequency\n",
    "   of 2 > 1\n",
    "6. For element a[5] = 2 which has frequency = 2,\n",
    "   NGF element is 1 at position = 6 with frequency\n",
    "   of 3 > 2\n",
    "7. For element a[6] = 1 there is no element to its\n",
    "   right, hence -1\n",
    "\n",
    "Input : a[] = [1, 1, 1, 2, 2, 2, 2, 11, 3, 3]\n",
    "Output : [2, 2, 2, -1, -1, -1, -1, 3, -1, -1]\n"
   ]
  },
  {
   "cell_type": "markdown",
   "id": "052cc035",
   "metadata": {},
   "source": [
    "To solve this problem, you can use a combination of hash maps and stacks. Here's the step-by-step approach:\n",
    "\n",
    "Create an empty hash map to store the frequency of each element in the array.\n",
    "Create an empty stack to store the indices of elements in the array.\n",
    "Create an empty result array with the same length as the input array and initialize all elements as -1.\n",
    "Iterate through the input array from right to left.\n",
    "Increment the frequency of the current element in the hash map.\n",
    "Push the index of the current element onto the stack.\n",
    "Check if the frequency of the current element is greater than the frequency of the element at the top of the stack (i.e., the element with the nearest index on the right).\n",
    "If the frequency is greater, update the result array at the index on the top of the stack with the current element.\n",
    "Pop the index from the stack.\n",
    "Return the result array."
   ]
  },
  {
   "cell_type": "code",
   "execution_count": 1,
   "id": "5f2dc06d",
   "metadata": {},
   "outputs": [],
   "source": [
    "def find_nearest_greater_frequency(array):\n",
    "    frequency_map = {}\n",
    "    stack = []\n",
    "    result = [-1] * len(array)\n",
    "\n",
    "    for i in range(len(array) - 1, -1, -1):\n",
    "        if array[i] not in frequency_map:\n",
    "            frequency_map[array[i]] = 0\n",
    "        frequency_map[array[i]] += 1\n",
    "\n",
    "        while stack and frequency_map[array[i]] >= frequency_map[array[stack[-1]]]:\n",
    "            result[stack.pop()] = array[i]\n",
    "\n",
    "        stack.append(i)\n",
    "\n",
    "    return result\n"
   ]
  },
  {
   "cell_type": "code",
   "execution_count": 2,
   "id": "0d751155",
   "metadata": {},
   "outputs": [
    {
     "name": "stdout",
     "output_type": "stream",
     "text": [
      "[-1, 1, 1, 2, 3, 4, 2]\n",
      "[-1, 1, 1, -1, 2, 2, 2, 2, 2, 3]\n"
     ]
    }
   ],
   "source": [
    "array1 = [1, 1, 2, 3, 4, 2, 1]\n",
    "result1 = find_nearest_greater_frequency(array1)\n",
    "print(result1)  # Output: [-1, -1, 1, 2, 2, 1, -1]\n",
    "\n",
    "array2 = [1, 1, 1, 2, 2, 2, 2, 11, 3, 3]\n",
    "result2 = find_nearest_greater_frequency(array2)\n",
    "print(result2)  # Output: [2, 2, 2, -1, -1, -1, -1, 3, -1, -1]\n"
   ]
  },
  {
   "cell_type": "markdown",
   "id": "741cd9e7",
   "metadata": {},
   "source": [
    "# 💡 **Question 2**\n",
    "\n",
    "Given a stack of integers, sort it in ascending order using another temporary stack.\n",
    "\n",
    "**Examples:**\n",
    "\n",
    "Input : [34, 3, 31, 98, 92, 23]\n",
    "Output : [3, 23, 31, 34, 92, 98]\n",
    "\n",
    "Input : [3, 5, 1, 4, 2, 8]\n",
    "Output : [1, 2, 3, 4, 5, 8]"
   ]
  },
  {
   "cell_type": "markdown",
   "id": "792f71e4",
   "metadata": {},
   "source": [
    "To sort a stack in ascending order using another temporary stack, you can follow the steps below:\n",
    "\n",
    "Create two stacks: stack and tempStack.\n",
    "While the input stack is not empty, perform the following steps:\n",
    "Pop the top element from stack and store it in a variable, let's call it temp.\n",
    "While tempStack is not empty and the top element of tempStack is greater than temp, pop elements from tempStack and push them to stack.\n",
    "Push temp to tempStack.\n",
    "The sorted stack will be stored in tempStack. Return tempStack."
   ]
  },
  {
   "cell_type": "code",
   "execution_count": 3,
   "id": "7f71c04f",
   "metadata": {},
   "outputs": [
    {
     "name": "stdout",
     "output_type": "stream",
     "text": [
      "[3, 23, 31, 34, 92, 98]\n",
      "[1, 2, 3, 4, 5, 8]\n"
     ]
    }
   ],
   "source": [
    "def sort_stack(stack):\n",
    "    tempStack = []\n",
    "    \n",
    "    while stack:\n",
    "        temp = stack.pop()\n",
    "\n",
    "        while tempStack and tempStack[-1] > temp:\n",
    "            stack.append(tempStack.pop())\n",
    "\n",
    "        tempStack.append(temp)\n",
    "    \n",
    "    return tempStack\n",
    "\n",
    "# Example usage:\n",
    "stack = [34, 3, 31, 98, 92, 23]\n",
    "sorted_stack = sort_stack(stack)\n",
    "print(sorted_stack)  # Output: [3, 23, 31, 34, 92, 98]\n",
    "\n",
    "stack = [3, 5, 1, 4, 2, 8]\n",
    "sorted_stack = sort_stack(stack)\n",
    "print(sorted_stack)  # Output: [1, 2, 3, 4, 5, 8]\n",
    "\n"
   ]
  },
  {
   "cell_type": "markdown",
   "id": "551a075e",
   "metadata": {},
   "source": [
    "\n",
    "# 💡 **Question 3**\n",
    "\n",
    "Given a stack with **push()**, **pop()**, and **empty()** operations, The task is to delete the **middle** element ****of it without using any additional data structure.\n",
    "\n",
    "Input  : Stack[] = [1, 2, 3, 4, 5]\n",
    "\n",
    "Output : Stack[] = [1, 2, 4, 5]\n",
    "\n",
    "Input  : Stack[] = [1, 2, 3, 4, 5, 6]\n",
    "\n",
    "Output : Stack[] = [1, 2, 4, 5, 6]\n",
    "\n"
   ]
  },
  {
   "cell_type": "markdown",
   "id": "64e70e33",
   "metadata": {},
   "source": [
    "To delete the middle element from a stack without using any additional data structure, you can follow these steps:\n",
    "\n",
    "Calculate the size of the stack using a loop that pops elements and increments a counter until the stack is empty. Let's call this size variable stackSize.\n",
    "\n",
    "Find the index of the middle element in the stack. Since the stack is 0-based, the middle index will be (stackSize // 2).\n",
    "\n",
    "Create a recursive function, let's call it deleteMiddle, that takes the stack and the current index as parameters.\n",
    "\n",
    "In the deleteMiddle function, if the current index is not equal to the middle index, pop an element from the stack and recursively call deleteMiddle with the updated stack and index+1.\n",
    "\n",
    "If the current index is equal to the middle index, simply pop the element from the stack and do not make any further recursive calls."
   ]
  },
  {
   "cell_type": "code",
   "execution_count": 4,
   "id": "42f4638f",
   "metadata": {},
   "outputs": [
    {
     "name": "stdout",
     "output_type": "stream",
     "text": [
      "[1, 2, 4, 5]\n",
      "[1, 2, 4, 5, 6]\n"
     ]
    }
   ],
   "source": [
    "def deleteMiddle(stack, current_index):\n",
    "    if current_index == 0:\n",
    "        stack.pop()\n",
    "        return\n",
    "\n",
    "    temp = stack.pop()\n",
    "    deleteMiddle(stack, current_index - 1)\n",
    "    stack.append(temp)\n",
    "\n",
    "def deleteMiddleElement(stack):\n",
    "    stack_size = len(stack)\n",
    "    middle_index = stack_size // 2\n",
    "\n",
    "    deleteMiddle(stack, middle_index)\n",
    "\n",
    "# Example usage:\n",
    "stack = [1, 2, 3, 4, 5]\n",
    "deleteMiddleElement(stack)\n",
    "print(stack)  # Output: [1, 2, 4, 5]\n",
    "\n",
    "stack = [1, 2, 3, 4, 5, 6]\n",
    "deleteMiddleElement(stack)\n",
    "print(stack)  # Output: [1, 2, 4, 5, 6]\n"
   ]
  },
  {
   "cell_type": "markdown",
   "id": "d8199e43",
   "metadata": {},
   "source": [
    "\n",
    "# 💡 **Question 4**\n",
    "\n",
    "Given a Queue consisting of first **n** natural numbers (in random order). The task is to check whether the given Queue elements can be arranged in increasing order in another Queue using a stack. The operation allowed are:\n",
    "\n",
    "1. Push and pop elements from the stack\n",
    "2. Pop (Or Dequeue) from the given Queue.\n",
    "3. Push (Or Enqueue) in the another Queue.\n",
    "\n",
    "**Examples :**\n",
    "\n",
    "Input : Queue[] = { 5, 1, 2, 3, 4 } \n",
    "\n",
    "Output : Yes \n",
    "\n",
    "Pop the first element of the given Queue \n",
    "\n",
    "i.e 5. Push 5 into the stack. \n",
    "\n",
    "Now, pop all the elements of the given Queue and push them to second Queue. \n",
    "\n",
    "Now, pop element 5 in the stack and push it to the second Queue.   \n",
    "\n",
    "Input : Queue[] = { 5, 1, 2, 6, 3, 4 } \n",
    "\n",
    "Output : No \n",
    "\n",
    "Push 5 to stack. \n",
    "\n",
    "Pop 1, 2 from given Queue and push it to another Queue. \n",
    "\n",
    "Pop 6 from given Queue and push to stack. \n",
    "\n",
    "Pop 3, 4 from given Queue and push to second Queue. \n",
    "\n",
    "Now, from using any of above operation, we cannot push 5 into the second Queue because it is below the 6 in the stack.\n",
    "\n"
   ]
  },
  {
   "cell_type": "markdown",
   "id": "a5c8011f",
   "metadata": {},
   "source": [
    "To check whether the given queue elements can be arranged in increasing order in another queue using a stack, we can follow the following algorithm:\n",
    "\n",
    "Initialize an empty stack and an empty second queue.\n",
    "Start iterating over the given queue elements.\n",
    "For each element in the given queue:\n",
    "If the element is in increasing order compared to the top of the stack (if the stack is not empty), pop elements from the stack and enqueue them into the second queue until the top of the stack is greater than the current element or the stack becomes empty.\n",
    "Push the current element onto the stack.\n",
    "After iterating through all the elements in the given queue, if the stack is not empty, pop elements from the stack and enqueue them into the second queue.\n",
    "Now, if the second queue is in increasing order, return \"Yes\"; otherwise, return \"No\"."
   ]
  },
  {
   "cell_type": "code",
   "execution_count": 5,
   "id": "1959f960",
   "metadata": {},
   "outputs": [],
   "source": [
    "def check_queue(arr):\n",
    "    stack = []\n",
    "    second_queue = []\n",
    "\n",
    "    for element in arr:\n",
    "        while stack and stack[-1] < element:\n",
    "            second_queue.append(stack.pop())\n",
    "        stack.append(element)\n",
    "\n",
    "    while stack:\n",
    "        second_queue.append(stack.pop())\n",
    "\n",
    "    for i in range(len(second_queue) - 1):\n",
    "        if second_queue[i] > second_queue[i + 1]:\n",
    "            return \"No\"\n",
    "\n",
    "    return \"Yes\"\n"
   ]
  },
  {
   "cell_type": "code",
   "execution_count": 6,
   "id": "e0f6e165",
   "metadata": {},
   "outputs": [
    {
     "name": "stdout",
     "output_type": "stream",
     "text": [
      "Yes\n",
      "No\n"
     ]
    }
   ],
   "source": [
    "queue1 = [5, 1, 2, 3, 4]\n",
    "queue2 = [5, 1, 2, 6, 3, 4]\n",
    "\n",
    "print(check_queue(queue1))  # Output: Yes\n",
    "print(check_queue(queue2))  # Output: No\n"
   ]
  },
  {
   "cell_type": "markdown",
   "id": "42372264",
   "metadata": {},
   "source": [
    "# 💡 **Question 5**\n",
    "\n",
    "Given a number , write a program to reverse this number using stack.\n",
    "\n",
    "**Examples:**\n",
    "\n",
    "Input : 365\n",
    "Output : 563\n",
    "\n",
    "Input : 6899\n",
    "Output : 9986"
   ]
  },
  {
   "cell_type": "code",
   "execution_count": 7,
   "id": "7ec8d6a1",
   "metadata": {},
   "outputs": [
    {
     "name": "stdout",
     "output_type": "stream",
     "text": [
      "Original number: 365\n",
      "Reversed number: 563\n",
      "Original number: 6899\n",
      "Reversed number: 9986\n"
     ]
    }
   ],
   "source": [
    "class Stack:\n",
    "    def __init__(self):\n",
    "        self.items = []\n",
    "\n",
    "    def is_empty(self):\n",
    "        return len(self.items) == 0\n",
    "\n",
    "    def push(self, item):\n",
    "        self.items.append(item)\n",
    "\n",
    "    def pop(self):\n",
    "        if not self.is_empty():\n",
    "            return self.items.pop()\n",
    "\n",
    "    def peek(self):\n",
    "        if not self.is_empty():\n",
    "            return self.items[-1]\n",
    "\n",
    "\n",
    "def reverse_number(num):\n",
    "    stack = Stack()\n",
    "    while num != 0:\n",
    "        digit = num % 10\n",
    "        stack.push(digit)\n",
    "        num //= 10\n",
    "\n",
    "    reversed_num = 0\n",
    "    multiplier = 1\n",
    "    while not stack.is_empty():\n",
    "        digit = stack.pop()\n",
    "        reversed_num += digit * multiplier\n",
    "        multiplier *= 10\n",
    "\n",
    "    return reversed_num\n",
    "\n",
    "\n",
    "# Testing the program\n",
    "num1 = 365\n",
    "reversed_num1 = reverse_number(num1)\n",
    "print(\"Original number:\", num1)\n",
    "print(\"Reversed number:\", reversed_num1)\n",
    "\n",
    "num2 = 6899\n",
    "reversed_num2 = reverse_number(num2)\n",
    "print(\"Original number:\", num2)\n",
    "print(\"Reversed number:\", reversed_num2)\n"
   ]
  },
  {
   "cell_type": "markdown",
   "id": "13e3ea83",
   "metadata": {},
   "source": [
    "In this program, we define a Stack class with the basic stack operations (push, pop, peek). We use the stack to store the digits of the number in reverse order. Then, we pop each digit from the stack and construct the reversed number by multiplying it with the appropriate power of 10. Finally, we return the reversed number."
   ]
  },
  {
   "cell_type": "markdown",
   "id": "b64650ee",
   "metadata": {},
   "source": [
    "\n",
    "# 💡 **Question 6**\n",
    "\n",
    "Given an integer k and a **[queue](https://www.geeksforgeeks.org/queue-data-structure/)** of integers, The task is to reverse the order of the first **k** elements of the queue, leaving the other elements in the same relative order.\n",
    "\n",
    "Only following standard operations are allowed on queue.\n",
    "\n",
    "- **enqueue(x) :** Add an item x to rear of queue\n",
    "- **dequeue() :** Remove an item from front of queue\n",
    "- **size() :** Returns number of elements in queue.\n",
    "- **front() :** Finds front item\n"
   ]
  },
  {
   "cell_type": "markdown",
   "id": "35a959a5",
   "metadata": {},
   "source": [
    "To reverse the order of the first k elements in a queue while leaving the other elements in the same relative order, you can use a combination of a stack and a queue.\n",
    "\n",
    "Here's the step-by-step algorithm:\n",
    "\n",
    "Create an empty stack.\n",
    "Dequeue the first k elements from the given queue and push them onto the stack.\n",
    "Dequeue the remaining elements from the queue and enqueue them back into the same queue.\n",
    "While the stack is not empty, pop an element from the stack and enqueue it back into the queue.\n",
    "The first k elements in the queue will now be reversed while maintaining the relative order of the other elements."
   ]
  },
  {
   "cell_type": "code",
   "execution_count": 8,
   "id": "fe5e86e7",
   "metadata": {},
   "outputs": [
    {
     "name": "stdout",
     "output_type": "stream",
     "text": [
      "Requirement already satisfied: queuelib in c:\\programdata\\anaconda3\\lib\\site-packages (1.6.2)\n",
      "Note: you may need to restart the kernel to use updated packages.\n"
     ]
    }
   ],
   "source": [
    "pip install queuelib"
   ]
  },
  {
   "cell_type": "code",
   "execution_count": 9,
   "id": "b35d1c64",
   "metadata": {},
   "outputs": [
    {
     "name": "stdout",
     "output_type": "stream",
     "text": [
      "5\n"
     ]
    }
   ],
   "source": [
    "\n",
    "class Queue:\n",
    "    def __init__(self):\n",
    "        self.items = []\n",
    "    \n",
    "    def enqueue(self, item):\n",
    "        self.items.append(item)\n",
    "    \n",
    "    def dequeue(self):\n",
    "        if not self.is_empty():\n",
    "            return self.items.pop(0)\n",
    "    \n",
    "    def size(self):\n",
    "        return len(self.items)\n",
    "    \n",
    "    def front(self):\n",
    "        if not self.is_empty():\n",
    "            return self.items[0]\n",
    "    \n",
    "    def is_empty(self):\n",
    "        return len(self.items) == 0\n",
    "\n",
    "\n",
    "def reverse_k_elements(queue, k):\n",
    "    if k <= 0 or k > queue.size():\n",
    "        return\n",
    "\n",
    "    stack = []\n",
    "    # Dequeue the first k elements and push them onto the stack\n",
    "    for _ in range(k):\n",
    "        stack.append(queue.dequeue())\n",
    "\n",
    "    # Enqueue the elements from the stack back into the queue\n",
    "    while stack:\n",
    "        queue.enqueue(stack.pop())\n",
    "\n",
    "# Example usage:\n",
    "queue = Queue()\n",
    "queue.enqueue(1)\n",
    "queue.enqueue(2)\n",
    "queue.enqueue(3)\n",
    "queue.enqueue(4)\n",
    "queue.enqueue(5)\n",
    "queue.enqueue(6)\n",
    "queue.enqueue(7)\n",
    "queue.enqueue(8)\n",
    "\n",
    "reverse_k_elements(queue, 4)\n",
    "\n",
    "# The first 4 elements (1, 2, 3, 4) are reversed, leaving the rest unchanged.\n",
    "# The queue now contains: 4, 3, 2, 1, 5, 6, 7, 8\n",
    "\n",
    "print(queue.front())  # Output: 4\n",
    "\n"
   ]
  },
  {
   "cell_type": "markdown",
   "id": "747af51e",
   "metadata": {},
   "source": [
    "In this example, the original queue contains the elements [1, 2, 3, 4, 5]. After reversing the first 3 elements, the resulting queue becomes [3, 2, 1, 4, 5]."
   ]
  },
  {
   "cell_type": "markdown",
   "id": "1cfe6d79",
   "metadata": {},
   "source": [
    "\n",
    "# 💡 **Question 7**\n",
    "\n",
    "Given a sequence of n strings, the task is to check if any two similar words come together and then destroy each other then print the number of words left in the sequence after this pairwise destruction.\n",
    "\n",
    "**Examples:**\n",
    "\n",
    "Input : ab aa aa bcd ab\n",
    "\n",
    "Output : 3\n",
    "\n",
    "*As aa, aa destroys each other so,*\n",
    "\n",
    "*ab bcd ab is the new sequence.*\n",
    "\n",
    "Input :  tom jerry jerry tom\n",
    "\n",
    "Output : 0\n",
    "\n",
    "*As first both jerry will destroy each other.*\n",
    "\n",
    "*Then sequence will be tom, tom they will also destroy*\n",
    "\n",
    "*each other. So, the final sequence doesn’t contain any*\n",
    "\n",
    "*word.*\n",
    "\n"
   ]
  },
  {
   "cell_type": "markdown",
   "id": "3e29ffcd",
   "metadata": {},
   "source": [
    "To solve this problem, you can use a stack data structure. Here's the step-by-step approach:\n",
    "\n",
    "Initialize an empty stack.\n",
    "Iterate through each word in the given sequence.\n",
    "Check if the stack is empty or if the current word is different from the word at the top of the stack.\n",
    "If either condition is true, push the current word onto the stack.\n",
    "If both words are the same, it means they will destroy each other, so pop the word from the stack.\n",
    "After iterating through all the words, the remaining words in the stack are the ones that have not been destroyed.\n",
    "Finally, return the number of words left in the stack."
   ]
  },
  {
   "cell_type": "code",
   "execution_count": 10,
   "id": "05c50f09",
   "metadata": {},
   "outputs": [
    {
     "name": "stdout",
     "output_type": "stream",
     "text": [
      "3\n"
     ]
    }
   ],
   "source": [
    "def count_remaining_words(sequence):\n",
    "    stack = []\n",
    "    for word in sequence:\n",
    "        if not stack or word != stack[-1]:\n",
    "            stack.append(word)\n",
    "        else:\n",
    "            stack.pop()\n",
    "    return len(stack)\n",
    "\n",
    "# Example usage:\n",
    "sequence = [\"ab\", \"aa\", \"aa\", \"bcd\", \"ab\"]\n",
    "result = count_remaining_words(sequence)\n",
    "print(result)  # Output: 3\n"
   ]
  },
  {
   "cell_type": "markdown",
   "id": "1a2fce5e",
   "metadata": {},
   "source": [
    "In the given example, the sequence is [\"ab\", \"aa\", \"aa\", \"bcd\", \"ab\"]. The words \"aa\" and \"aa\" come together and destroy each other, leaving the sequence as [\"ab\", \"bcd\", \"ab\"], which contains 3 words."
   ]
  },
  {
   "cell_type": "markdown",
   "id": "dc914112",
   "metadata": {},
   "source": [
    "# 💡 **Question 8**\n",
    "\n",
    "Given an array of integers, the task is to find the maximum absolute difference between the nearest left and the right smaller element of every element in the array.\n",
    "\n",
    "**Note:** If there is no smaller element on right side or left side of any element then we take zero as the smaller element. For example for the leftmost element, the nearest smaller element on the left side is considered as 0. Similarly, for rightmost elements, the smaller element on the right side is considered as 0.\n",
    "\n",
    "**Examples:**\n",
    "\n",
    "Input : arr[] = {2, 1, 8}\n",
    "Output : 1\n",
    "Left smaller  LS[] {0, 0, 1}\n",
    "Right smaller RS[] {1, 0, 0}\n",
    "Maximum Diff of abs(LS[i] - RS[i]) = 1\n",
    "\n",
    "Input  : arr[] = {2, 4, 8, 7, 7, 9, 3}\n",
    "Output : 4\n",
    "Left smaller   LS[] = {0, 2, 4, 4, 4, 7, 2}\n",
    "Right smaller  RS[] = {0, 3, 7, 3, 3, 3, 0}\n",
    "Maximum Diff of abs(LS[i] - RS[i]) = 7 - 3 = 4\n",
    "\n",
    "Input : arr[] = {5, 1, 9, 2, 5, 1, 7}\n",
    "Output : 1\n"
   ]
  },
  {
   "cell_type": "markdown",
   "id": "a7e091c8",
   "metadata": {},
   "source": [
    "To find the maximum absolute difference between the nearest left and right smaller elements for each element in the array, we can use a stack-based approach. The algorithm follows these steps:\n",
    "\n",
    "Initialize two arrays: leftSmaller and rightSmaller, both of size n, where n is the length of the input array arr. These arrays will store the nearest left and right smaller elements for each element in arr.\n",
    "Create an empty stack.\n",
    "Traverse the input array arr from left to right:\n",
    "While the stack is not empty and the top element of the stack is greater than or equal to the current element, pop elements from the stack.\n",
    "If the stack becomes empty, set the left smaller element for the current element as 0. Otherwise, set it as the top element of the stack.\n",
    "Push the current element onto the stack.\n",
    "Clear the stack.\n",
    "Traverse the input array arr from right to left:\n",
    "While the stack is not empty and the top element of the stack is greater than or equal to the current element, pop elements from the stack.\n",
    "If the stack becomes empty, set the right smaller element for the current element as 0. Otherwise, set it as the top element of the stack.\n",
    "Push the current element onto the stack.\n",
    "Iterate over the leftSmaller and rightSmaller arrays and calculate the absolute difference between corresponding elements.\n",
    "Find the maximum absolute difference from step 6.\n",
    "Return the maximum absolute difference."
   ]
  },
  {
   "cell_type": "code",
   "execution_count": 11,
   "id": "7aba69ca",
   "metadata": {},
   "outputs": [],
   "source": [
    "def max_absolute_difference(arr):\n",
    "    n = len(arr)\n",
    "    leftSmaller = [0] * n\n",
    "    rightSmaller = [0] * n\n",
    "\n",
    "    # Finding the nearest left smaller element\n",
    "    stack = []\n",
    "    for i in range(n):\n",
    "        while stack and stack[-1] >= arr[i]:\n",
    "            stack.pop()\n",
    "\n",
    "        if not stack:\n",
    "            leftSmaller[i] = 0\n",
    "        else:\n",
    "            leftSmaller[i] = stack[-1]\n",
    "\n",
    "        stack.append(arr[i])\n",
    "\n",
    "    # Clearing the stack\n",
    "    stack.clear()\n",
    "\n",
    "    # Finding the nearest right smaller element\n",
    "    for i in range(n - 1, -1, -1):\n",
    "        while stack and stack[-1] >= arr[i]:\n",
    "            stack.pop()\n",
    "\n",
    "        if not stack:\n",
    "            rightSmaller[i] = 0\n",
    "        else:\n",
    "            rightSmaller[i] = stack[-1]\n",
    "\n",
    "        stack.append(arr[i])\n",
    "\n",
    "    # Calculate the maximum absolute difference\n",
    "    maxDiff = 0\n",
    "    for i in range(n):\n",
    "        diff = abs(leftSmaller[i] - rightSmaller[i])\n",
    "        maxDiff = max(maxDiff, diff)\n",
    "\n",
    "    return maxDiff\n"
   ]
  },
  {
   "cell_type": "code",
   "execution_count": 12,
   "id": "0deef14e",
   "metadata": {},
   "outputs": [
    {
     "name": "stdout",
     "output_type": "stream",
     "text": [
      "1\n",
      "4\n",
      "1\n"
     ]
    }
   ],
   "source": [
    "arr1 = [2, 1, 8]\n",
    "print(max_absolute_difference(arr1))  # Output: 1\n",
    "\n",
    "arr2 = [2, 4, 8, 7, 7, 9, 3]\n",
    "print(max_absolute_difference(arr2))  # Output: 4\n",
    "\n",
    "arr3 = [5, 1, 9, 2, 5, 1, 7]\n",
    "print(max_absolute_difference(arr3))  # Output: 1\n"
   ]
  },
  {
   "cell_type": "code",
   "execution_count": null,
   "id": "3f483c1d",
   "metadata": {},
   "outputs": [],
   "source": []
  }
 ],
 "metadata": {
  "kernelspec": {
   "display_name": "Python 3",
   "language": "python",
   "name": "python3"
  },
  "language_info": {
   "codemirror_mode": {
    "name": "ipython",
    "version": 3
   },
   "file_extension": ".py",
   "mimetype": "text/x-python",
   "name": "python",
   "nbconvert_exporter": "python",
   "pygments_lexer": "ipython3",
   "version": "3.8.8"
  }
 },
 "nbformat": 4,
 "nbformat_minor": 5
}
