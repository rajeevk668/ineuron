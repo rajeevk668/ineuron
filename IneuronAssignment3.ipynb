{
 "cells": [
  {
   "cell_type": "markdown",
   "id": "19e0aab4",
   "metadata": {},
   "source": [
    "# Assignment 3"
   ]
  },
  {
   "cell_type": "markdown",
   "id": "c2f18a96",
   "metadata": {},
   "source": [
    "# Question 1\n",
    "Given an integer array nums of length n and an integer target, find three integers\n",
    "in nums such that the sum is closest to the target.\n",
    "Return the sum of the three integers.\n",
    "\n",
    "You may assume that each input would have exactly one solution.\n",
    "\n",
    "Example 1:\n",
    "Input: nums = [-1,2,1,-4], target = 1\n",
    "Output: 2\n",
    "\n",
    "Explanation: The sum that is closest to the target is 2. (-1 + 2 + 1 = 2)."
   ]
  },
  {
   "cell_type": "markdown",
   "id": "f34e32d4",
   "metadata": {},
   "source": [
    "To solve this problem, we can use a two-pointer approach along with sorting the array. Here's the step-by-step algorithm:\n",
    "\n",
    "Sort the given array nums in ascending order. This will allow us to efficiently search for the closest sum later.\n",
    "Initialize a variable closestSum to store the closest sum encountered so far. Set it to a large value initially.\n",
    "Iterate over the array nums from index 0 to n - 2 (where n is the length of nums):\n",
    "For each iteration, initialize two pointers: left pointing to the element after the current element (nums[i + 1]), and right pointing to the last element (nums[n - 1]).\n",
    "While left is less than right:\n",
    "Calculate the current sum as currentSum = nums[i] + nums[left] + nums[right].\n",
    "If the absolute difference between currentSum and the target is smaller than the absolute difference between closestSum and the target:\n",
    "Update closestSum with currentSum.\n",
    "If currentSum is less than the target:\n",
    "Increment left by 1.\n",
    "If currentSum is greater than the target:\n",
    "Decrement right by 1.\n",
    "If currentSum is equal to the target:\n",
    "Return currentSum as we have found an exact match.\n",
    "After the loop ends, return closestSum as the result.\n",
    "\n",
    "\n",
    "\n",
    "\n",
    "\n",
    "\n",
    "\n",
    "\n"
   ]
  },
  {
   "cell_type": "code",
   "execution_count": 1,
   "id": "994b7f7d",
   "metadata": {},
   "outputs": [
    {
     "name": "stdout",
     "output_type": "stream",
     "text": [
      "2\n"
     ]
    }
   ],
   "source": [
    "def threeSumClosest(nums, target):\n",
    "    nums.sort()\n",
    "    n = len(nums)\n",
    "    closestSum = float('inf')\n",
    "\n",
    "    for i in range(n - 2):\n",
    "        left = i + 1\n",
    "        right = n - 1\n",
    "\n",
    "        while left < right:\n",
    "            currentSum = nums[i] + nums[left] + nums[right]\n",
    "\n",
    "            if abs(currentSum - target) < abs(closestSum - target):\n",
    "                closestSum = currentSum\n",
    "\n",
    "            if currentSum < target:\n",
    "                left += 1\n",
    "            elif currentSum > target:\n",
    "                right -= 1\n",
    "            else:\n",
    "                return currentSum\n",
    "\n",
    "    return closestSum\n",
    "\n",
    "nums = [-1, 2, 1, -4]\n",
    "target = 1\n",
    "print(threeSumClosest(nums, target))\n",
    "\n"
   ]
  },
  {
   "cell_type": "markdown",
   "id": "e55722f8",
   "metadata": {},
   "source": [
    "Thus, the sum of the three integers that is closest to the target is 2."
   ]
  },
  {
   "cell_type": "markdown",
   "id": "5778d339",
   "metadata": {},
   "source": [
    "# Question 2\n",
    "Given an array nums of n integers, return an array of all the unique quadruplets\n",
    "[nums[a], nums[b], nums[c], nums[d]] such that:\n",
    "           ● 0 <= a, b, c, d < n\n",
    "           ● a, b, c, and d are distinct.\n",
    "           ● nums[a] + nums[b] + nums[c] + nums[d] == target\n",
    "\n",
    "You may return the answer in any order.\n",
    "\n",
    "Example 1:\n",
    "Input: nums = [1,0,-1,0,-2,2], target = 0\n",
    "Output: [[-2,-1,1,2],[-2,0,0,2],[-1,0,0,1]]"
   ]
  },
  {
   "cell_type": "markdown",
   "id": "0a8a4cf5",
   "metadata": {},
   "source": [
    "To solve this problem, we can use a similar approach as the previous question, but with some modifications to handle the quadruplets. Here's the step-by-step algorithm:\n",
    "\n",
    "Sort the given array nums in ascending order.\n",
    "Initialize an empty list result to store the unique quadruplets.\n",
    "Iterate over the array nums from index 0 to n - 4 (where n is the length of nums):\n",
    "For each iteration, check if the current element is equal to the previous element. If it is, continue to the next iteration to avoid duplicate quadruplets.\n",
    "Iterate over the array from index i + 1 to n - 3:\n",
    "For each iteration, check if the current element is equal to the previous element. If it is, continue to the next iteration to avoid duplicate quadruplets.\n",
    "Initialize two pointers: left pointing to the element after the current element (nums[j + 1]), and right pointing to the last element (nums[n - 1]).\n",
    "While left is less than right:\n",
    "Calculate the current sum as currentSum = nums[i] + nums[j] + nums[left] + nums[right].\n",
    "If currentSum is equal to the target:\n",
    "Append the quadruplet [nums[i], nums[j], nums[left], nums[right]] to result.\n",
    "Update left and right to skip duplicate elements.\n",
    "If currentSum is less than the target:\n",
    "Increment left by 1.\n",
    "If currentSum is greater than the target:\n",
    "Decrement right by 1.\n",
    "After the loops end, return result as the output."
   ]
  },
  {
   "cell_type": "code",
   "execution_count": 2,
   "id": "941be446",
   "metadata": {},
   "outputs": [
    {
     "name": "stdout",
     "output_type": "stream",
     "text": [
      "[[-2, -1, 1, 2], [-2, 0, 0, 2], [-1, 0, 0, 1]]\n"
     ]
    }
   ],
   "source": [
    "def fourSum(nums, target):\n",
    "    nums.sort()\n",
    "    n = len(nums)\n",
    "    result = []\n",
    "\n",
    "    for i in range(n - 3):\n",
    "        if i > 0 and nums[i] == nums[i - 1]:\n",
    "            continue\n",
    "\n",
    "        for j in range(i + 1, n - 2):\n",
    "            if j > i + 1 and nums[j] == nums[j - 1]:\n",
    "                continue\n",
    "\n",
    "            left = j + 1\n",
    "            right = n - 1\n",
    "\n",
    "            while left < right:\n",
    "                currentSum = nums[i] + nums[j] + nums[left] + nums[right]\n",
    "\n",
    "                if currentSum == target:\n",
    "                    result.append([nums[i], nums[j], nums[left], nums[right]])\n",
    "                    left += 1\n",
    "                    right -= 1\n",
    "\n",
    "                    while left < right and nums[left] == nums[left - 1]:\n",
    "                        left += 1\n",
    "                    while left < right and nums[right] == nums[right + 1]:\n",
    "                        right -= 1\n",
    "\n",
    "                elif currentSum < target:\n",
    "                    left += 1\n",
    "                else:\n",
    "                    right -= 1\n",
    "\n",
    "    return result\n",
    "\n",
    "nums = [1, 0, -1, 0, -2, 2]\n",
    "target = 0\n",
    "print(fourSum(nums, target))"
   ]
  },
  {
   "cell_type": "markdown",
   "id": "418bc6b6",
   "metadata": {},
   "source": [
    "Thus, the unique quadruplets whose sum is equal to the target are [-2, -1, 1, 2], [-2, 0, 0, 2], and `[-1, 0"
   ]
  },
  {
   "cell_type": "markdown",
   "id": "e59187f3",
   "metadata": {},
   "source": [
    "\n",
    "# **Question 3**\n",
    "A permutation of an array of integers is an arrangement of its members into a\n",
    "sequence or linear order.\n",
    "\n",
    "For example, for arr = [1,2,3], the following are all the permutations of arr:\n",
    "[1,2,3], [1,3,2], [2, 1, 3], [2, 3, 1], [3,1,2], [3,2,1].\n",
    "\n",
    "The next permutation of an array of integers is the next lexicographically greater\n",
    "permutation of its integer. More formally, if all the permutations of the array are\n",
    "sorted in one container according to their lexicographical order, then the next\n",
    "permutation of that array is the permutation that follows it in the sorted container.\n",
    "\n",
    "If such an arrangement is not possible, the array must be rearranged as the\n",
    "lowest possible order (i.e., sorted in ascending order).\n",
    "\n",
    "● For example, the next permutation of arr = [1,2,3] is [1,3,2].\n",
    "● Similarly, the next permutation of arr = [2,3,1] is [3,1,2].\n",
    "● While the next permutation of arr = [3,2,1] is [1,2,3] because [3,2,1] does not\n",
    "have a lexicographical larger rearrangement.\n",
    "\n",
    "Given an array of integers nums, find the next permutation of nums.\n",
    "The replacement must be in place and use only constant extra memory.\n",
    "\n",
    "**Example 1:**\n",
    "Input: nums = [1,2,3]\n",
    "Output: [1,3,2]\n",
    "\n"
   ]
  },
  {
   "cell_type": "markdown",
   "id": "b2d27144",
   "metadata": {},
   "source": [
    "To find the next permutation of an array nums, we can follow these steps:\n",
    "\n",
    "Start from the rightmost element of the array and find the first pair of adjacent elements nums[i] and nums[i-1] such that nums[i] > nums[i-1]. This is the first element from the right that can be modified to create a larger permutation.\n",
    "If such a pair doesn't exist, it means the array is sorted in descending order, and we need to return the lowest possible order, which is the array sorted in ascending order. In this case, we reverse the entire array nums to achieve the lowest permutation.\n",
    "If a pair is found, we need to modify the array to get the next permutation. To do this, we follow these steps:\n",
    "From the right side of the array, find the first element nums[j] that is greater than nums[i-1].\n",
    "Swap nums[j] and nums[i-1].\n",
    "Reverse the subarray starting from index i to the end of the array. This ensures that the remaining part of the array is in ascending order, resulting in the next lexicographically greater permutation.\n",
    "Return the modified array nums as the result."
   ]
  },
  {
   "cell_type": "code",
   "execution_count": 5,
   "id": "ab474f09",
   "metadata": {},
   "outputs": [
    {
     "name": "stdout",
     "output_type": "stream",
     "text": [
      "[1, 3, 2]\n"
     ]
    }
   ],
   "source": [
    "def nextPermutation(nums):\n",
    "    n = len(nums)\n",
    "    i = n - 2\n",
    "\n",
    "    # Find the first pair of adjacent elements in descending order\n",
    "    while i >= 0 and nums[i] >= nums[i + 1]:\n",
    "        i -= 1\n",
    "\n",
    "    if i >= 0:\n",
    "        j = n - 1\n",
    "        # Find the element to swap with nums[i]\n",
    "        while j > i and nums[j] <= nums[i]:\n",
    "            j -= 1\n",
    "        # Swap nums[i] and nums[j]\n",
    "        nums[i], nums[j] = nums[j], nums[i]\n",
    "\n",
    "    # Reverse the subarray from i+1 to the end\n",
    "    left = i + 1\n",
    "    right = n - 1\n",
    "    while left < right:\n",
    "        nums[left], nums[right] = nums[right], nums[left]\n",
    "        left += 1\n",
    "        right -= 1\n",
    "\n",
    "    return nums\n",
    "\n",
    "nums = [1, 2, 3]\n",
    "print(nextPermutation(nums))"
   ]
  },
  {
   "cell_type": "markdown",
   "id": "44552c97",
   "metadata": {},
   "source": [
    "Thus, the next permutation of [1, 2, 3] is [1, 3, 2]."
   ]
  },
  {
   "cell_type": "markdown",
   "id": "d54a8b18",
   "metadata": {},
   "source": [
    "# Question 4\n",
    "Given a sorted array of distinct integers and a target value, return the index if the\n",
    "target is found. If not, return the index where it would be if it were inserted in\n",
    "order.\n",
    "\n",
    "You must write an algorithm with O(log n) runtime complexity.\n",
    "\n",
    "Example 1:\n",
    "Input: nums = [1,3,5,6], target = 5\n",
    "Output: 2"
   ]
  },
  {
   "cell_type": "markdown",
   "id": "34d22c20",
   "metadata": {},
   "source": [
    "To solve this problem with O(log n) runtime complexity, we can use a binary search algorithm. Here's the step-by-step algorithm:\n",
    "\n",
    "Initialize two pointers, left and right, to the start and end indices of the array nums, respectively.\n",
    "While left is less than or equal to right, do the following:\n",
    "Calculate the middle index as mid = left + (right - left) // 2.\n",
    "If the middle element of nums is equal to the target, return mid as the index.\n",
    "If the middle element of nums is greater than the target, update right to mid - 1 and continue searching in the left half of the array.\n",
    "If the middle element of nums is less than the target, update left to mid + 1 and continue searching in the right half of the array.\n",
    "If the loop finishes without finding the target, return left as the index where the target would be inserted in order."
   ]
  },
  {
   "cell_type": "code",
   "execution_count": 6,
   "id": "b72eddda",
   "metadata": {},
   "outputs": [
    {
     "name": "stdout",
     "output_type": "stream",
     "text": [
      "2\n"
     ]
    }
   ],
   "source": [
    "def searchInsert(nums, target):\n",
    "    left = 0\n",
    "    right = len(nums) - 1\n",
    "\n",
    "    while left <= right:\n",
    "        mid = left + (right - left) // 2\n",
    "\n",
    "        if nums[mid] == target:\n",
    "            return mid\n",
    "        elif nums[mid] < target:\n",
    "            left = mid + 1\n",
    "        else:\n",
    "            right = mid - 1\n",
    "\n",
    "    return left\n",
    "\n",
    "nums = [1, 3, 5, 6]\n",
    "target = 5\n",
    "print(searchInsert(nums, target))\n",
    "\n",
    "#Thus, the index of the target value 5 in the sorted array [1, 3, 5, 6] is 2.\n",
    "\n",
    "\n",
    "\n",
    "\n",
    "\n",
    "\n"
   ]
  },
  {
   "cell_type": "markdown",
   "id": "f3852f54",
   "metadata": {},
   "source": [
    "\n",
    "# **Question 5**\n",
    "You are given a large integer represented as an integer array digits, where each\n",
    "digits[i] is the ith digit of the integer. The digits are ordered from most significant\n",
    "to least significant in left-to-right order. The large integer does not contain any\n",
    "leading 0's.\n",
    "\n",
    "Increment the large integer by one and return the resulting array of digits.\n",
    "\n",
    "**Example 1:**\n",
    "Input: digits = [1,2,3]\n",
    "Output: [1,2,4]\n",
    "\n",
    "**Explanation:** The array represents the integer 123.\n",
    "Incrementing by one gives 123 + 1 = 124.\n",
    "Thus, the result should be [1,2,4]\n",
    "\n"
   ]
  },
  {
   "cell_type": "markdown",
   "id": "bd153513",
   "metadata": {},
   "source": [
    "To increment a large integer represented as an integer array digits, we can follow these steps:\n",
    "\n",
    "Start from the least significant digit (rightmost digit) and initialize a carry variable carry to 1, indicating the increment.\n",
    "Iterate over the array digits from right to left:\n",
    "Add the current digit with the carry. If the digit is 9, the sum will be 10 and we need to set the current digit to 0 and update the carry to 1.\n",
    "If the digit is not 9, add the carry to the digit and update the carry to 0.\n",
    "Continue this process until we find a digit that is not 9 or we reach the leftmost digit.\n",
    "After the iteration, if the carry is still 1, it means we have a carry at the most significant digit. In this case, we need to insert a new digit 1 at the beginning of the array.\n",
    "Return the modified array digits as the result."
   ]
  },
  {
   "cell_type": "code",
   "execution_count": 7,
   "id": "598b2611",
   "metadata": {},
   "outputs": [
    {
     "name": "stdout",
     "output_type": "stream",
     "text": [
      "[1, 2, 4]\n"
     ]
    }
   ],
   "source": [
    "def plusOne(digits):\n",
    "    n = len(digits)\n",
    "    carry = 1\n",
    "\n",
    "    for i in range(n - 1, -1, -1):\n",
    "        digits[i] += carry\n",
    "\n",
    "        if digits[i] == 10:\n",
    "            digits[i] = 0\n",
    "            carry = 1\n",
    "        else:\n",
    "            carry = 0\n",
    "            break\n",
    "\n",
    "    if carry == 1:\n",
    "        digits.insert(0, 1)\n",
    "\n",
    "    return digits\n",
    "\n",
    "digits = [1, 2, 3]\n",
    "print(plusOne(digits))\n",
    "\n",
    "#Thus, incrementing the large integer represented by the array [1, 2, 3] by one results in the array [1, 2, 4].\n",
    "\n",
    "\n",
    "\n",
    "\n",
    "\n",
    "\n"
   ]
  },
  {
   "cell_type": "markdown",
   "id": "1a417f35",
   "metadata": {},
   "source": [
    "# Question 6\n",
    "Given a non-empty array of integers nums, every element appears twice except\n",
    "for one. Find that single one.\n",
    "\n",
    "You must implement a solution with a linear runtime complexity and use only\n",
    "constant extra space.\n",
    "\n",
    "Example 1:\n",
    "Input: nums = [2,2,1]\n",
    "Output: 1"
   ]
  },
  {
   "cell_type": "markdown",
   "id": "0f8f8b6a",
   "metadata": {},
   "source": [
    "To find the element that appears only once in an array nums where every other element appears twice, we can use the XOR operation. The XOR of two equal numbers is 0, so if we XOR all the elements in the array, the result will be the element that appears only once.\n",
    "\n",
    "Here's the step-by-step algorithm:\n",
    "\n",
    "Initialize a variable result to 0.\n",
    "Iterate over each element num in the array nums.\n",
    "Update result by performing the XOR operation between result and num.\n",
    "After the iteration, the value of result will be the element that appears only once.\n",
    "Return result as the output."
   ]
  },
  {
   "cell_type": "code",
   "execution_count": 8,
   "id": "67be9fa5",
   "metadata": {},
   "outputs": [
    {
     "name": "stdout",
     "output_type": "stream",
     "text": [
      "1\n"
     ]
    }
   ],
   "source": [
    "def singleNumber(nums):\n",
    "    result = 0\n",
    "\n",
    "    for num in nums:\n",
    "        result ^= num\n",
    "\n",
    "    return result\n",
    "nums = [2, 2, 1]\n",
    "print(singleNumber(nums))"
   ]
  },
  {
   "cell_type": "code",
   "execution_count": 9,
   "id": "89686505",
   "metadata": {},
   "outputs": [],
   "source": [
    "# Thus, the element that appears only once in the array [2, 2, 1] is 1."
   ]
  },
  {
   "cell_type": "markdown",
   "id": "0795a07a",
   "metadata": {},
   "source": [
    "# Question 7\n",
    "You are given an inclusive range [lower, upper] and a sorted unique integer array\n",
    "nums, where all elements are within the inclusive range.\n",
    "\n",
    "A number x is considered missing if x is in the range [lower, upper] and x is not in\n",
    "nums.\n",
    "\n",
    "Return the shortest sorted list of ranges that exactly covers all the missing\n",
    "numbers. That is, no element of nums is included in any of the ranges, and each\n",
    "missing number is covered by one of the ranges.\n",
    "\n",
    "Example 1:\n",
    "Input: nums = [0,1,3,50,75], lower = 0, upper = 99\n",
    "Output: [[2,2],[4,49],[51,74],[76,99]]\n",
    "\n",
    "Explanation: The ranges are:\n",
    "[2,2]\n",
    "[4,49]\n",
    "[51,74]\n",
    "[76,99]"
   ]
  },
  {
   "cell_type": "markdown",
   "id": "67cb27e7",
   "metadata": {},
   "source": [
    "To find the shortest sorted list of ranges that covers all the missing numbers within a given range [lower, upper], we can iterate through the range and check for missing numbers.\n",
    "\n",
    "Here's the step-by-step algorithm:\n",
    "\n",
    "Initialize an empty list result to store the ranges.\n",
    "Initialize a variable start to lower to keep track of the start of the current range.\n",
    "Iterate from lower to upper + 1 (inclusive).\n",
    "If the current number is in nums, it means it is not missing, so we move to the next number.\n",
    "If the current number is missing, we update start to the current number and continue iterating until we find the end of the missing range.\n",
    "When we find the end of the missing range, we add the range [start, end] to result, where end is the previous number.\n",
    "If start is equal to upper, it means the upper bound is missing, so we add the range [start, upper] to result.\n",
    "Return result as the output."
   ]
  },
  {
   "cell_type": "code",
   "execution_count": 12,
   "id": "e99176a3",
   "metadata": {},
   "outputs": [
    {
     "name": "stdout",
     "output_type": "stream",
     "text": [
      "[[2, 2], [4, 49], [51, 74], [76, 99]]\n"
     ]
    }
   ],
   "source": [
    "def findMissingRanges(nums, lower, upper):\n",
    "    result = []\n",
    "    prev = lower - 1\n",
    "\n",
    "    for num in nums + [upper + 1]:\n",
    "        if num == prev + 1:\n",
    "            prev = num\n",
    "        elif num > prev + 1:\n",
    "            result.append([prev + 1, num - 1])\n",
    "            prev = num\n",
    "\n",
    "    return result\n",
    "\n",
    "nums = [0, 1, 3, 50, 75]\n",
    "lower = 0\n",
    "upper = 99\n",
    "print(findMissingRanges(nums, lower, upper))"
   ]
  },
  {
   "cell_type": "code",
   "execution_count": 13,
   "id": "1a83feb8",
   "metadata": {},
   "outputs": [],
   "source": [
    "# Thus, the shortest sorted list of ranges that covers all the missing numbers within the range [0, 99] for the given nums array is [[2, 2], [4, 49], [51, 74], [76, 99]]."
   ]
  },
  {
   "cell_type": "markdown",
   "id": "ef422f0a",
   "metadata": {},
   "source": [
    "# Question 8\n",
    "Given an array of meeting time intervals where intervals[i] = [starti, endi],\n",
    "determine if a person could attend all meetings.\n",
    "\n",
    "Example 1:\n",
    "Input: intervals = [[0,30],[5,10],[15,20]]\n",
    "Output: false"
   ]
  },
  {
   "cell_type": "markdown",
   "id": "bada81c4",
   "metadata": {},
   "source": [
    "To determine if a person could attend all the meetings given an array of meeting time intervals, we need to check if any two intervals overlap. If there is any overlap, it means that the person cannot attend all the meetings.\n",
    "\n",
    "Here's the step-by-step algorithm:\n",
    "\n",
    "Sort the meeting intervals based on the start time.\n",
    "Iterate through the sorted intervals starting from the second interval:\n",
    "Compare the start time of the current interval with the end time of the previous interval.\n",
    "If the start time of the current interval is less than or equal to the end time of the previous interval, there is an overlap, and the person cannot attend all the meetings. Return False.\n",
    "If no overlap is found after iterating through all the intervals, return True since the person can attend all the meetings."
   ]
  },
  {
   "cell_type": "code",
   "execution_count": 15,
   "id": "5537744f",
   "metadata": {},
   "outputs": [
    {
     "name": "stdout",
     "output_type": "stream",
     "text": [
      "False\n"
     ]
    }
   ],
   "source": [
    "def canAttendMeetings(intervals):\n",
    "    intervals.sort(key=lambda x: x[0])\n",
    "\n",
    "    for i in range(1, len(intervals)):\n",
    "        if intervals[i][0] < intervals[i-1][1]:\n",
    "            return False\n",
    "\n",
    "    return True\n",
    "\n",
    "intervals = [[0, 30], [5, 10], [15, 20]]\n",
    "print(canAttendMeetings(intervals))"
   ]
  },
  {
   "cell_type": "code",
   "execution_count": 16,
   "id": "20b2abfd",
   "metadata": {},
   "outputs": [],
   "source": [
    "# Thus, the person cannot attend all the meetings in the given example since there is an overlap between the interval [0, 30] and [15, 20]."
   ]
  },
  {
   "cell_type": "code",
   "execution_count": null,
   "id": "1b33b721",
   "metadata": {},
   "outputs": [],
   "source": []
  }
 ],
 "metadata": {
  "kernelspec": {
   "display_name": "Python 3",
   "language": "python",
   "name": "python3"
  },
  "language_info": {
   "codemirror_mode": {
    "name": "ipython",
    "version": 3
   },
   "file_extension": ".py",
   "mimetype": "text/x-python",
   "name": "python",
   "nbconvert_exporter": "python",
   "pygments_lexer": "ipython3",
   "version": "3.8.8"
  }
 },
 "nbformat": 4,
 "nbformat_minor": 5
}
