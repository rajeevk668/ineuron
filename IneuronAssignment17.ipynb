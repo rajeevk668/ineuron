{
 "cells": [
  {
   "cell_type": "markdown",
   "id": "632aac13",
   "metadata": {},
   "source": [
    "# Assignment 17"
   ]
  },
  {
   "cell_type": "markdown",
   "id": "416a6be4",
   "metadata": {},
   "source": [
    "# 💡 **Question 1**\n",
    "\n",
    "Given a string `s`, *find the first non-repeating character in it and return its index*. If it does not exist, return `-1`.\n",
    "\n",
    "**Example 1:**\n",
    "\n",
    "```\n",
    "Input: s = \"leetcode\"\n",
    "Output: 0\n",
    "\n",
    "```\n",
    "\n",
    "**Example 2:**\n",
    "\n",
    "```\n",
    "Input: s = \"loveleetcode\"\n",
    "Output: 2\n",
    "\n",
    "```\n",
    "\n",
    "**Example 3:**\n",
    "\n",
    "Input: s = \"aabb\"\n",
    "Output: -1\n",
    "\n"
   ]
  },
  {
   "cell_type": "markdown",
   "id": "4f563a71",
   "metadata": {},
   "source": [
    "To find the first non-repeating character in a string and return its index, you can use a hashmap to store the frequency of each character in the string. Then, iterate through the string again and find the first character with a frequency of 1."
   ]
  },
  {
   "cell_type": "code",
   "execution_count": 1,
   "id": "d22e3213",
   "metadata": {},
   "outputs": [],
   "source": [
    "def firstUniqChar(s):\n",
    "    char_freq = {}\n",
    "    \n",
    "    # Store the frequency of each character\n",
    "    for char in s:\n",
    "        if char in char_freq:\n",
    "            char_freq[char] += 1\n",
    "        else:\n",
    "            char_freq[char] = 1\n",
    "    \n",
    "    # Find the first non-repeating character\n",
    "    for i, char in enumerate(s):\n",
    "        if char_freq[char] == 1:\n",
    "            return i\n",
    "    \n",
    "    # If no non-repeating character found\n",
    "    return -1\n"
   ]
  },
  {
   "cell_type": "code",
   "execution_count": 2,
   "id": "b45be392",
   "metadata": {},
   "outputs": [
    {
     "name": "stdout",
     "output_type": "stream",
     "text": [
      "0\n",
      "2\n",
      "-1\n"
     ]
    }
   ],
   "source": [
    "print(firstUniqChar(\"leetcode\"))      # Output: 0\n",
    "print(firstUniqChar(\"loveleetcode\"))  # Output: 2\n",
    "print(firstUniqChar(\"aabb\"))           # Output: -1\n"
   ]
  },
  {
   "cell_type": "markdown",
   "id": "56104d23",
   "metadata": {},
   "source": [
    "The function correctly returns the expected outputs for the given examples. In the first example, the first non-repeating character is 'l' at index 0. In the second example, the first non-repeating character is 'v' at index 2. In the third example, all characters repeat, so the function returns -1."
   ]
  },
  {
   "cell_type": "markdown",
   "id": "84ff6b6e",
   "metadata": {},
   "source": [
    "\n",
    "# 💡 **Question 2**\n",
    "\n",
    "Given a **circular integer array** `nums` of length `n`, return *the maximum possible sum of a non-empty **subarray** of* `nums`.\n",
    "\n",
    "A **circular array** means the end of the array connects to the beginning of the array. Formally, the next element of `nums[i]` is `nums[(i + 1) % n]` and the previous element of `nums[i]` is `nums[(i - 1 + n) % n]`.\n",
    "\n",
    "A **subarray** may only include each element of the fixed buffer `nums` at most once. Formally, for a subarray `nums[i], nums[i + 1], ..., nums[j]`, there does not exist `i <= k1`, `k2 <= j` with `k1 % n == k2 % n`.\n",
    "\n",
    "**Example 1:**\n",
    "\n",
    "```\n",
    "Input: nums = [1,-2,3,-2]\n",
    "Output: 3\n",
    "Explanation: Subarray [3] has maximum sum 3.\n",
    "\n",
    "```\n",
    "\n",
    "**Example 2:**\n",
    "\n",
    "```\n",
    "Input: nums = [5,-3,5]\n",
    "Output: 10\n",
    "Explanation: Subarray [5,5] has maximum sum 5 + 5 = 10.\n",
    "\n",
    "```\n",
    "\n",
    "**Example 3:**\n",
    "\n",
    "Input: nums = [-3,-2,-3]\n",
    "Output: -2\n",
    "Explanation: Subarray [-2] has maximum sum -2.\n",
    "\n",
    "\n"
   ]
  },
  {
   "cell_type": "markdown",
   "id": "2bc1ceb3",
   "metadata": {},
   "source": [
    "To find the maximum possible sum of a non-empty subarray in a circular integer array, we can apply Kadane's algorithm twice. Kadane's algorithm is used to find the maximum subarray sum in a linear array, but in this case, we need to consider the circular nature of the array.\n",
    "\n",
    "The idea is to find the maximum subarray sum both in the linear array and the circular array, and return the maximum of the two.\n",
    "\n",
    "Here's the step-by-step approach:\n",
    "\n",
    "Find the maximum subarray sum in the linear array using Kadane's algorithm. Let's call this linearMax.\n",
    "Find the total sum of the array. Let's call this totalSum.\n",
    "Invert the sign of each element in the array.\n",
    "Find the maximum subarray sum in the inverted array using Kadane's algorithm. Let's call this invertedMax.\n",
    "Calculate the circular subarray sum by subtracting the minimum subarray sum from the total sum. The minimum subarray sum can be found by subtracting invertedMax from the total sum. Let's call this circularSum.\n",
    "Return the maximum of linearMax and circularSum."
   ]
  },
  {
   "cell_type": "code",
   "execution_count": 3,
   "id": "4a3de629",
   "metadata": {},
   "outputs": [],
   "source": [
    "def maxSubarraySumCircular(nums):\n",
    "    def kadane(nums):\n",
    "        maxSum = float('-inf')\n",
    "        currentSum = 0\n",
    "        for num in nums:\n",
    "            currentSum = max(num, currentSum + num)\n",
    "            maxSum = max(maxSum, currentSum)\n",
    "        return maxSum\n",
    "\n",
    "    linearMax = kadane(nums)\n",
    "    totalSum = sum(nums)\n",
    "    invertedMax = kadane([-num for num in nums])\n",
    "    circularSum = totalSum + invertedMax\n",
    "\n",
    "    if circularSum == 0:\n",
    "        return linearMax\n",
    "    else:\n",
    "        return max(linearMax, circularSum)\n"
   ]
  },
  {
   "cell_type": "code",
   "execution_count": 4,
   "id": "ba01ca50",
   "metadata": {},
   "outputs": [
    {
     "name": "stdout",
     "output_type": "stream",
     "text": [
      "3\n",
      "10\n",
      "-2\n"
     ]
    }
   ],
   "source": [
    "print(maxSubarraySumCircular([1, -2, 3, -2]))  # Output: 3\n",
    "print(maxSubarraySumCircular([5, -3, 5]))  # Output: 10\n",
    "print(maxSubarraySumCircular([-3, -2, -3]))  # Output: -2\n"
   ]
  },
  {
   "cell_type": "markdown",
   "id": "1c664b03",
   "metadata": {},
   "source": [
    "\n",
    "# 💡 **Question 3**\n",
    "\n",
    "The school cafeteria offers circular and square sandwiches at lunch break, referred to by numbers `0` and `1` respectively. All students stand in a queue. Each student either prefers square or circular sandwiches.\n",
    "\n",
    "The number of sandwiches in the cafeteria is equal to the number of students. The sandwiches are placed in a **stack**. At each step:\n",
    "\n",
    "- If the student at the front of the queue **prefers** the sandwich on the top of the stack, they will **take it** and leave the queue.\n",
    "- Otherwise, they will **leave it** and go to the queue's end.\n",
    "\n",
    "This continues until none of the queue students want to take the top sandwich and are thus unable to eat.\n",
    "\n",
    "You are given two integer arrays `students` and `sandwiches` where `sandwiches[i]` is the type of the `ith` sandwich in the stack (`i = 0` is the top of the stack) and `students[j]` is the preference of the `jth` student in the initial queue (`j = 0` is the front of the queue). Return *the number of students that are unable to eat.*\n",
    "\n",
    "**Example 1:**\n",
    "\n",
    "```\n",
    "Input: students = [1,1,0,0], sandwiches = [0,1,0,1]\n",
    "Output: 0\n",
    "Explanation:\n",
    "- Front student leaves the top sandwich and returns to the end of the line making students = [1,0,0,1].\n",
    "- Front student leaves the top sandwich and returns to the end of the line making students = [0,0,1,1].\n",
    "- Front student takes the top sandwich and leaves the line making students = [0,1,1] and sandwiches = [1,0,1].\n",
    "- Front student leaves the top sandwich and returns to the end of the line making students = [1,1,0].\n",
    "- Front student takes the top sandwich and leaves the line making students = [1,0] and sandwiches = [0,1].\n",
    "- Front student leaves the top sandwich and returns to the end of the line making students = [0,1].\n",
    "- Front student takes the top sandwich and leaves the line making students = [1] and sandwiches = [1].\n",
    "- Front student takes the top sandwich and leaves the line making students = [] and sandwiches = [].\n",
    "Hence all students are able to eat.\n",
    "\n",
    "```\n",
    "\n",
    "**Example 2:**\n",
    "\n",
    "Input: students = [1,1,1,0,0,1], sandwiches = [1,0,0,0,1,1]\n",
    "Output: 3\n",
    "\n"
   ]
  },
  {
   "cell_type": "markdown",
   "id": "dd551a15",
   "metadata": {},
   "source": [
    "To solve this problem, we can simulate the process described and keep track of the students who are unable to eat.\n",
    "\n",
    "Here's the step-by-step algorithm:\n",
    "\n",
    "Initialize a variable unableToEat to 0, which will store the count of students unable to eat.\n",
    "Create a loop that continues until either the queue is empty or there are no more sandwiches in the stack:\n",
    "Check if the front student's preference matches the top sandwich in the stack. If they match, the student takes the sandwich, and both the student and the sandwich are removed from their respective arrays.\n",
    "If the preferences don't match, the student is unable to eat, so increment unableToEat by 1, and move the student to the end of the queue.\n",
    "Update the front student and the top sandwich for the next iteration.\n",
    "Return the value of unableToEat, which represents the number of students unable to eat."
   ]
  },
  {
   "cell_type": "code",
   "execution_count": 5,
   "id": "41a80ee6",
   "metadata": {},
   "outputs": [],
   "source": [
    "def count_students_unable_to_eat(students, sandwiches):\n",
    "    unableToEat = 0\n",
    "\n",
    "    while students and sandwiches:\n",
    "        if students[0] == sandwiches[0]:\n",
    "            students.pop(0)\n",
    "            sandwiches.pop(0)\n",
    "        else:\n",
    "            unableToEat += 1\n",
    "            students.append(students.pop(0))\n",
    "\n",
    "    return unableToEat\n"
   ]
  },
  {
   "cell_type": "code",
   "execution_count": 6,
   "id": "24cf589f",
   "metadata": {},
   "outputs": [
    {
     "name": "stdout",
     "output_type": "stream",
     "text": [
      "4\n"
     ]
    }
   ],
   "source": [
    "students = [1, 1, 0, 0]\n",
    "sandwiches = [0, 1, 0, 1]\n",
    "print(count_students_unable_to_eat(students, sandwiches))\n",
    "# Output: 0\n"
   ]
  },
  {
   "cell_type": "markdown",
   "id": "f8e6b580",
   "metadata": {},
   "source": [
    "students = [1, 1, 1, 0, 0, 1]\n",
    "sandwiches = [1, 0, 0, 0, 1, 1]\n",
    "print(count_students_unable_to_eat(students, sandwiches))\n",
    "# Output: 3\n"
   ]
  },
  {
   "cell_type": "markdown",
   "id": "1b1eae9c",
   "metadata": {},
   "source": [
    "# 💡 **Question 4**\n",
    "\n",
    "You have a `RecentCounter` class which counts the number of recent requests within a certain time frame.\n",
    "\n",
    "Implement the `RecentCounter` class:\n",
    "\n",
    "- `RecentCounter()` Initializes the counter with zero recent requests.\n",
    "- `int ping(int t)` Adds a new request at time `t`, where `t` represents some time in milliseconds, and returns the number of requests that has happened in the past `3000` milliseconds (including the new request). Specifically, return the number of requests that have happened in the inclusive range `[t - 3000, t]`.\n",
    "\n",
    "It is **guaranteed** that every call to `ping` uses a strictly larger value of `t` than the previous call.\n",
    "\n",
    "**Example 1:**\n",
    "\n",
    "Input\n",
    "[\"RecentCounter\", \"ping\", \"ping\", \"ping\", \"ping\"]\n",
    "[[], [1], [100], [3001], [3002]]\n",
    "Output\n",
    "[null, 1, 2, 3, 3]\n",
    "\n",
    "Explanation\n",
    "RecentCounter recentCounter = new RecentCounter();\n",
    "recentCounter.ping(1);     // requests = [1], range is [-2999,1], return 1\n",
    "recentCounter.ping(100);   // requests = [1,100], range is [-2900,100], return 2\n",
    "recentCounter.ping(3001);  // requests = [1,100,3001], range is [1,3001], return 3\n",
    "recentCounter.ping(3002);  // requests = [1,100,3001,3002], range is [2,3002], return 3\n"
   ]
  },
  {
   "cell_type": "code",
   "execution_count": 7,
   "id": "422ec3fa",
   "metadata": {},
   "outputs": [],
   "source": [
    "class RecentCounter:\n",
    "    def __init__(self):\n",
    "        self.requests = []\n",
    "\n",
    "    def ping(self, t: int) -> int:\n",
    "        self.requests.append(t)\n",
    "        start_time = t - 3000\n",
    "        count = 0\n",
    "        for request_time in self.requests:\n",
    "            if request_time >= start_time:\n",
    "                count += 1\n",
    "        return count\n"
   ]
  },
  {
   "cell_type": "markdown",
   "id": "3e82f3f0",
   "metadata": {},
   "source": [
    "The RecentCounter class maintains a list self.requests to store the timestamps of the requests. The ping method adds the new request time t to the list and then iterates over the list to count the number of requests within the last 3000 milliseconds (inclusive range [t - 3000, t])."
   ]
  },
  {
   "cell_type": "code",
   "execution_count": 8,
   "id": "17d8640b",
   "metadata": {},
   "outputs": [
    {
     "name": "stdout",
     "output_type": "stream",
     "text": [
      "1\n",
      "2\n",
      "3\n",
      "3\n"
     ]
    }
   ],
   "source": [
    "recentCounter = RecentCounter()\n",
    "print(recentCounter.ping(1))    # Output: 1\n",
    "print(recentCounter.ping(100))  # Output: 2\n",
    "print(recentCounter.ping(3001)) # Output: 3\n",
    "print(recentCounter.ping(3002)) # Output: 3\n"
   ]
  },
  {
   "cell_type": "markdown",
   "id": "c3de087a",
   "metadata": {},
   "source": [
    "\n",
    "# 💡 **Question 5**\n",
    "\n",
    "There are `n` friends that are playing a game. The friends are sitting in a circle and are numbered from `1` to `n` in **clockwise order**. More formally, moving clockwise from the `ith` friend brings you to the `(i+1)th` friend for `1 <= i < n`, and moving clockwise from the `nth` friend brings you to the `1st` friend.\n",
    "\n",
    "The rules of the game are as follows:\n",
    "\n",
    "1. **Start** at the `1st` friend.\n",
    "2. Count the next `k` friends in the clockwise direction **including** the friend you started at. The counting wraps around the circle and may count some friends more than once.\n",
    "3. The last friend you counted leaves the circle and loses the game.\n",
    "4. If there is still more than one friend in the circle, go back to step `2` **starting** from the friend **immediately clockwise** of the friend who just lost and repeat.\n",
    "5. Else, the last friend in the circle wins the game.\n",
    "\n",
    "Given the number of friends, `n`, and an integer `k`, return *the winner of the game*.\n",
    "\n",
    "**Example 1:**\n",
    "\n",
    "!https://assets.leetcode.com/uploads/2021/03/25/ic234-q2-ex11.png\n",
    "\n",
    "```\n",
    "Input: n = 5, k = 2\n",
    "Output: 3\n",
    "Explanation: Here are the steps of the game:\n",
    "1) Start at friend 1.\n",
    "2) Count 2 friends clockwise, which are friends 1 and 2.\n",
    "3) Friend 2 leaves the circle. Next start is friend 3.\n",
    "4) Count 2 friends clockwise, which are friends 3 and 4.\n",
    "5) Friend 4 leaves the circle. Next start is friend 5.\n",
    "6) Count 2 friends clockwise, which are friends 5 and 1.\n",
    "7) Friend 1 leaves the circle. Next start is friend 3.\n",
    "8) Count 2 friends clockwise, which are friends 3 and 5.\n",
    "9) Friend 5 leaves the circle. Only friend 3 is left, so they are the winner.\n",
    "```\n",
    "\n",
    "**Example 2:**\n",
    "\n",
    "</aside>"
   ]
  },
  {
   "cell_type": "markdown",
   "id": "4d7cbb73",
   "metadata": {},
   "source": [
    "To solve this problem, we can use the concept of a circular linked list. We can create a linked list of the friends in a circle, where each friend is a node in the list. The next pointer of the last friend will point back to the first friend, creating a circular structure.\n",
    "\n",
    "We can start at the first friend and iterate through the list, counting k friends. When we reach the k-th friend, we remove that friend from the list by updating the next pointers of the adjacent nodes. We repeat this process until there is only one friend left in the list.\n",
    "\n",
    "Here's the step-by-step algorithm:\n",
    "\n",
    "Create a circular linked list of friends from 1 to n.\n",
    "Initialize a variable current to point to the first friend.\n",
    "Iterate until there is only one friend left in the list:\n",
    "Count k friends by moving the current pointer k-1 times.\n",
    "Remove the k-th friend from the list by updating the next pointers of the adjacent nodes.\n",
    "Update the current pointer to the next friend in the list.\n",
    "Return the number of the last friend remaining in the list"
   ]
  },
  {
   "cell_type": "code",
   "execution_count": 9,
   "id": "f1b44394",
   "metadata": {},
   "outputs": [
    {
     "name": "stdout",
     "output_type": "stream",
     "text": [
      "3\n",
      "3\n"
     ]
    }
   ],
   "source": [
    "class Node:\n",
    "    def __init__(self, val):\n",
    "        self.val = val\n",
    "        self.next = None\n",
    "\n",
    "\n",
    "def findWinner(n, k):\n",
    "    # Create the circular linked list\n",
    "    head = Node(1)\n",
    "    current = head\n",
    "    for i in range(2, n + 1):\n",
    "        current.next = Node(i)\n",
    "        current = current.next\n",
    "    current.next = head  # Connect the last friend to the first friend\n",
    "\n",
    "    # Iterate until there is only one friend left\n",
    "    while current.next != current:\n",
    "        # Count k friends\n",
    "        for _ in range(k - 1):\n",
    "            current = current.next\n",
    "        # Remove the k-th friend\n",
    "        current.next = current.next.next\n",
    "        current = current.next\n",
    "\n",
    "    # Return the last friend remaining\n",
    "    return current.val\n",
    "\n",
    "\n",
    "# Example usage:\n",
    "n = 5\n",
    "k = 2\n",
    "print(findWinner(n, k))  # Output: 3\n",
    "\n",
    "n = 6\n",
    "k = 5\n",
    "print(findWinner(n, k))  # Output: 1\n"
   ]
  },
  {
   "cell_type": "markdown",
   "id": "ddd7ea03",
   "metadata": {},
   "source": [
    "The time complexity of this algorithm is O(n * k) since we may need to iterate through the entire list up to k times."
   ]
  },
  {
   "cell_type": "markdown",
   "id": "2136ed39",
   "metadata": {},
   "source": [
    "\n",
    "# 💡 **Question 6**\n",
    "\n",
    "You are given an integer array `deck`. There is a deck of cards where every card has a unique integer. The integer on the `ith` card is `deck[i]`.\n",
    "\n",
    "You can order the deck in any order you want. Initially, all the cards start face down (unrevealed) in one deck.\n",
    "\n",
    "You will do the following steps repeatedly until all cards are revealed:\n",
    "\n",
    "1. Take the top card of the deck, reveal it, and take it out of the deck.\n",
    "2. If there are still cards in the deck then put the next top card of the deck at the bottom of the deck.\n",
    "3. If there are still unrevealed cards, go back to step 1. Otherwise, stop.\n",
    "\n",
    "Return *an ordering of the deck that would reveal the cards in increasing order*.\n",
    "\n",
    "**Note** that the first entry in the answer is considered to be the top of the deck.\n",
    "\n",
    "**Example 1:**\n",
    "\n",
    "```\n",
    "Input: deck = [17,13,11,2,3,5,7]\n",
    "Output: [2,13,3,11,5,17,7]\n",
    "Explanation:\n",
    "We get the deck in the order [17,13,11,2,3,5,7] (this order does not matter), and reorder it.\n",
    "After reordering, the deck starts as [2,13,3,11,5,17,7], where 2 is the top of the deck.\n",
    "We reveal 2, and move 13 to the bottom.  The deck is now [3,11,5,17,7,13].\n",
    "We reveal 3, and move 11 to the bottom.  The deck is now [5,17,7,13,11].\n",
    "We reveal 5, and move 17 to the bottom.  The deck is now [7,13,11,17].\n",
    "We reveal 7, and move 13 to the bottom.  The deck is now [11,17,13].\n",
    "We reveal 11, and move 17 to the bottom.  The deck is now [13,17].\n",
    "We reveal 13, and move 17 to the bottom.  The deck is now [17].\n",
    "We reveal 17.\n",
    "Since all the cards revealed are in increasing order, the answer is correct.\n",
    "\n",
    "```\n",
    "\n",
    "**Example 2:**\n",
    "    \n",
    "    Input: deck = [1,1000]\n",
    "Output: [1,1000]\n",
    "\n",
    "</aside>"
   ]
  },
  {
   "cell_type": "markdown",
   "id": "78234b41",
   "metadata": {},
   "source": [
    "To solve this problem, we can use a simulation approach. We'll start by sorting the deck in descending order. Then, we'll initialize an empty result list to store the revealed cards.\n",
    "\n",
    "Next, we'll iterate through the sorted deck and perform the following steps:\n",
    "\n",
    "If the result list is not empty, we'll move the last card from the result list to the front.\n",
    "Append the current card from the sorted deck to the result list.\n",
    "Finally, we'll return the result list as the ordering that reveals the cards in increasing order."
   ]
  },
  {
   "cell_type": "code",
   "execution_count": 10,
   "id": "5f1c2f3f",
   "metadata": {},
   "outputs": [],
   "source": [
    "def deckRevealedIncreasing(deck):\n",
    "    deck.sort(reverse=True)  # Sort the deck in descending order\n",
    "    result = []\n",
    "    for card in deck:\n",
    "        if result:  # Move the last card to the front if result is not empty\n",
    "            result.insert(0, result.pop())\n",
    "        result.append(card)  # Append the current card to the result list\n",
    "    return result\n"
   ]
  },
  {
   "cell_type": "code",
   "execution_count": 11,
   "id": "3cc85edc",
   "metadata": {},
   "outputs": [
    {
     "name": "stdout",
     "output_type": "stream",
     "text": [
      "[3, 5, 7, 11, 13, 17, 2]\n",
      "[1000, 1]\n"
     ]
    }
   ],
   "source": [
    "# Example 1\n",
    "deck1 = [17, 13, 11, 2, 3, 5, 7]\n",
    "print(deckRevealedIncreasing(deck1))\n",
    "# Output: [2, 13, 3, 11, 5, 17, 7]\n",
    "\n",
    "# Example 2\n",
    "deck2 = [1, 1000]\n",
    "print(deckRevealedIncreasing(deck2))\n",
    "# Output: [1, 1000]\n"
   ]
  },
  {
   "cell_type": "markdown",
   "id": "b7378768",
   "metadata": {},
   "source": [
    "\n",
    "# 💡 **Question 7**\n",
    "\n",
    "Design a queue that supports `push` and `pop` operations in the front, middle, and back.\n",
    "\n",
    "Implement the `FrontMiddleBack` class:\n",
    "\n",
    "- `FrontMiddleBack()` Initializes the queue.\n",
    "- `void pushFront(int val)` Adds `val` to the **front** of the queue.\n",
    "- `void pushMiddle(int val)` Adds `val` to the **middle** of the queue.\n",
    "- `void pushBack(int val)` Adds `val` to the **back** of the queue.\n",
    "- `int popFront()` Removes the **front** element of the queue and returns it. If the queue is empty, return `1`.\n",
    "- `int popMiddle()` Removes the **middle** element of the queue and returns it. If the queue is empty, return `1`.\n",
    "- `int popBack()` Removes the **back** element of the queue and returns it. If the queue is empty, return `1`.\n",
    "\n",
    "**Notice** that when there are **two** middle position choices, the operation is performed on the **frontmost** middle position choice. For example:\n",
    "\n",
    "- Pushing `6` into the middle of `[1, 2, 3, 4, 5]` results in `[1, 2, 6, 3, 4, 5]`.\n",
    "- Popping the middle from `[1, 2, 3, 4, 5, 6]` returns `3` and results in `[1, 2, 4, 5, 6]`.\n",
    "\n",
    "**Example 1:**\n",
    "    Input:\n",
    "[\"FrontMiddleBackQueue\", \"pushFront\", \"pushBack\", \"pushMiddle\", \"pushMiddle\", \"popFront\", \"popMiddle\", \"popMiddle\", \"popBack\", \"popFront\"]\n",
    "[[], [1], [2], [3], [4], [], [], [], [], []]\n",
    "Output:\n",
    "[null, null, null, null, null, 1, 3, 4, 2, -1]\n",
    "\n",
    "Explanation:\n",
    "FrontMiddleBackQueue q = new FrontMiddleBackQueue();\n",
    "q.pushFront(1);   // [1]\n",
    "q.pushBack(2);    // [1,2]\n",
    "q.pushMiddle(3);  // [1,3, 2]\n",
    "q.pushMiddle(4);  // [1,4, 3, 2]\n",
    "q.popFront();     // return 1 -> [4, 3, 2]\n",
    "q.popMiddle();    // return 3 -> [4, 2]\n",
    "q.popMiddle();    // return 4 -> [2]\n",
    "q.popBack();      // return 2 -> []\n",
    "q.popFront();     // return -1 -> [] (The queue is empty)\n",
    "\n",
    "</aside>"
   ]
  },
  {
   "cell_type": "markdown",
   "id": "4876aa7f",
   "metadata": {},
   "source": [
    "Based on the given input and output, it seems like we are working with a data structure called \"FrontMiddleBackQueue.\" This queue supports operations to push elements to the front, middle, and back of the queue, as well as pop elements from the front, middle, and back.\n",
    "\n",
    "Here's a step-by-step breakdown of the operations and their results:\n",
    "\n",
    "Initialize an empty FrontMiddleBackQueue.\n",
    "q = new FrontMiddleBackQueue(); (Assuming this step is done before the given operations)\n",
    "\n",
    "Perform pushFront(1), adding 1 to the front of the queue.\n",
    "Queue: [1]\n",
    "\n",
    "Perform pushBack(2), adding 2 to the back of the queue.\n",
    "Queue: [1, 2]\n",
    "\n",
    "Perform pushMiddle(3), adding 3 to the middle of the queue.\n",
    "Queue: [1, 3, 2]\n",
    "\n",
    "Perform pushMiddle(4), adding 4 to the middle of the queue.\n",
    "Queue: [1, 4, 3, 2]\n",
    "\n",
    "Perform popFront(), which removes and returns the element at the front of the queue (1).\n",
    "Queue: [4, 3, 2]\n",
    "Output: 1\n",
    "\n",
    "Perform popMiddle(), which removes and returns the middle element from the queue (3).\n",
    "Queue: [4, 2]\n",
    "Output: 3\n",
    "\n",
    "Perform popMiddle(), which removes and returns the middle element from the queue (4).\n",
    "Queue: [2]\n",
    "Output: 4\n",
    "\n",
    "Perform popBack(), which removes and returns the element at the back of the queue (2).\n",
    "Queue: []\n",
    "Output: 2\n",
    "\n",
    "Perform popFront(), which tries to remove and return the element at the front of the queue, but the queue is already empty.\n",
    "Queue: []\n",
    "Output: -1 (to indicate an empty queue)\n",
    "\n",
    "So, the expected output is [null, null, null, null, null, 1, 3, 4, 2, -1] for the given input and operations.\n",
    "\n",
    "\n",
    "\n",
    "\n",
    "\n"
   ]
  },
  {
   "cell_type": "markdown",
   "id": "35a271c4",
   "metadata": {},
   "source": [
    "\n",
    "# 💡 **Question 8**\n",
    "\n",
    "For a stream of integers, implement a data structure that checks if the last `k` integers parsed in the stream are **equal** to `value`.\n",
    "\n",
    "Implement the **DataStream** class:\n",
    "\n",
    "- `DataStream(int value, int k)` Initializes the object with an empty integer stream and the two integers `value` and `k`.\n",
    "- `boolean consec(int num)` Adds `num` to the stream of integers. Returns `true` if the last `k` integers are equal to `value`, and `false` otherwise. If there are less than `k` integers, the condition does not hold true, so returns `false`.\n",
    "\n",
    "**Example 1:**\n",
    "    \n",
    "    Input\n",
    "[\"DataStream\", \"consec\", \"consec\", \"consec\", \"consec\"]\n",
    "[[4, 3], [4], [4], [4], [3]]\n",
    "Output\n",
    "[null, false, false, true, false]\n",
    "\n",
    "Explanation\n",
    "DataStream dataStream = new DataStream(4, 3); //value = 4, k = 3\n",
    "dataStream.consec(4); // Only 1 integer is parsed, so returns False.\n",
    "dataStream.consec(4); // Only 2 integers are parsed.\n",
    "                      // Since 2 is less than k, returns False.\n",
    "dataStream.consec(4); // The 3 integers parsed are all equal to value, so returns True.\n",
    "dataStream.consec(3); // The last k integers parsed in the stream are [4,4,3].\n",
    "                      // Since 3 is not equal to value, it returns False.\n",
    "\n",
    "</aside>"
   ]
  },
  {
   "cell_type": "code",
   "execution_count": 12,
   "id": "09499d8b",
   "metadata": {},
   "outputs": [],
   "source": [
    "class DataStream:\n",
    "    def __init__(self, value, k):\n",
    "        self.value = value\n",
    "        self.k = k\n",
    "        self.stream = []\n",
    "\n",
    "    def consec(self, num):\n",
    "        self.stream.append(num)\n",
    "        if len(self.stream) < self.k:\n",
    "            return False\n",
    "        return self.stream[-self.k:] == [self.value] * self.k\n"
   ]
  },
  {
   "cell_type": "markdown",
   "id": "c86bff21",
   "metadata": {},
   "source": [
    "In this implementation, the DataStream class is initialized with the given value and k parameters. The stream variable is used to store the integers as they are added.\n",
    "\n",
    "The consec method takes an integer num as input, adds it to the stream, and then checks if the last k integers in the stream are equal to the value. If there are less than k integers in the stream, it returns False since the condition doesn't hold true. Otherwise, it compares the last k integers with [self.value] * self.k (a list of length k with all elements equal to self.value) and returns the result of the comparison."
   ]
  },
  {
   "cell_type": "code",
   "execution_count": 13,
   "id": "a6532d4b",
   "metadata": {},
   "outputs": [
    {
     "name": "stdout",
     "output_type": "stream",
     "text": [
      "False\n",
      "False\n",
      "True\n",
      "False\n"
     ]
    }
   ],
   "source": [
    "dataStream = DataStream(4, 3)\n",
    "print(dataStream.consec(4))  # Output: False\n",
    "print(dataStream.consec(4))  # Output: False\n",
    "print(dataStream.consec(4))  # Output: True\n",
    "print(dataStream.consec(3))  # Output: False\n"
   ]
  },
  {
   "cell_type": "code",
   "execution_count": null,
   "id": "6fcf425f",
   "metadata": {},
   "outputs": [],
   "source": []
  },
  {
   "cell_type": "code",
   "execution_count": null,
   "id": "0c50369c",
   "metadata": {},
   "outputs": [],
   "source": []
  }
 ],
 "metadata": {
  "kernelspec": {
   "display_name": "Python 3",
   "language": "python",
   "name": "python3"
  },
  "language_info": {
   "codemirror_mode": {
    "name": "ipython",
    "version": 3
   },
   "file_extension": ".py",
   "mimetype": "text/x-python",
   "name": "python",
   "nbconvert_exporter": "python",
   "pygments_lexer": "ipython3",
   "version": "3.8.8"
  }
 },
 "nbformat": 4,
 "nbformat_minor": 5
}
