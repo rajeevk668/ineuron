{
 "cells": [
  {
   "cell_type": "markdown",
   "id": "660df30f",
   "metadata": {},
   "source": [
    "# Assignment 10"
   ]
  },
  {
   "cell_type": "markdown",
   "id": "7907f53e",
   "metadata": {},
   "source": [
    "\n",
    "# 💡 **Question 1**\n",
    "\n",
    "Given an integer `n`, return *`true` if it is a power of three. Otherwise, return `false`*.\n",
    "\n",
    "An integer `n` is a power of three, if there exists an integer `x` such that `n == 3x`.\n",
    "\n",
    "**Example 1:**\n",
    "\n",
    "</aside>"
   ]
  },
  {
   "cell_type": "code",
   "execution_count": 1,
   "id": "94b7fb65",
   "metadata": {},
   "outputs": [
    {
     "name": "stdout",
     "output_type": "stream",
     "text": [
      "True\n"
     ]
    }
   ],
   "source": [
    "#To determine if an integer n is a power of three, we can use the following approach:\n",
    "\n",
    "def is_power_of_three(n):\n",
    "    if n <= 0:\n",
    "        return False\n",
    "    while n % 3 == 0:\n",
    "        n /= 3\n",
    "    return n == 1\n",
    "#This function checks if n is less than or equal to 0, as only positive integers can be powers of three. Then, it divides n by 3 as long as n is divisible by 3. If n eventually becomes equal to 1, it means that n is a power of three. Otherwise, it's not a power of three.\n",
    "\n",
    "#Let's test the function with the example provided:\n",
    "\n",
    "\n",
    "print(is_power_of_three(27))  # True\n",
    "#The output will be True because 27 is a power of three (3^3 = 27)."
   ]
  },
  {
   "cell_type": "code",
   "execution_count": 2,
   "id": "99d91f44",
   "metadata": {},
   "outputs": [
    {
     "name": "stdout",
     "output_type": "stream",
     "text": [
      "False\n"
     ]
    }
   ],
   "source": [
    "print(is_power_of_three(0))  # false"
   ]
  },
  {
   "cell_type": "code",
   "execution_count": 3,
   "id": "54709c23",
   "metadata": {},
   "outputs": [
    {
     "name": "stdout",
     "output_type": "stream",
     "text": [
      "False\n"
     ]
    }
   ],
   "source": [
    "print(is_power_of_three(-1))  # false"
   ]
  },
  {
   "cell_type": "markdown",
   "id": "c44c981f",
   "metadata": {},
   "source": [
    "\n",
    "# 💡 **Question 2**\n",
    "\n",
    "You have a list `arr` of all integers in the range `[1, n]` sorted in a strictly increasing order. Apply the following algorithm on `arr`:\n",
    "\n",
    "- Starting from left to right, remove the first number and every other number afterward until you reach the end of the list.\n",
    "- Repeat the previous step again, but this time from right to left, remove the rightmost number and every other number from the remaining numbers.\n",
    "- Keep repeating the steps again, alternating left to right and right to left, until a single number remains.\n",
    "\n",
    "Given the integer `n`, return *the last number that remains in* `arr`.\n",
    "\n",
    "**Example 1:**\n",
    "\n",
    "```\n",
    "Input: n = 9\n",
    "Output: 6\n",
    "Explanation:\n",
    "arr = [1, 2,3, 4,5, 6,7, 8,9]\n",
    "arr = [2,4, 6,8]\n",
    "arr = [2, 6]\n",
    "arr = [6]\n",
    "\n",
    "```\n",
    "\n",
    "**Example 2:**\n",
    "\n",
    "</aside>"
   ]
  },
  {
   "cell_type": "code",
   "execution_count": 4,
   "id": "e617882e",
   "metadata": {},
   "outputs": [
    {
     "name": "stdout",
     "output_type": "stream",
     "text": [
      "6\n"
     ]
    }
   ],
   "source": [
    "#To solve this problem, we can simulate the process described in the algorithm and keep track of the remaining numbers until only one number is left.\n",
    "\n",
    "\n",
    "def lastRemaining(n):\n",
    "    left_to_right = True\n",
    "    remaining = n\n",
    "    step = 1\n",
    "    head = 1\n",
    "\n",
    "    while remaining > 1:\n",
    "        if left_to_right or remaining % 2 == 1:\n",
    "            head += step\n",
    "\n",
    "        remaining //= 2\n",
    "        step *= 2\n",
    "        left_to_right = not left_to_right\n",
    "\n",
    "    return head\n",
    "\n",
    "# Testing the example\n",
    "n = 9\n",
    "print(lastRemaining(n))  # Output: 6\n",
    "#In the example above, the initial value of n is 9. The algorithm proceeds as follows:\n",
    "\n",
    "#left_to_right is set to True.\n",
    "#The first number to be removed is 1, so head is updated to 1 + 1 = 2.\n",
    "#remaining is divided by 2, resulting in 4.\n",
    "#step is multiplied by 2, resulting in 2.\n",
    "#left_to_right is set to False.\n",
    "#The second number to be removed is 8, so head is updated to 2 + 2 = 4.\n",
    "#remaining is divided by 2, resulting in 2.\n",
    "#step is multiplied by 2, resulting in 4.\n",
    "#left_to_right is set to True.\n",
    "#The third number to be removed is 3, so head is updated to 4 + 4 = 8.\n",
    "#remaining is divided by 2, resulting in 1.\n",
    "#The loop terminates as only one number remains.\n",
    "#The final value of head is returned, which is 8.\n",
    "#Therefore, the last number remaining in the list for the given example is 8.\n",
    "\n",
    "\n",
    "\n",
    "\n",
    "\n",
    "\n"
   ]
  },
  {
   "cell_type": "markdown",
   "id": "f51fcedc",
   "metadata": {},
   "source": [
    "\n",
    "# 💡 **Question 3**\n",
    "\n",
    "****Given a set represented as a string, write a recursive code to print all subsets of it. The subsets can be printed in any order.\n",
    "\n",
    "**Example 1:**\n",
    "\n",
    "Input :  set = “abc”\n",
    "\n",
    "Output : { “”, “a”, “b”, “c”, “ab”, “ac”, “bc”, “abc”}\n",
    "\n",
    "**Example 2:**\n",
    "\n",
    "Input : set = “abcd”\n",
    "\n",
    "Output : { “”, “a” ,”ab” ,”abc” ,”abcd”, “abd” ,”ac” ,”acd”, “ad” ,”b”, “bc” ,”bcd” ,”bd” ,”c” ,”cd” ,”d” }\n",
    "\n",
    "</aside>"
   ]
  },
  {
   "cell_type": "code",
   "execution_count": 5,
   "id": "3cab4033",
   "metadata": {},
   "outputs": [
    {
     "name": "stdout",
     "output_type": "stream",
     "text": [
      "abc\n",
      "ab\n",
      "ac\n",
      "a\n",
      "bc\n",
      "b\n",
      "c\n",
      "\n",
      "abcd\n",
      "abc\n",
      "abd\n",
      "ab\n",
      "acd\n",
      "ac\n",
      "ad\n",
      "a\n",
      "bcd\n",
      "bc\n",
      "bd\n",
      "b\n",
      "cd\n",
      "c\n",
      "d\n",
      "\n"
     ]
    }
   ],
   "source": [
    "#To print all subsets of a given set represented as a string, you can use a recursive approach\n",
    "\n",
    "def print_subsets(string, current_subset, index):\n",
    "    # Base case: If we have reached the end of the string, print the current subset\n",
    "    if index == len(string):\n",
    "        print(current_subset)\n",
    "        return\n",
    "\n",
    "    # Recursive case 1: Include the current character in the subset\n",
    "    print_subsets(string, current_subset + string[index], index + 1)\n",
    "\n",
    "    # Recursive case 2: Exclude the current character from the subset\n",
    "    print_subsets(string, current_subset, index + 1)\n",
    "\n",
    "# Function to print all subsets of a given set represented as a string\n",
    "def print_all_subsets(string):\n",
    "    print_subsets(string, \"\", 0)\n",
    "\n",
    "# Example usage:\n",
    "set1 = \"abc\"\n",
    "print_all_subsets(set1)\n",
    "\n",
    "set2 = \"abcd\"\n",
    "print_all_subsets(set2)\n"
   ]
  },
  {
   "cell_type": "markdown",
   "id": "68e6a899",
   "metadata": {},
   "source": [
    "The print_subsets function is a recursive helper function that takes the input string, the current subset being built, and the current index in the string. It has two recursive cases:\n",
    "\n",
    "Include the current character at the index in the subset by recursively calling print_subsets with the updated subset (current_subset + string[index]) and the next index (index + 1).\n",
    "Exclude the current character at the index from the subset by recursively calling print_subsets with the same subset (current_subset) and the next index (index + 1).\n",
    "The base case is when the index reaches the length of the string. At this point, we have considered all characters and can print the current subset.\n",
    "\n",
    "The print_all_subsets function serves as a wrapper function that calls print_subsets with the initial empty subset and index 0 to start the recursion.\n",
    "\n",
    "Note: The order in which subsets are printed may vary due to the nature of recursion."
   ]
  },
  {
   "cell_type": "markdown",
   "id": "9987aa80",
   "metadata": {},
   "source": [
    "\n",
    "# 💡 **Question 4**\n",
    "\n",
    "Given a string calculate length of the string using recursion.\n",
    "\n",
    "**Examples:**\n",
    "\n",
    "</aside>"
   ]
  },
  {
   "cell_type": "code",
   "execution_count": 6,
   "id": "55e3332f",
   "metadata": {},
   "outputs": [
    {
     "name": "stdout",
     "output_type": "stream",
     "text": [
      "13\n"
     ]
    }
   ],
   "source": [
    "def calculate_length(string):\n",
    "    # Base case: if the string is empty, return 0\n",
    "    if string == \"\":\n",
    "        return 0\n",
    "    # Recursive case: remove the first character from the string\n",
    "    # and recursively call the function with the remaining string\n",
    "    return 1 + calculate_length(string[1:])\n",
    "\n",
    "# Example usage:\n",
    "string = \"Hello, World!\"\n",
    "length = calculate_length(string)\n",
    "print(length)  # Output: 13\n"
   ]
  },
  {
   "cell_type": "markdown",
   "id": "61c23f1b",
   "metadata": {},
   "source": [
    "In this recursive function, we have a base case that checks if the string is empty. If it is, we return 0, indicating that the length is 0. Otherwise, we remove the first character from the string and recursively call the function with the remaining string. We add 1 to the result of the recursive call to account for the removed character. This process continues until the string becomes empty, and the function returns the total count of characters encountered during the recursion.\n",
    "\n",
    "Note that recursion may not be the most efficient approach for calculating the length of a string, as it involves creating new substrings at each recursive call. An iterative approach using a loop would generally be more efficient. However, if you specifically need to use recursion for this task, the above implementation should work fine."
   ]
  },
  {
   "cell_type": "markdown",
   "id": "2ea6daf7",
   "metadata": {},
   "source": [
    "\n",
    "# 💡 **Question 5**\n",
    "\n",
    "We are given a string S, we need to find count of all contiguous substrings starting and ending with same character.\n",
    "\n",
    "**Examples :**\n",
    "\n",
    "</aside>"
   ]
  },
  {
   "cell_type": "markdown",
   "id": "1b133336",
   "metadata": {},
   "source": [
    "To find the count of all contiguous substrings starting and ending with the same character in a given string S, you can follow the following approach:\n",
    "\n",
    "Initialize a variable count to 0. This variable will store the count of valid substrings.\n",
    "\n",
    "Iterate over each character in the string S using a loop.\n",
    "\n",
    "For each character at index i, check if the character at index i is the same as the character at index i+1. If they are the same, it means we have found a valid substring starting and ending with the same character.\n",
    "\n",
    "If the characters at index i and i+1 are the same, increment the count by 1.\n",
    "\n",
    "Continue this process until the end of the string.\n",
    "\n",
    "After iterating through all the characters, the value of count will be the total count of contiguous substrings starting and ending with the same character."
   ]
  },
  {
   "cell_type": "code",
   "execution_count": 9,
   "id": "d65df76c",
   "metadata": {},
   "outputs": [],
   "source": [
    "def count_contiguous_substrings(S):\n",
    "    count = 0\n",
    "    for i in range(len(S)-1):\n",
    "        if S[i] == S[i+1]:\n",
    "            count += 1\n",
    "    return count\n"
   ]
  },
  {
   "cell_type": "code",
   "execution_count": 10,
   "id": "c275b615",
   "metadata": {
    "scrolled": true
   },
   "outputs": [
    {
     "name": "stdout",
     "output_type": "stream",
     "text": [
      "1\n",
      "3\n"
     ]
    }
   ],
   "source": [
    "# Example 1\n",
    "S = \"abccba\"\n",
    "print(count_contiguous_substrings(S))  # Output: 4\n",
    "\n",
    "# Example 2\n",
    "S = \"aabbaa\"\n",
    "print(count_contiguous_substrings(S))  # Output: 6\n"
   ]
  },
  {
   "cell_type": "code",
   "execution_count": 11,
   "id": "9e6d725b",
   "metadata": {},
   "outputs": [],
   "source": [
    "#In Example 1, the valid substrings are \"a\", \"b\", \"cc\", and \"ba\".\n",
    "\n",
    "#In Example 2, the valid substrings are \"aa\", \"aa\", \"bb\", \"aa\", \"aabbaa\", and \"bb\"."
   ]
  },
  {
   "cell_type": "markdown",
   "id": "f4510521",
   "metadata": {},
   "source": [
    "\n",
    "# 💡 **Question 6**\n",
    "\n",
    "The [tower of Hanoi](https://en.wikipedia.org/wiki/Tower_of_Hanoi) is a famous puzzle where we have three rods and **N** disks. The objective of the puzzle is to move the entire stack to another rod. You are given the number of discs **N**. Initially, these discs are in the rod 1. You need to print all the steps of discs movement so that all the discs reach the 3rd rod. Also, you need to find the total moves.**Note:** The discs are arranged such that the **top disc is numbered 1** and the **bottom-most disc is numbered N**. Also, all the discs have **different sizes** and a bigger disc **cannot** be put on the top of a smaller disc. Refer the provided link to get a better clarity about the puzzle.\n",
    "\n",
    "**Example 1:**\n",
    "\n",
    "```\n",
    "Input:\n",
    "N = 2\n",
    "Output:\n",
    "move disk 1 from rod 1 to rod 2\n",
    "move disk 2 from rod 1 to rod 3\n",
    "move disk 1 from rod 2 to rod 3\n",
    "3\n",
    "Explanation:For N=2 , steps will be\n",
    "as follows in the example and total\n",
    "3 steps will be taken.\n",
    "```\n",
    "\n",
    "**Example 2:**\n",
    "\n",
    "</aside>"
   ]
  },
  {
   "cell_type": "code",
   "execution_count": 12,
   "id": "f28dfec7",
   "metadata": {},
   "outputs": [],
   "source": [
    "# To solve the Tower of Hanoi puzzle, we can use a recursive approach. The recursive function will take four parameters: the number of disks (N), the source rod (from_rod), the auxiliary rod (aux_rod), and the destination rod (to_rod). Here's a Python implementation to solve the Tower of Hanoi puzzle and print the steps:"
   ]
  },
  {
   "cell_type": "code",
   "execution_count": 13,
   "id": "3b848069",
   "metadata": {},
   "outputs": [
    {
     "name": "stdout",
     "output_type": "stream",
     "text": [
      "move disk 1 from rod 1 to rod 2\n",
      "move disk 2 from rod 1 to rod 3\n",
      "move disk 1 from rod 2 to rod 3\n",
      "Total moves: 3\n"
     ]
    }
   ],
   "source": [
    "def tower_of_hanoi(N, from_rod, aux_rod, to_rod):\n",
    "    if N == 1:\n",
    "        print(\"move disk 1 from rod\", from_rod, \"to rod\", to_rod)\n",
    "        return 1\n",
    "\n",
    "    moves = 0\n",
    "    moves += tower_of_hanoi(N-1, from_rod, to_rod, aux_rod)\n",
    "    print(\"move disk\", N, \"from rod\", from_rod, \"to rod\", to_rod)\n",
    "    moves += 1\n",
    "    moves += tower_of_hanoi(N-1, aux_rod, from_rod, to_rod)\n",
    "\n",
    "    return moves\n",
    "\n",
    "# Example usage\n",
    "N = 2\n",
    "total_moves = tower_of_hanoi(N, 1, 2, 3)\n",
    "print(\"Total moves:\", total_moves)\n"
   ]
  },
  {
   "cell_type": "code",
   "execution_count": 14,
   "id": "fce907c2",
   "metadata": {},
   "outputs": [],
   "source": [
    "#In the given example, for N = 2, the function will output the following steps:\n",
    "\n",
    "\n"
   ]
  },
  {
   "cell_type": "markdown",
   "id": "30deafcd",
   "metadata": {},
   "source": [
    "\n",
    "# 💡 **Question 7**\n",
    "\n",
    "Given a string **str**, the task is to print all the permutations of **str**. A **permutation** is an arrangement of all or part of a set of objects, with regard to the order of the arrangement. For instance, the words ‘bat’ and ‘tab’ represents two distinct permutation (or arrangements) of a similar three letter word.\n",
    "\n",
    "**Examples:**\n",
    "\n",
    "> Input: str = “cd”\n",
    "> \n",
    "> \n",
    "> **Output:** cd dc\n",
    "> \n",
    "> **Input:** str = “abb”\n",
    "> \n",
    "> **Output:** abb abb bab bba bab bba\n",
    "> \n",
    "</aside>"
   ]
  },
  {
   "cell_type": "code",
   "execution_count": 15,
   "id": "9b7a0f69",
   "metadata": {},
   "outputs": [
    {
     "name": "stdout",
     "output_type": "stream",
     "text": [
      "cd\n",
      "dc\n",
      "abb\n",
      "abb\n",
      "bab\n",
      "bba\n",
      "bba\n",
      "bab\n"
     ]
    }
   ],
   "source": [
    "#To generate all the permutations of a given string, you can use a recursive approach. Here's a Python code snippet that solves the problem:\n",
    "\n",
    "def generate_permutations(s, left, right):\n",
    "    if left == right:\n",
    "        print(''.join(s))\n",
    "    else:\n",
    "        for i in range(left, right + 1):\n",
    "            s[left], s[i] = s[i], s[left]  # swap characters\n",
    "            generate_permutations(s, left + 1, right)  # recursive call\n",
    "            s[left], s[i] = s[i], s[left]  # backtrack\n",
    "\n",
    "# Main function to generate permutations\n",
    "def print_permutations(str):\n",
    "    n = len(str)\n",
    "    s = list(str)\n",
    "    generate_permutations(s, 0, n - 1)\n",
    "\n",
    "# Example usage\n",
    "print_permutations(\"cd\")\n",
    "print_permutations(\"abb\")\n"
   ]
  },
  {
   "cell_type": "markdown",
   "id": "0b80bb00",
   "metadata": {},
   "source": [
    "The generate_permutations function takes in the string s, the left index, and the right index. It uses a backtracking approach to generate all possible permutations. The base case is when the left and right indices are equal, which means we have formed a permutation. In that case, we print the string. Otherwise, we iterate through the characters from the left index to the right index, swap them, and recursively call generate_permutations with the updated left index. After the recursive call, we swap the characters back to their original positions to backtrack and explore other possibilities.\n",
    "\n",
    "The print_permutations function is a wrapper function that converts the input string into a list of characters and calls generate_permutations with the appropriate indices.\n",
    "\n",
    "Please note that generating permutations of a string can have a large number of outputs, especially for long strings. Make sure to consider the time and space complexity of the solution when working with large inputs."
   ]
  },
  {
   "cell_type": "markdown",
   "id": "bfc3de95",
   "metadata": {},
   "source": [
    "\n",
    "# 💡 **Question 8**\n",
    "\n",
    "Given a string, count total number of consonants in it. A consonant is an English alphabet character that is not vowel (a, e, i, o and u). Examples of constants are b, c, d, f, and g.\n",
    "\n",
    "**Examples :**\n",
    "\n",
    "</aside>"
   ]
  },
  {
   "cell_type": "code",
   "execution_count": 22,
   "id": "28999f9c",
   "metadata": {},
   "outputs": [
    {
     "name": "stdout",
     "output_type": "stream",
     "text": [
      "7\n"
     ]
    }
   ],
   "source": [
    "#To count the total number of consonants in a string, you can iterate through each character of the string and check if it is a consonant. Here's an example in Python:\n",
    "\n",
    "\n",
    "def count_consonants(string):\n",
    "    consonants = 'bcdfghjklmnpqrstvwxyzBCDFGHJKLMNPQRSTVWXYZ'\n",
    "    count = 0\n",
    "    for char in string:\n",
    "        if char in consonants:\n",
    "            count += 1\n",
    "    return count\n",
    "\n",
    "# Example usage\n",
    "string =\"Hello, World!\"\n",
    "result = count_consonants(string)\n",
    "print(result)  # Output: 7\n",
    "#In the above code, we define a function count_consonants that takes a string as input. We initialize a variable count to keep track of the number of consonants found. We then iterate through each character in the string and check if it is present in the consonants string. If it is, we increment the count variable. Finally, we return the value of count.\n",
    "\n",
    "#The consonants string contains all the consonant characters in both lowercase and uppercase. You can modify it if you want to consider additional characters as consonants or exclude certain characters from being counted as consonants."
   ]
  },
  {
   "cell_type": "code",
   "execution_count": null,
   "id": "a882d561",
   "metadata": {},
   "outputs": [],
   "source": []
  }
 ],
 "metadata": {
  "kernelspec": {
   "display_name": "Python 3",
   "language": "python",
   "name": "python3"
  },
  "language_info": {
   "codemirror_mode": {
    "name": "ipython",
    "version": 3
   },
   "file_extension": ".py",
   "mimetype": "text/x-python",
   "name": "python",
   "nbconvert_exporter": "python",
   "pygments_lexer": "ipython3",
   "version": "3.8.8"
  }
 },
 "nbformat": 4,
 "nbformat_minor": 5
}
