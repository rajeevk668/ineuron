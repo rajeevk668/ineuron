{
 "cells": [
  {
   "cell_type": "markdown",
   "id": "620713f2",
   "metadata": {},
   "source": [
    "# IneuronAssignment18"
   ]
  },
  {
   "cell_type": "markdown",
   "id": "a3f60eb6",
   "metadata": {},
   "source": [
    "\n",
    "💡 1. **Merge Intervals**\n",
    "\n",
    "Given an array of `intervals` where `intervals[i] = [starti, endi]`, merge all overlapping intervals, and return *an array of the non-overlapping intervals that cover all the intervals in the input*.\n",
    "\n",
    "**Example 1:**\n",
    "\n",
    "```\n",
    "Input: intervals = [[1,3],[2,6],[8,10],[15,18]]\n",
    "Output: [[1,6],[8,10],[15,18]]\n",
    "Explanation: Since intervals [1,3] and [2,6] overlap, merge them into [1,6].\n",
    "\n",
    "```\n",
    "\n",
    "**Example 2:**\n",
    "\n",
    "```\n",
    "Input: intervals = [[1,4],[4,5]]\n",
    "Output: [[1,5]]\n",
    "Explanation: Intervals [1,4] and [4,5] are considered overlapping.\n",
    "\n",
    "```\n",
    "\n",
    "**Constraints:**\n",
    "\n",
    "- `1 <= intervals.length <= 10000`\n",
    "- `intervals[i].length == 2`\n",
    "- `0 <= starti <= endi <= 10000`\n",
    "</aside>"
   ]
  },
  {
   "cell_type": "markdown",
   "id": "b6adc7a5",
   "metadata": {},
   "source": [
    "To solve the problem, we can follow the following steps:\n",
    "\n",
    "Sort the intervals based on the start time.\n",
    "Initialize an empty result list to store the merged intervals.\n",
    "Iterate through the sorted intervals and compare each interval with the previous one.\n",
    "If the current interval and the previous interval overlap, merge them by updating the end time of the previous interval to the maximum of the two end times.\n",
    "If the current interval and the previous interval do not overlap, add the previous interval to the result list and update the previous interval to the current interval.\n",
    "After the loop ends, add the last interval to the result list.\n",
    "Return the result list."
   ]
  },
  {
   "cell_type": "code",
   "execution_count": 1,
   "id": "eecbc810",
   "metadata": {},
   "outputs": [],
   "source": [
    "def merge(intervals):\n",
    "    intervals.sort(key=lambda x: x[0])  # Sort intervals based on start time\n",
    "    merged = []\n",
    "    prev_interval = intervals[0]\n",
    "    \n",
    "    for i in range(1, len(intervals)):\n",
    "        curr_interval = intervals[i]\n",
    "        \n",
    "        if curr_interval[0] <= prev_interval[1]:  # Overlapping intervals\n",
    "            prev_interval[1] = max(prev_interval[1], curr_interval[1])  # Merge intervals\n",
    "        else:\n",
    "            merged.append(prev_interval)  # Add previous interval to result\n",
    "            prev_interval = curr_interval  # Update previous interval\n",
    "            \n",
    "    merged.append(prev_interval)  # Add the last interval\n",
    "    \n",
    "    return merged\n"
   ]
  },
  {
   "cell_type": "code",
   "execution_count": 2,
   "id": "d51e1f35",
   "metadata": {},
   "outputs": [
    {
     "name": "stdout",
     "output_type": "stream",
     "text": [
      "[[1, 6], [8, 10], [15, 18]]\n",
      "[[1, 5]]\n"
     ]
    }
   ],
   "source": [
    "intervals1 = [[1, 3], [2, 6], [8, 10], [15, 18]]\n",
    "print(merge(intervals1))  # Output: [[1, 6], [8, 10], [15, 18]]\n",
    "\n",
    "intervals2 = [[1, 4], [4, 5]]\n",
    "print(merge(intervals2))  # Output: [[1, 5]]\n"
   ]
  },
  {
   "cell_type": "markdown",
   "id": "a53d1947",
   "metadata": {},
   "source": [
    "\n",
    "# 💡 2. **Sort Colors**\n",
    "\n",
    "Given an array `nums` with `n` objects colored red, white, or blue, sort them **[in-place](https://en.wikipedia.org/wiki/In-place_algorithm)** so that objects of the same color are adjacent, with the colors in the order red, white, and blue.\n",
    "\n",
    "We will use the integers `0`, `1`, and `2` to represent the color red, white, and blue, respectively.\n",
    "\n",
    "You must solve this problem without using the library's sort function.\n",
    "\n",
    "**Example 1:**\n",
    "\n",
    "```\n",
    "Input: nums = [2,0,2,1,1,0]\n",
    "Output: [0,0,1,1,2,2]\n",
    "\n",
    "```\n",
    "\n",
    "**Example 2:**\n",
    "\n",
    "```\n",
    "Input: nums = [2,0,1]\n",
    "Output: [0,1,2]\n",
    "\n",
    "```\n",
    "\n",
    "**Constraints:**\n",
    "\n",
    "- `n == nums.length`\n",
    "- `1 <= n <= 300`\n",
    "- `nums[i]` is either `0`, `1`, or `2`.\n",
    "</aside>"
   ]
  },
  {
   "cell_type": "markdown",
   "id": "5354355e",
   "metadata": {},
   "source": [
    "To solve the given problem, we can use a variation of the Dutch National Flag algorithm, also known as the three-way partitioning algorithm. This algorithm allows us to sort an array with three distinct values efficiently.\n",
    "\n",
    "Here's the step-by-step approach to solving the problem:\n",
    "\n",
    "Initialize three pointers: low at the beginning of the array, high at the end of the array, and current at the beginning of the array.\n",
    "Iterate through the array while current <= high:\n",
    "If nums[current] is equal to 0, swap nums[current] with nums[low], increment both current and low pointers.\n",
    "If nums[current] is equal to 2, swap nums[current] with nums[high], decrement the high pointer.\n",
    "If nums[current] is equal to 1, increment only the current pointer.\n",
    "Repeat step 2 until current is greater than high.\n",
    "The array will be sorted in place, with all 0s at the beginning, followed by all 1s, and then all 2s."
   ]
  },
  {
   "cell_type": "code",
   "execution_count": 3,
   "id": "fa2f6576",
   "metadata": {},
   "outputs": [],
   "source": [
    "def sortColors(nums):\n",
    "    low = 0\n",
    "    high = len(nums) - 1\n",
    "    current = 0\n",
    "\n",
    "    while current <= high:\n",
    "        if nums[current] == 0:\n",
    "            nums[current], nums[low] = nums[low], nums[current]\n",
    "            current += 1\n",
    "            low += 1\n",
    "        elif nums[current] == 2:\n",
    "            nums[current], nums[high] = nums[high], nums[current]\n",
    "            high -= 1\n",
    "        else:\n",
    "            current += 1\n",
    "\n",
    "    return nums\n"
   ]
  },
  {
   "cell_type": "code",
   "execution_count": 4,
   "id": "036a492d",
   "metadata": {},
   "outputs": [
    {
     "name": "stdout",
     "output_type": "stream",
     "text": [
      "[0, 0, 1, 1, 2, 2]\n",
      "[0, 1, 2]\n"
     ]
    }
   ],
   "source": [
    "nums1 = [2, 0, 2, 1, 1, 0]\n",
    "print(sortColors(nums1))  # Output: [0, 0, 1, 1, 2, 2]\n",
    "\n",
    "nums2 = [2, 0, 1]\n",
    "print(sortColors(nums2))  # Output: [0, 1, 2]\n"
   ]
  },
  {
   "cell_type": "markdown",
   "id": "b1134bd1",
   "metadata": {},
   "source": [
    "\n",
    "# 💡 3. **First Bad Version Solution**\n",
    "\n",
    "You are a product manager and currently leading a team to develop a new product. Unfortunately, the latest version of your product fails the quality check. Since each version is developed based on the previous version, all the versions after a bad version are also bad.\n",
    "\n",
    "Suppose you have `n` versions `[1, 2, ..., n]` and you want to find out the first bad one, which causes all the following ones to be bad.\n",
    "\n",
    "You are given an API `bool isBadVersion(version)` which returns whether `version` is bad. Implement a function to find the first bad version. You should minimize the number of calls to the API.\n",
    "\n",
    "**Example 1:**\n",
    "\n",
    "```\n",
    "Input: n = 5, bad = 4\n",
    "Output: 4\n",
    "Explanation:\n",
    "call isBadVersion(3) -> false\n",
    "call isBadVersion(5) -> true\n",
    "call isBadVersion(4) -> true\n",
    "Then 4 is the first bad version.\n",
    "\n",
    "```\n",
    "\n",
    "**Example 2:**\n",
    "\n",
    "```\n",
    "Input: n = 1, bad = 1\n",
    "Output: 1\n",
    "\n",
    "```\n",
    "\n",
    "**Constraints:**\n",
    "\n",
    "- `1 <= bad <= n <= 2^31 - 1`\n",
    "</aside>"
   ]
  },
  {
   "cell_type": "markdown",
   "id": "f633f198",
   "metadata": {},
   "source": [
    "To find the first bad version, we can use a binary search approach to minimize the number of API calls. Here's the algorithm to solve the problem:\n",
    "\n",
    "Initialize two pointers, left and right, to the start and end of the version range, respectively. Set left = 1 and right = n.\n",
    "\n",
    "While left < right, do the following:\n",
    "\n",
    "Calculate the mid version: mid = left + (right - left) // 2.\n",
    "Check if the mid version is a bad version by calling isBadVersion(mid).\n",
    "If isBadVersion(mid) returns True, it means the first bad version is before or at the mid version. Set right = mid.\n",
    "If isBadVersion(mid) returns False, it means the first bad version is after the mid version. Set left = mid + 1.\n",
    "Return the value of left. It represents the first bad version."
   ]
  },
  {
   "cell_type": "code",
   "execution_count": 5,
   "id": "ca7b04b6",
   "metadata": {},
   "outputs": [],
   "source": [
    "def firstBadVersion(n):\n",
    "    left = 1\n",
    "    right = n\n",
    "    \n",
    "    while left < right:\n",
    "        mid = left + (right - left) // 2\n",
    "        if isBadVersion(mid):\n",
    "            right = mid\n",
    "        else:\n",
    "            left = mid + 1\n",
    "    \n",
    "    return left\n"
   ]
  },
  {
   "cell_type": "markdown",
   "id": "052c593b",
   "metadata": {},
   "source": [
    "This algorithm has a time complexity of O(log n) since it performs a binary search to find the first bad version. It minimizes the number of API calls by utilizing the property that all versions after a bad version are also bad."
   ]
  },
  {
   "cell_type": "markdown",
   "id": "76029bbf",
   "metadata": {},
   "source": [
    "\n",
    "# 💡 4. **Maximum Gap**\n",
    "\n",
    "Given an integer array `nums`, return *the maximum difference between two successive elements in its sorted form*. If the array contains less than two elements, return `0`.\n",
    "\n",
    "You must write an algorithm that runs in linear time and uses linear extra space.\n",
    "\n",
    "**Example 1:**\n",
    "\n",
    "```\n",
    "Input: nums = [3,6,9,1]\n",
    "Output: 3\n",
    "Explanation: The sorted form of the array is [1,3,6,9], either (3,6) or (6,9) has the maximum difference 3.\n",
    "\n",
    "```\n",
    "\n",
    "**Example 2:**\n",
    "\n",
    "```\n",
    "Input: nums = [10]\n",
    "Output: 0\n",
    "Explanation: The array contains less than 2 elements, therefore return 0.\n",
    "\n",
    "```\n",
    "\n",
    "**Constraints:**\n",
    "\n",
    "- `1 <= nums.length <= 10^5`\n",
    "- `0 <= nums[i] <= 10^9`\n",
    "</aside>"
   ]
  },
  {
   "cell_type": "markdown",
   "id": "76fff62d",
   "metadata": {},
   "source": [
    "To find the maximum gap between two successive elements in a given integer array nums, we can make use of the radix sort algorithm. Radix sort is an efficient sorting algorithm that can achieve linear time complexity.\n",
    "\n",
    "Here's an algorithmic approach to solve the problem:\n",
    "\n",
    "If the length of nums is less than 2, return 0 since there are not enough elements to calculate the gap.\n",
    "Find the maximum value, maxNum, in the array nums.\n",
    "Initialize a variable exp to 1, which represents the current digit place being considered during sorting.\n",
    "Create a temporary array, count, of size 10 and initialize all elements to 0. This array will be used to count the number of elements at each digit place.\n",
    "Create a temporary array, temp, of the same size as nums, to hold the sorted values at each iteration.\n",
    "Perform a loop until maxNum / exp is greater than 0:\n",
    "Initialize count array elements to 0 for each iteration.\n",
    "Iterate through each element num in nums and increment the count at the digit place represented by (num / exp) % 10.\n",
    "Update the count array by adding the previous count to the current count. This will help in placing the elements in sorted order.\n",
    "Iterate through each element num in nums in reverse order:\n",
    "Find the digit place represented by (num / exp) % 10.\n",
    "Decrement the count at that digit place by 1.\n",
    "Place the element num in the temp array at the position determined by the current count at the digit place.\n",
    "Copy the elements from the temp array back to the nums array.\n",
    "Multiply exp by 10 to move to the next digit place.\n",
    "Initialize a variable maxGap to 0 to keep track of the maximum gap.\n",
    "Iterate through the nums array from index 1 to the end and calculate the difference between the current element and the previous element.\n",
    "If the calculated difference is greater than maxGap, update maxGap with the new difference.\n",
    "Return maxGap as the result.\n",
    "The algorithm has a time complexity of O(N), where N is the number of elements in the nums array.\n",
    "\n",
    "\n",
    "\n",
    "\n"
   ]
  },
  {
   "cell_type": "code",
   "execution_count": 6,
   "id": "6665d487",
   "metadata": {},
   "outputs": [
    {
     "name": "stdout",
     "output_type": "stream",
     "text": [
      "3\n"
     ]
    }
   ],
   "source": [
    "def maximumGap(nums):\n",
    "    if len(nums) < 2:\n",
    "        return 0\n",
    "    \n",
    "    maxNum = max(nums)\n",
    "    exp = 1\n",
    "    \n",
    "    count = [0] * 10\n",
    "    temp = [0] * len(nums)\n",
    "    \n",
    "    while maxNum // exp > 0:\n",
    "        count = [0] * 10\n",
    "        \n",
    "        for num in nums:\n",
    "            count[(num // exp) % 10] += 1\n",
    "        \n",
    "        for i in range(1, 10):\n",
    "            count[i] += count[i - 1]\n",
    "        \n",
    "        for i in range(len(nums) - 1, -1, -1):\n",
    "            num = nums[i]\n",
    "            digit = (num // exp) % 10\n",
    "            count[digit] -= 1\n",
    "            temp[count[digit]] = num\n",
    "        \n",
    "        nums[:] = temp[:]\n",
    "        exp *= 10\n",
    "    \n",
    "    maxGap = 0\n",
    "    for i in range(1, len(nums)):\n",
    "        maxGap = max(maxGap, nums[i] - nums[i - 1])\n",
    "    \n",
    "    return maxGap\n",
    "\n",
    "print(maximumGap([3, 6, 9, 1])) "
   ]
  },
  {
   "cell_type": "markdown",
   "id": "1fcc525d",
   "metadata": {},
   "source": [
    "\n",
    "# 💡 5. **Contains Duplicate**\n",
    "\n",
    "Given an integer array `nums`, return `true` if any value appears **at least twice** in the array, and return `false` if every element is distinct.\n",
    "\n",
    "**Example 1:**\n",
    "\n",
    "```\n",
    "Input: nums = [1,2,3,1]\n",
    "Output: true\n",
    "\n",
    "```\n",
    "\n",
    "**Example 2:**\n",
    "\n",
    "```\n",
    "Input: nums = [1,2,3,4]\n",
    "Output: false\n",
    "\n",
    "```\n",
    "\n",
    "**Example 3:**\n",
    "\n",
    "```\n",
    "Input: nums = [1,1,1,3,3,4,3,2,4,2]\n",
    "Output: true\n",
    "\n",
    "```\n",
    "\n",
    "**Constraints:**\n",
    "\n",
    "- `1 <= nums.length <= 10^5`\n",
    "- `109 <= nums[i] <= 10^9`\n",
    "</aside>"
   ]
  },
  {
   "cell_type": "markdown",
   "id": "38f02111",
   "metadata": {},
   "source": [
    "To determine if an integer array contains any duplicates, you can use a hash set to keep track of the numbers you have encountered so far. As you iterate through the array, if a number is already present in the set, it means it is a duplicate, and you can return true. If you finish iterating through the array without finding any duplicates, you can return false."
   ]
  },
  {
   "cell_type": "code",
   "execution_count": 7,
   "id": "5433f9b9",
   "metadata": {},
   "outputs": [],
   "source": [
    "def containsDuplicate(nums):\n",
    "    num_set = set()\n",
    "    for num in nums:\n",
    "        if num in num_set:\n",
    "            return True\n",
    "        num_set.add(num)\n",
    "    return False\n"
   ]
  },
  {
   "cell_type": "code",
   "execution_count": 8,
   "id": "a15a244f",
   "metadata": {},
   "outputs": [
    {
     "name": "stdout",
     "output_type": "stream",
     "text": [
      "True\n",
      "False\n",
      "True\n"
     ]
    }
   ],
   "source": [
    "# Example 1\n",
    "nums = [1, 2, 3, 1]\n",
    "print(containsDuplicate(nums))  # Output: True\n",
    "\n",
    "# Example 2\n",
    "nums = [1, 2, 3, 4]\n",
    "print(containsDuplicate(nums))  # Output: False\n",
    "\n",
    "# Example 3\n",
    "nums = [1, 1, 1, 3, 3, 4, 3, 2, 4, 2]\n",
    "print(containsDuplicate(nums))  # Output: True\n"
   ]
  },
  {
   "cell_type": "markdown",
   "id": "58875553",
   "metadata": {},
   "source": [
    "\n",
    "# 💡 6. **Minimum Number of Arrows to Burst Balloons**\n",
    "\n",
    "There are some spherical balloons taped onto a flat wall that represents the XY-plane. The balloons are represented as a 2D integer array `points` where `points[i] = [xstart, xend]` denotes a balloon whose **horizontal diameter** stretches between `xstart` and `xend`. You do not know the exact y-coordinates of the balloons.\n",
    "\n",
    "Arrows can be shot up **directly vertically** (in the positive y-direction) from different points along the x-axis. A balloon with `xstart` and `xend` is **burst** by an arrow shot at `x` if `xstart <= x <= xend`. There is **no limit** to the number of arrows that can be shot. A shot arrow keeps traveling up infinitely, bursting any balloons in its path.\n",
    "\n",
    "Given the array `points`, return *the **minimum** number of arrows that must be shot to burst all balloons*.\n",
    "\n",
    "**Example 1:**\n",
    "\n",
    "```\n",
    "Input: points = [[10,16],[2,8],[1,6],[7,12]]\n",
    "Output: 2\n",
    "Explanation: The balloons can be burst by 2 arrows:\n",
    "- Shoot an arrow at x = 6, bursting the balloons [2,8] and [1,6].\n",
    "- Shoot an arrow at x = 11, bursting the balloons [10,16] and [7,12].\n",
    "\n",
    "```\n",
    "\n",
    "**Example 2:**\n",
    "\n",
    "```\n",
    "Input: points = [[1,2],[3,4],[5,6],[7,8]]\n",
    "Output: 4\n",
    "Explanation: One arrow needs to be shot for each balloon for a total of 4 arrows.\n",
    "\n",
    "```\n",
    "\n",
    "**Example 3:**\n",
    "\n",
    "```\n",
    "Input: points = [[1,2],[2,3],[3,4],[4,5]]\n",
    "Output: 2\n",
    "Explanation: The balloons can be burst by 2 arrows:\n",
    "- Shoot an arrow at x = 2, bursting the balloons [1,2] and [2,3].\n",
    "- Shoot an arrow at x = 4, bursting the balloons [3,4] and [4,5].\n",
    "\n",
    "```\n",
    "\n",
    "**Constraints:**\n",
    "\n",
    "- `1 <= points.length <= 10^5`\n",
    "- `points[i].length == 2`\n",
    "- `231 <= xstart < xend <= 2^31 - 1`\n",
    "</aside>"
   ]
  },
  {
   "cell_type": "markdown",
   "id": "41dd5c60",
   "metadata": {},
   "source": [
    "To solve this problem, we can use the greedy algorithm approach. The idea is to sort the balloons based on their end points and then iterate through them, keeping track of the current end point. Whenever we encounter a balloon whose start point is greater than the current end point, it means we need to shoot an arrow to burst the previous balloons and update the current end point.\n",
    "\n",
    "Here's the step-by-step algorithm:\n",
    "\n",
    "Sort the balloons based on their end points in ascending order.\n",
    "Initialize a variable end to store the current end point and set it to negative infinity.\n",
    "Initialize a variable arrows to keep track of the number of arrows shot and set it to 0.\n",
    "Iterate through the sorted balloons:\n",
    "If the current balloon's start point is greater than end, it means we need to shoot an arrow. Increment arrows by 1 and update end to the current balloon's end point.\n",
    "Return the value of arrows as the minimum number of arrows required to burst all the balloons."
   ]
  },
  {
   "cell_type": "code",
   "execution_count": 9,
   "id": "f6eee169",
   "metadata": {},
   "outputs": [],
   "source": [
    "def findMinArrowShots(points):\n",
    "    points.sort(key=lambda x: x[1])  # Sort balloons based on end points\n",
    "    end = float('-inf')\n",
    "    arrows = 0\n",
    "\n",
    "    for balloon in points:\n",
    "        if balloon[0] > end:\n",
    "            arrows += 1\n",
    "            end = balloon[1]\n",
    "\n",
    "    return arrows\n"
   ]
  },
  {
   "cell_type": "code",
   "execution_count": 10,
   "id": "da83f18a",
   "metadata": {},
   "outputs": [
    {
     "name": "stdout",
     "output_type": "stream",
     "text": [
      "2\n",
      "4\n",
      "2\n"
     ]
    }
   ],
   "source": [
    "points1 = [[10,16],[2,8],[1,6],[7,12]]\n",
    "print(findMinArrowShots(points1))  # Output: 2\n",
    "\n",
    "points2 = [[1,2],[3,4],[5,6],[7,8]]\n",
    "print(findMinArrowShots(points2))  # Output: 4\n",
    "\n",
    "points3 = [[1,2],[2,3],[3,4],[4,5]]\n",
    "print(findMinArrowShots(points3))  # Output: 2\n"
   ]
  },
  {
   "cell_type": "markdown",
   "id": "b63a58fe",
   "metadata": {},
   "source": [
    "\n",
    "# 💡 7. **Longest Increasing Subsequence**\n",
    "\n",
    "Given an integer array `nums`, return *the length of the longest **strictly increasing***\n",
    "\n",
    "***subsequence***\n",
    "\n",
    ".\n",
    "\n",
    "**Example 1:**\n",
    "\n",
    "```\n",
    "Input: nums = [10,9,2,5,3,7,101,18]\n",
    "Output: 4\n",
    "Explanation: The longest increasing subsequence is [2,3,7,101], therefore the length is 4.\n",
    "\n",
    "```\n",
    "\n",
    "**Example 2:**\n",
    "\n",
    "```\n",
    "Input: nums = [0,1,0,3,2,3]\n",
    "Output: 4\n",
    "\n",
    "```\n",
    "\n",
    "**Example 3:**\n",
    "\n",
    "```\n",
    "Input: nums = [7,7,7,7,7,7,7]\n",
    "Output: 1\n",
    "\n",
    "```\n",
    "\n",
    "**Constraints:**\n",
    "\n",
    "- `1 <= nums.length <= 2500`\n",
    "- `-10^4 <= nums[i] <= 10^4`\n",
    "</aside>"
   ]
  },
  {
   "cell_type": "markdown",
   "id": "ae057e9e",
   "metadata": {},
   "source": [
    "To find the length of the longest strictly increasing subsequence in an integer array nums, we can use dynamic programming. Here's the algorithm to solve this problem:\n",
    "\n",
    "Create an array dp of the same length as nums and initialize it with all values set to 1. This array will store the length of the longest increasing subsequence ending at each index.\n",
    "\n",
    "Iterate over the array nums from left to right, and for each element at index i, do the following:\n",
    "\n",
    "Iterate over all the elements from index 0 to i-1 and for each element at index j, do the following:\n",
    "\n",
    "If nums[i] > nums[j], it means we can extend the subsequence ending at index j by including nums[i]. In this case, update dp[i] as the maximum of dp[i] and dp[j] + 1.\n",
    "Finally, find the maximum value in the dp array, which will give us the length of the longest strictly increasing subsequence in nums."
   ]
  },
  {
   "cell_type": "code",
   "execution_count": 11,
   "id": "696ed674",
   "metadata": {},
   "outputs": [
    {
     "name": "stdout",
     "output_type": "stream",
     "text": [
      "4\n"
     ]
    }
   ],
   "source": [
    "def lengthOfLIS(nums):\n",
    "    n = len(nums)\n",
    "    dp = [1] * n\n",
    "    \n",
    "    for i in range(n):\n",
    "        for j in range(i):\n",
    "            if nums[i] > nums[j]:\n",
    "                dp[i] = max(dp[i], dp[j] + 1)\n",
    "    \n",
    "    return max(dp)\n",
    "\n",
    "# Example usage:\n",
    "nums = [10, 9, 2, 5, 3, 7, 101, 18]\n",
    "print(lengthOfLIS(nums))  # Output: 4\n"
   ]
  },
  {
   "cell_type": "markdown",
   "id": "013a86f4",
   "metadata": {},
   "source": [
    "The time complexity of this algorithm is O(n^2), where n is the length of the input array nums."
   ]
  },
  {
   "cell_type": "markdown",
   "id": "d754fb95",
   "metadata": {},
   "source": [
    "\n",
    "# 💡 8. **132 Pattern**\n",
    "\n",
    "Given an array of `n` integers `nums`, a **132 pattern** is a subsequence of three integers `nums[i]`, `nums[j]` and `nums[k]` such that `i < j < k` and `nums[i] < nums[k] < nums[j]`.\n",
    "\n",
    "Return `true` *if there is a **132 pattern** in* `nums`*, otherwise, return* `false`*.*\n",
    "\n",
    "**Example 1:**\n",
    "\n",
    "```\n",
    "Input: nums = [1,2,3,4]\n",
    "Output: false\n",
    "Explanation: There is no 132 pattern in the sequence.\n",
    "\n",
    "```\n",
    "\n",
    "**Example 2:**\n",
    "\n",
    "```\n",
    "Input: nums = [3,1,4,2]\n",
    "Output: true\n",
    "Explanation: There is a 132 pattern in the sequence: [1, 4, 2].\n",
    "\n",
    "```\n",
    "\n",
    "**Example 3:**\n",
    "\n",
    "```\n",
    "Input: nums = [-1,3,2,0]\n",
    "Output: true\n",
    "Explanation: There are three 132 patterns in the sequence: [-1, 3, 2], [-1, 3, 0] and [-1, 2, 0].\n",
    "\n",
    "```\n",
    "\n",
    "**Constraints:**\n",
    "\n",
    "- `n == nums.length`\n",
    "- `1 <= n <= 2 * 10^5`\n",
    "- `-10^9 <= nums[i] <= 10^9`\n",
    "</aside>"
   ]
  },
  {
   "cell_type": "markdown",
   "id": "12f2463d",
   "metadata": {},
   "source": [
    "To determine if an array contains a \"132 pattern,\" we can iterate through the array and keep track of the maximum value found so far. We use a stack to store potential values for the \"2\" in the pattern.\n",
    "\n",
    "Here's the step-by-step algorithm:\n",
    "\n",
    "Initialize an empty stack and a variable s3 to store the maximum value found so far.\n",
    "Iterate through the array nums in reverse order (from right to left):\n",
    "Let num be the current element.\n",
    "Check if num is greater than s3. If it is, return true because we have found a valid \"132 pattern.\"\n",
    "While the stack is not empty and the top element of the stack is less than num, update s3 with the top element and pop it from the stack.\n",
    "Push num onto the stack.\n",
    "If we reach the end of the array without finding a valid \"132 pattern,\" return false."
   ]
  },
  {
   "cell_type": "code",
   "execution_count": 12,
   "id": "a92becd1",
   "metadata": {},
   "outputs": [],
   "source": [
    "def find132pattern(nums):\n",
    "    stack = []\n",
    "    s3 = float('-inf')\n",
    "\n",
    "    for num in reversed(nums):\n",
    "        if num > s3:\n",
    "            return True\n",
    "\n",
    "        while stack and stack[-1] < num:\n",
    "            s3 = stack.pop()\n",
    "\n",
    "        stack.append(num)\n",
    "\n",
    "    return False\n"
   ]
  },
  {
   "cell_type": "code",
   "execution_count": 13,
   "id": "374815d6",
   "metadata": {},
   "outputs": [
    {
     "name": "stdout",
     "output_type": "stream",
     "text": [
      "True\n",
      "True\n",
      "True\n"
     ]
    }
   ],
   "source": [
    "nums1 = [1, 2, 3, 4]\n",
    "print(find132pattern(nums1))  # Output: False\n",
    "\n",
    "nums2 = [3, 1, 4, 2]\n",
    "print(find132pattern(nums2))  # Output: True\n",
    "\n",
    "nums3 = [-1, 3, 2, 0]\n",
    "print(find132pattern(nums3))  # Output: True\n"
   ]
  },
  {
   "cell_type": "markdown",
   "id": "c8206a58",
   "metadata": {},
   "source": [
    "The algorithm correctly identifies whether there is a \"132 pattern\" in each example."
   ]
  },
  {
   "cell_type": "code",
   "execution_count": null,
   "id": "c6ba41fc",
   "metadata": {},
   "outputs": [],
   "source": []
  }
 ],
 "metadata": {
  "kernelspec": {
   "display_name": "Python 3",
   "language": "python",
   "name": "python3"
  },
  "language_info": {
   "codemirror_mode": {
    "name": "ipython",
    "version": 3
   },
   "file_extension": ".py",
   "mimetype": "text/x-python",
   "name": "python",
   "nbconvert_exporter": "python",
   "pygments_lexer": "ipython3",
   "version": "3.8.8"
  }
 },
 "nbformat": 4,
 "nbformat_minor": 5
}
