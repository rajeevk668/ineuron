{
 "cells": [
  {
   "cell_type": "markdown",
   "id": "fe118566",
   "metadata": {},
   "source": [
    "# Assignment 9"
   ]
  },
  {
   "cell_type": "markdown",
   "id": "635501b8",
   "metadata": {},
   "source": [
    "# 💡 **Question 1**\n",
    "\n",
    "Given an integer `n`, return *`true` if it is a power of two. Otherwise, return `false`*.\n",
    "\n",
    "An integer `n` is a power of two, if there exists an integer `x` such that `n == 2x`.\n",
    "\n",
    "**Example 1:**\n",
    "Input: n = 1 \n",
    "\n",
    "Output: true\n",
    "\n",
    "**Example 2:**\n",
    "Input: n = 16 \n",
    "\n",
    "Output: true\n",
    "\n",
    "**Example 3:**\n",
    "Input: n = 3 \n",
    "\n",
    "Output: false"
   ]
  },
  {
   "cell_type": "markdown",
   "id": "ccb596db",
   "metadata": {},
   "source": [
    "To determine whether an integer n is a power of two, we can use the following approach:\n",
    "\n",
    "If n is less than or equal to 0, return false since negative numbers and zero cannot be powers of two.\n",
    "Keep dividing n by 2 until n becomes 1 or an odd number.\n",
    "If n becomes 1 at the end of the loop, return true because it means that all the divisions resulted in 2, indicating that n is a power of two. Otherwise, return false."
   ]
  },
  {
   "cell_type": "code",
   "execution_count": 1,
   "id": "f72d3e51",
   "metadata": {},
   "outputs": [],
   "source": [
    "def isPowerOfTwo(n):\n",
    "    if n <= 0:\n",
    "        return False\n",
    "    while n % 2 == 0:\n",
    "        n //= 2\n",
    "    return n == 1\n"
   ]
  },
  {
   "cell_type": "code",
   "execution_count": 2,
   "id": "982531dc",
   "metadata": {},
   "outputs": [
    {
     "name": "stdout",
     "output_type": "stream",
     "text": [
      "True\n",
      "True\n",
      "False\n"
     ]
    }
   ],
   "source": [
    "print(isPowerOfTwo(1))  # Output: True\n",
    "print(isPowerOfTwo(16))  # Output: True\n",
    "print(isPowerOfTwo(3))  # Output: False\n"
   ]
  },
  {
   "cell_type": "code",
   "execution_count": 3,
   "id": "a460fb37",
   "metadata": {},
   "outputs": [],
   "source": [
    "#The function correctly identifies whether the given numbers are powers of two or not."
   ]
  },
  {
   "cell_type": "markdown",
   "id": "d41bbe3c",
   "metadata": {},
   "source": [
    "\n",
    "# 💡 **Question 2**\n",
    "\n",
    "Given a number n, find the sum of the first natural numbers.\n",
    "\n",
    "**Example 1:**\n",
    "\n",
    "Input: n = 3 \n",
    "\n",
    "Output: 6\n",
    "\n",
    "**Example 2:**\n",
    "\n",
    "Input  : 5 \n",
    "\n",
    "Output : 15\n",
    "\n",
    "</aside>"
   ]
  },
  {
   "cell_type": "code",
   "execution_count": 4,
   "id": "fc232ee6",
   "metadata": {},
   "outputs": [
    {
     "name": "stdout",
     "output_type": "stream",
     "text": [
      "6\n",
      "15\n"
     ]
    }
   ],
   "source": [
    "#To find the sum of the first n natural numbers, you can use the formula for the sum of an arithmetic series:\n",
    "\n",
    "\n",
    "#Sum = (n * (n + 1)) / 2\n",
    "#Here's a Python function that calculates the sum:\n",
    "\n",
    "\n",
    "def sum_of_natural_numbers(n):\n",
    "    return (n * (n + 1)) // 2\n",
    "#Let's test this function with the provided examples:\n",
    "\n",
    "\n",
    "# Example 1\n",
    "n = 3\n",
    "result = sum_of_natural_numbers(n)\n",
    "print(result)  # Output: 6\n",
    "\n",
    "# Example 2\n",
    "n = 5\n",
    "result = sum_of_natural_numbers(n)\n",
    "print(result)  # Output: 15\n",
    "#The function returns the correct outputs for the given examples.\n",
    "\n",
    "\n",
    "\n",
    "\n"
   ]
  },
  {
   "cell_type": "markdown",
   "id": "666387fb",
   "metadata": {},
   "source": [
    "\n",
    "# 💡 **Question 3**\n",
    "\n",
    "****Given a positive integer, N. Find the factorial of N. \n",
    "\n",
    "**Example 1:**\n",
    "\n",
    "Input: N = 5 \n",
    "\n",
    "Output: 120\n",
    "\n",
    "**Example 2:**\n",
    "\n",
    "Input: N = 4\n",
    "\n",
    "Output: 24\n",
    "\n",
    "</aside>"
   ]
  },
  {
   "cell_type": "code",
   "execution_count": 5,
   "id": "0342f6eb",
   "metadata": {},
   "outputs": [
    {
     "name": "stdout",
     "output_type": "stream",
     "text": [
      "120\n",
      "24\n"
     ]
    }
   ],
   "source": [
    "#To find the factorial of a positive integer N, you need to multiply all the positive integers from 1 to N together. Here's an example of how you can calculate the factorial:\n",
    "\n",
    "\n",
    "def factorial(N):\n",
    "    result = 1\n",
    "    for i in range(1, N + 1):\n",
    "        result *= i\n",
    "    return result\n",
    "#Let's use this function to calculate the factorial for the given examples:\n",
    "\n",
    "#Example 1:\n",
    "\n",
    "\n",
    "N = 5\n",
    "factorial_5 = factorial(N)\n",
    "print(factorial_5)  # Output: 120\n",
    "#Example 2:\n",
    "\n",
    "\n",
    "N = 4\n",
    "factorial_4 = factorial(N)\n",
    "print(factorial_4)  # Output: 24\n",
    "#So, the factorial of 5 is 120 and the factorial of 4 is 24.\n",
    "\n",
    "\n"
   ]
  },
  {
   "cell_type": "markdown",
   "id": "d4568fb6",
   "metadata": {},
   "source": [
    "\n",
    "# 💡 **Question 4**\n",
    "\n",
    "Given a number N and a power P, the task is to find the exponent of this number raised to the given power, i.e. N^P.\n",
    "\n",
    "**Example 1 :** \n",
    "\n",
    "Input: N = 5, P = 2\n",
    "\n",
    "Output: 25\n",
    "\n",
    "**Example 2 :**\n",
    "Input: N = 2, P = 5\n",
    "\n",
    "Output: 32\n",
    "\n",
    "</aside>"
   ]
  },
  {
   "cell_type": "code",
   "execution_count": 6,
   "id": "2c1266c2",
   "metadata": {},
   "outputs": [
    {
     "name": "stdout",
     "output_type": "stream",
     "text": [
      "25\n",
      "32\n"
     ]
    }
   ],
   "source": [
    "# To find the exponent of a number raised to a given power, you can use the exponentiation operator or a power function in most programming languages. Here's an example of how you can calculate N^P in Python:\n",
    "\n",
    "def find_exponent(N, P):\n",
    "    result = N ** P\n",
    "    return result\n",
    "\n",
    "# Example usage:\n",
    "exponent_1 = find_exponent(5, 2)\n",
    "print(exponent_1)  # Output: 25\n",
    "\n",
    "exponent_2 = find_exponent(2, 5)\n",
    "print(exponent_2)  # Output: 32\n",
    "\n"
   ]
  },
  {
   "cell_type": "markdown",
   "id": "34a05431",
   "metadata": {},
   "source": [
    "In the above code, the ** operator is used to raise the number N to the power P. The function find_exponent takes two parameters, N and P, and returns the calculated result.\n",
    "\n",
    "You can replace the input values (5, 2, 2, 5) in the above code with any other positive integers to calculate the exponent for different values."
   ]
  },
  {
   "cell_type": "markdown",
   "id": "d251bf7b",
   "metadata": {},
   "source": [
    "\n",
    "# 💡 **Question 5**\n",
    "\n",
    "Given an array of integers **arr**, the task is to find maximum element of that array using recursion.\n",
    "\n",
    "**Example 1:**\n",
    "\n",
    "Input: arr = {1, 4, 3, -5, -4, 8, 6};\n",
    "Output: 8\n",
    "\n",
    "**Example 2:**\n",
    "\n",
    "Input: arr = {1, 4, 45, 6, 10, -8};\n",
    "Output: 45\n",
    "\n",
    "</aside>"
   ]
  },
  {
   "cell_type": "code",
   "execution_count": 7,
   "id": "d91b092d",
   "metadata": {},
   "outputs": [
    {
     "name": "stdout",
     "output_type": "stream",
     "text": [
      "8\n"
     ]
    }
   ],
   "source": [
    "#To find the maximum element of an array using recursion, you can use the following approach:\n",
    "\n",
    "#Define a recursive function, let's call it findMax, that takes the array and the current index as parameters.\n",
    "#In the findMax function, check the base case. If the current index is equal to the length of the array minus one (indicating the last element), return that element.\n",
    "#Otherwise, compare the current element at the given index with the maximum element of the remaining subarray by making a recursive call to findMax with the next index.\n",
    "#Return the maximum of the current element and the maximum element from the remaining subarray.\n",
    "#Here's the implementation in Python:\n",
    "\n",
    "\n",
    "def findMax(arr, index):\n",
    "    if index == len(arr) - 1:\n",
    "        return arr[index]\n",
    "    else:\n",
    "        return max(arr[index], findMax(arr, index + 1))\n",
    "\n",
    "# Example usage\n",
    "arr = [1, 4, 3, -5, -4, 8, 6]\n",
    "max_element = findMax(arr, 0)\n",
    "print(max_element)\n"
   ]
  },
  {
   "cell_type": "code",
   "execution_count": 8,
   "id": "7445ddaa",
   "metadata": {},
   "outputs": [
    {
     "name": "stdout",
     "output_type": "stream",
     "text": [
      "45\n"
     ]
    }
   ],
   "source": [
    "arr = [1, 4, 45, 6, 10, -8]\n",
    "max_element = findMax(arr, 0)\n",
    "print(max_element)\n"
   ]
  },
  {
   "cell_type": "code",
   "execution_count": 9,
   "id": "1f1f6b3e",
   "metadata": {},
   "outputs": [],
   "source": [
    "#The findMax function recursively compares each element with the maximum element of the remaining subarray, effectively finding the maximum element of the entire array."
   ]
  },
  {
   "cell_type": "markdown",
   "id": "169410de",
   "metadata": {},
   "source": [
    "\n",
    "# 💡 **Question 6**\n",
    "\n",
    "Given first term (a), common difference (d) and a integer N of the Arithmetic Progression series, the task is to find Nth term of the series.\n",
    "\n",
    "**Example 1:**\n",
    "\n",
    "Input : a = 2 d = 1 N = 5\n",
    "Output : 6\n",
    "The 5th term of the series is : 6\n",
    "\n",
    "**Example 2:**\n",
    "\n",
    "Input : a = 5 d = 2 N = 10\n",
    "Output : 23\n",
    "The 10th term of the series is : 23\n",
    "\n",
    "</aside>"
   ]
  },
  {
   "cell_type": "code",
   "execution_count": 10,
   "id": "e0beb4d3",
   "metadata": {},
   "outputs": [
    {
     "name": "stdout",
     "output_type": "stream",
     "text": [
      "The 5 th term of the series is: 6\n"
     ]
    }
   ],
   "source": [
    "#To find the nth term of an arithmetic progression series, you can use the following formula:\n",
    "\n",
    "#nth term = a + (n - 1) * d\n",
    "\n",
    "#Where:\n",
    "\n",
    "#\"a\" is the first term of the series,\n",
    "#\"d\" is the common difference between consecutive terms, and\n",
    "#\"n\" is the position of the term you want to find.\n",
    "#Using this formula, we can calculate the nth term of the series.\n",
    "\n",
    "\n",
    "def find_nth_term(a, d, n):\n",
    "    nth_term = a + (n - 1) * d\n",
    "    return nth_term\n",
    "\n",
    "# Example usage\n",
    "a = 2\n",
    "d = 1\n",
    "n = 5\n",
    "nth_term = find_nth_term(a, d, n)\n",
    "print(\"The\", n, \"th term of the series is:\", nth_term)\n",
    "\n",
    "#The 5th term of the series is: 6\n",
    "\n",
    "\n",
    "\n"
   ]
  },
  {
   "cell_type": "markdown",
   "id": "f047a4d8",
   "metadata": {},
   "source": [
    "\n",
    "# 💡 **Question 7**\n",
    "\n",
    "Given a string S, the task is to write a program to print all permutations of a given string.\n",
    "\n",
    "**Example 1:**\n",
    "\n",
    "***Input:***\n",
    "\n",
    "*S = “ABC”*\n",
    "\n",
    "***Output:***\n",
    "\n",
    "*“ABC”, “ACB”, “BAC”, “BCA”, “CBA”, “CAB”*\n",
    "\n",
    "**Example 2:**\n",
    "\n",
    "***Input:***\n",
    "\n",
    "*S = “XY”*\n",
    "\n",
    "***Output:***\n",
    "\n",
    "*“XY”, “YX”*\n",
    "\n",
    "</aside>"
   ]
  },
  {
   "cell_type": "code",
   "execution_count": 11,
   "id": "324af713",
   "metadata": {},
   "outputs": [
    {
     "name": "stdout",
     "output_type": "stream",
     "text": [
      "Permutations of 'ABC':\n",
      "ABC\n",
      "ACB\n",
      "BAC\n",
      "BCA\n",
      "CBA\n",
      "CAB\n"
     ]
    }
   ],
   "source": [
    "#To generate all permutations of a given string, you can use the concept of backtracking. Here's an example program in Python that prints all permutations of a given string:\n",
    "\n",
    "\n",
    "def permute(s, left, right):\n",
    "    if left == right:\n",
    "        print(\"\".join(s))\n",
    "    else:\n",
    "        for i in range(left, right + 1):\n",
    "            s[left], s[i] = s[i], s[left]  # Swap characters\n",
    "            permute(s, left + 1, right)  # Recursive call\n",
    "            s[left], s[i] = s[i], s[left]  # Backtrack, restore the original order\n",
    "\n",
    "# Function to print all permutations of a given string\n",
    "def print_permutations(string):\n",
    "    n = len(string)\n",
    "    s = list(string)\n",
    "    permute(s, 0, n - 1)\n",
    "\n",
    "# Example usage\n",
    "string = \"ABC\"\n",
    "print(\"Permutations of '{}':\".format(string))\n",
    "print_permutations(string)\n",
    "\n",
    "\n",
    "\n",
    "#The permute function is a recursive function that generates all permutations of the given string s. It takes three parameters: the string as a list s, the starting index left, and the ending index right. Initially, left is set to 0, and right is set to the length of the string minus 1.\n",
    "\n",
    "#The base case is when left is equal to right, which means we have reached a permutation. In this case, we convert the list s back to a string and print it.\n",
    "\n",
    "#Otherwise, we iterate over the range from left to right and perform the following steps:\n",
    "\n",
    "#Swap the characters at indices left and i.\n",
    "#Recursively call permute with the updated s, left + 1, and right.\n",
    "#Backtrack by swapping the characters back to their original positions.\n",
    "#Finally, the print_permutations function takes a string as input, converts it to a list, and calls the permute function to print all permutations of the string.\n",
    "\n",
    "#You can modify and adapt this code to fit your specific requirements or programming language.\n",
    "\n",
    "\n",
    "\n",
    "\n",
    "\n",
    "\n"
   ]
  },
  {
   "cell_type": "markdown",
   "id": "c6419a6d",
   "metadata": {},
   "source": [
    "\n",
    "# 💡 **Question 8**\n",
    "\n",
    "Given an array, find a product of all array elements.\n",
    "\n",
    "**Example 1:**\n",
    "\n",
    "Input  : arr[] = {1, 2, 3, 4, 5}\n",
    "Output : 120\n",
    "**Example 2:**\n",
    "\n",
    "Input  : arr[] = {1, 6, 3}\n",
    "Output : 18\n",
    "\n",
    "</aside>"
   ]
  },
  {
   "cell_type": "code",
   "execution_count": 12,
   "id": "b27a51f8",
   "metadata": {},
   "outputs": [
    {
     "name": "stdout",
     "output_type": "stream",
     "text": [
      "120\n",
      "18\n"
     ]
    }
   ],
   "source": [
    "#To find the product of all elements in an array, you can iterate over the array and multiply each element together. Here's an example solution in Python:\n",
    "\n",
    "\n",
    "def find_product(arr):\n",
    "    product = 1\n",
    "    for num in arr:\n",
    "        product *= num\n",
    "    return product\n",
    "\n",
    "# Example usage:\n",
    "arr1 = [1, 2, 3, 4, 5]\n",
    "result1 = find_product(arr1)\n",
    "print(result1)  # Output: 120\n",
    "\n",
    "arr2 = [1, 6, 3]\n",
    "result2 = find_product(arr2)\n",
    "print(result2)  # Output: 18\n",
    "#In this solution, we initialize the product variable to 1. Then, we iterate over each element in the array and multiply it with the product variable. Finally, we return the product variable, which will contain the product of all the elements in the array."
   ]
  },
  {
   "cell_type": "code",
   "execution_count": null,
   "id": "c19690fb",
   "metadata": {},
   "outputs": [],
   "source": []
  }
 ],
 "metadata": {
  "kernelspec": {
   "display_name": "Python 3",
   "language": "python",
   "name": "python3"
  },
  "language_info": {
   "codemirror_mode": {
    "name": "ipython",
    "version": 3
   },
   "file_extension": ".py",
   "mimetype": "text/x-python",
   "name": "python",
   "nbconvert_exporter": "python",
   "pygments_lexer": "ipython3",
   "version": "3.8.8"
  }
 },
 "nbformat": 4,
 "nbformat_minor": 5
}
