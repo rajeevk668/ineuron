{
 "cells": [
  {
   "cell_type": "markdown",
   "id": "f659a7b2",
   "metadata": {},
   "source": [
    "# Assignment 4"
   ]
  },
  {
   "cell_type": "markdown",
   "id": "b77daccd",
   "metadata": {},
   "source": [
    "\n",
    "# 💡 **Question 1**\n",
    "Given three integer arrays arr1, arr2 and arr3 **sorted** in **strictly increasing** order, return a sorted array of **only** the integers that appeared in **all** three arrays.\n",
    "\n",
    "**Example 1:**\n",
    "\n",
    "Input: arr1 = [1,2,3,4,5], arr2 = [1,2,5,7,9], arr3 = [1,3,4,5,8]\n",
    "\n",
    "Output: [1,5]\n",
    "\n",
    "**Explanation:** Only 1 and 5 appeared in the three arrays.\n",
    "\n",
    "</aside>"
   ]
  },
  {
   "cell_type": "markdown",
   "id": "5bd7125e",
   "metadata": {},
   "source": [
    "To find the integers that appeared in all three arrays, you can use a common algorithm known as the \"Intersection of Three Sorted Arrays.\" Here's the step-by-step approach:\n",
    "\n",
    "Initialize three pointers, i, j, and k, to track the current index in each array. Start them at 0.\n",
    "\n",
    "Initialize an empty list, result, to store the common elements.\n",
    "\n",
    "Iterate while i, j, and k are within their respective array bounds:\n",
    "\n",
    "Check if arr1[i], arr2[j], and arr3[k] are equal.\n",
    "If they are equal, add the element to the result list and increment all three pointers (i, j, k) by 1.\n",
    "If they are not equal, find the minimum value among the three elements and increment only that pointer.\n",
    "Return the result list."
   ]
  },
  {
   "cell_type": "code",
   "execution_count": 21,
   "id": "1eb94121",
   "metadata": {},
   "outputs": [],
   "source": [
    "def findCommonElements(arr1, arr2, arr3):\n",
    "    i, j, k = 0, 0, 0\n",
    "    result = []\n",
    "\n",
    "    while i < len(arr1) and j < len(arr2) and k < len(arr3):\n",
    "        if arr1[i] == arr2[j] == arr3[k]:\n",
    "            result.append(arr1[i])\n",
    "            i += 1\n",
    "            j += 1\n",
    "            k += 1\n",
    "        elif arr1[i] <= arr2[j] and arr1[i] <= arr3[k]:\n",
    "            i += 1\n",
    "        elif arr2[j] <= arr1[i] and arr2[j] <= arr3[k]:\n",
    "            j += 1\n",
    "        elif arr3[k] <= arr1[i] and arr3[k] <= arr2[j]:\n",
    "            k += 1\n",
    "\n",
    "    return result\n"
   ]
  },
  {
   "cell_type": "code",
   "execution_count": 22,
   "id": "0a8a2ecd",
   "metadata": {},
   "outputs": [
    {
     "name": "stdout",
     "output_type": "stream",
     "text": [
      "[1, 5]\n"
     ]
    }
   ],
   "source": [
    "arr1 = [1,2,3,4,5]\n",
    "arr2 = [1,2,5,7,9]\n",
    "arr3 = [1,3,4,5,8]\n",
    "\n",
    "result = findCommonElements(arr1, arr2, arr3)\n",
    "print(result)  # Output: [1, 5]"
   ]
  },
  {
   "cell_type": "markdown",
   "id": "98510b0d",
   "metadata": {},
   "source": [
    "The findCommonElements function takes three arrays as input and returns the sorted array containing only the integers that appeared in all three arrays."
   ]
  },
  {
   "cell_type": "markdown",
   "id": "f274b423",
   "metadata": {},
   "source": [
    "\n",
    "# 💡 **Question 2**\n",
    "\n",
    "Given two **0-indexed** integer arrays nums1 and nums2, return *a list* answer *of size* 2 *where:*\n",
    "\n",
    "- answer[0] *is a list of all **distinct** integers in* nums1 *which are **not** present in* nums2*.*\n",
    "- answer[1] *is a list of all **distinct** integers in* nums2 *which are **not** present in* nums1.\n",
    "\n",
    "**Note** that the integers in the lists may be returned in **any** order.\n",
    "\n",
    "**Example 1:**\n",
    "\n",
    "**Input:** nums1 = [1,2,3], nums2 = [2,4,6]\n",
    "\n",
    "**Output:** [[1,3],[4,6]]\n",
    "\n",
    "**Explanation:**\n",
    "\n",
    "For nums1, nums1[1] = 2 is present at index 0 of nums2, whereas nums1[0] = 1 and nums1[2] = 3 are not present in nums2. Therefore, answer[0] = [1,3].\n",
    "\n",
    "For nums2, nums2[0] = 2 is present at index 1 of nums1, whereas nums2[1] = 4 and nums2[2] = 6 are not present in nums2. Therefore, answer[1] = [4,6].\n",
    "\n"
   ]
  },
  {
   "cell_type": "markdown",
   "id": "f3d5cf13",
   "metadata": {},
   "source": [
    "To find the distinct integers that are present in one array but not in the other, you can use the following approach:\n",
    "\n",
    "Convert the input arrays nums1 and nums2 into sets to eliminate duplicates.\n",
    "\n",
    "Find the set difference between nums1 and nums2 to get the distinct integers in nums1 that are not present in nums2.\n",
    "\n",
    "Find the set difference between nums2 and nums1 to get the distinct integers in nums2 that are not present in nums1.\n",
    "\n",
    "Convert the resulting sets back into lists and store them in answer[0] and answer[1] respectively."
   ]
  },
  {
   "cell_type": "code",
   "execution_count": 23,
   "id": "ce00b52f",
   "metadata": {},
   "outputs": [],
   "source": [
    "def findDistinctIntegers(nums1, nums2):\n",
    "    set1 = set(nums1)\n",
    "    set2 = set(nums2)\n",
    "\n",
    "    distinct_nums1 = list(set1 - set2)\n",
    "    distinct_nums2 = list(set2 - set1)\n",
    "\n",
    "    answer = [distinct_nums1, distinct_nums2]\n",
    "    return answer\n"
   ]
  },
  {
   "cell_type": "code",
   "execution_count": 24,
   "id": "04fbb7e3",
   "metadata": {},
   "outputs": [
    {
     "name": "stdout",
     "output_type": "stream",
     "text": [
      "[[1, 3], [4, 6]]\n"
     ]
    }
   ],
   "source": [
    "nums1 = [1, 2, 3]\n",
    "nums2 = [2, 4, 6]\n",
    "\n",
    "answer = findDistinctIntegers(nums1, nums2)\n",
    "print(answer)  # Output: [[1, 3], [4, 6]]\n"
   ]
  },
  {
   "cell_type": "markdown",
   "id": "761f0a85",
   "metadata": {},
   "source": [
    "The findDistinctIntegers function takes two arrays, nums1 and nums2, and returns a list answer of size 2. answer[0] contains the distinct integers in nums1 that are not present in nums2, and answer[1] contains the distinct integers in nums2 that are not present in nums1."
   ]
  },
  {
   "cell_type": "markdown",
   "id": "c15ac775",
   "metadata": {},
   "source": [
    "\n",
    "# 💡 **Question 3**\n",
    "Given a 2D integer array matrix, return *the **transpose** of* matrix.\n",
    "\n",
    "The **transpose** of a matrix is the matrix flipped over its main diagonal, switching the matrix's row and column indices.\n",
    "\n",
    "**Example 1:**\n",
    "\n",
    "Input: matrix = [[1,2,3],[4,5,6],[7,8,9]]\n",
    "\n",
    "Output: [[1,4,7],[2,5,8],[3,6,9]]\n",
    "\n"
   ]
  },
  {
   "cell_type": "markdown",
   "id": "22bd09e6",
   "metadata": {},
   "source": [
    "Initialize an empty 2D array, transpose, with dimensions n columns by m rows, where n is the number of columns in the original matrix and m is the number of rows.\n",
    "\n",
    "Iterate over the rows of the original matrix, matrix, using the variable i.\n",
    "\n",
    "For each row i, iterate over the columns of matrix using the variable j.\n",
    "\n",
    "Assign the value of matrix[i][j] to transpose[j][i].\n",
    "\n",
    "Return the transpose matrix."
   ]
  },
  {
   "cell_type": "code",
   "execution_count": 25,
   "id": "6c5746d2",
   "metadata": {},
   "outputs": [],
   "source": [
    "def transposeMatrix(matrix):\n",
    "    m = len(matrix)\n",
    "    n = len(matrix[0])\n",
    "    transpose = [[0] * m for _ in range(n)]\n",
    "\n",
    "    for i in range(m):\n",
    "        for j in range(n):\n",
    "            transpose[j][i] = matrix[i][j]\n",
    "\n",
    "    return transpose\n"
   ]
  },
  {
   "cell_type": "code",
   "execution_count": 26,
   "id": "24878a85",
   "metadata": {},
   "outputs": [
    {
     "name": "stdout",
     "output_type": "stream",
     "text": [
      "[[1, 4, 7], [2, 5, 8], [3, 6, 9]]\n"
     ]
    }
   ],
   "source": [
    "matrix = [[1, 2, 3], [4, 5, 6], [7, 8, 9]]\n",
    "\n",
    "transpose = transposeMatrix(matrix)\n",
    "print(transpose)  # Output: [[1, 4, 7], [2, 5, 8], [3, 6, 9]]\n"
   ]
  },
  {
   "cell_type": "markdown",
   "id": "a3db46c5",
   "metadata": {},
   "source": [
    "The transposeMatrix function takes a 2D array matrix as input and returns the transpose of the matrix, as described in the question."
   ]
  },
  {
   "cell_type": "markdown",
   "id": "57b2f53c",
   "metadata": {},
   "source": [
    "\n",
    "# 💡 **Question 4**\n",
    "Given an integer array nums of 2n integers, group these integers into n pairs (a1, b1), (a2, b2), ..., (an, bn) such that the sum of min(ai, bi) for all i is **maximized**. Return *the maximized sum*.\n",
    "\n",
    "**Example 1:**\n",
    "\n",
    "Input: nums = [1,4,3,2]\n",
    "\n",
    "Output: 4\n",
    "\n",
    "**Explanation:** All possible pairings (ignoring the ordering of elements) are:\n",
    "\n",
    "1. (1, 4), (2, 3) -> min(1, 4) + min(2, 3) = 1 + 2 = 3\n",
    "\n",
    "2. (1, 3), (2, 4) -> min(1, 3) + min(2, 4) = 1 + 2 = 3\n",
    "\n",
    "3. (1, 2), (3, 4) -> min(1, 2) + min(3, 4) = 1 + 3 = 4\n",
    "\n",
    "So the maximum possible sum is 4.\n",
    "\n"
   ]
  },
  {
   "cell_type": "markdown",
   "id": "45242021",
   "metadata": {},
   "source": [
    "To maximize the sum of the minimum values in pairs, you should pair the smallest number with the next smallest number, the third smallest number with the fourth smallest number, and so on. In other words, you should sort the array and then sum every other number starting from the first element.\n",
    "\n",
    "Here's the step-by-step approach to solve this problem:\n",
    "\n",
    "Sort the input array nums in ascending order.\n",
    "\n",
    "Initialize a variable max_sum to store the maximum sum.\n",
    "\n",
    "Iterate over the array by incrementing the index i by 2 in each step (since we are considering pairs).\n",
    "\n",
    "Add nums[i] to max_sum.\n",
    "\n",
    "Return max_sum."
   ]
  },
  {
   "cell_type": "code",
   "execution_count": 27,
   "id": "6dcc9eb5",
   "metadata": {},
   "outputs": [],
   "source": [
    "def arrayPairSum(nums):\n",
    "    nums.sort()\n",
    "    max_sum = 0\n",
    "\n",
    "    for i in range(0, len(nums), 2):\n",
    "        max_sum += nums[i]\n",
    "\n",
    "    return max_sum\n"
   ]
  },
  {
   "cell_type": "code",
   "execution_count": 28,
   "id": "ec7a4531",
   "metadata": {},
   "outputs": [
    {
     "name": "stdout",
     "output_type": "stream",
     "text": [
      "4\n"
     ]
    }
   ],
   "source": [
    "nums = [1, 4, 3, 2]\n",
    "\n",
    "max_sum = arrayPairSum(nums)\n",
    "print(max_sum)  # Output: 4\n"
   ]
  },
  {
   "cell_type": "markdown",
   "id": "26f77f1b",
   "metadata": {},
   "source": [
    "The arrayPairSum function takes an array nums as input and returns the maximum sum of the minimum values in pairs, as described in the question."
   ]
  },
  {
   "cell_type": "markdown",
   "id": "9a94af45",
   "metadata": {},
   "source": [
    "\n",
    "# 💡 **Question 6**\n",
    "Given an integer array nums sorted in **non-decreasing** order, return *an array of **the squares of each number** sorted in non-decreasing order*.\n",
    "\n",
    "**Example 1:**\n",
    "\n",
    "Input: nums = [-4,-1,0,3,10]\n",
    "\n",
    "Output: [0,1,9,16,100]\n",
    "\n",
    "**Explanation:** After squaring, the array becomes [16,1,0,9,100].\n",
    "After sorting, it becomes [0,1,9,16,100]\n",
    "\n"
   ]
  },
  {
   "cell_type": "markdown",
   "id": "3c73f9a1",
   "metadata": {},
   "source": [
    "To obtain an array of the squares of each number in non-decreasing order, you can follow these steps:\n",
    "\n",
    "Initialize an empty array, result, to store the squares of the numbers.\n",
    "\n",
    "Iterate over the numbers in the input array, nums.\n",
    "\n",
    "For each number num, square it by multiplying num with itself.\n",
    "\n",
    "Append the squared value to the result array.\n",
    "\n",
    "Sort the result array in non-decreasing order.\n",
    "\n",
    "Return the result array."
   ]
  },
  {
   "cell_type": "code",
   "execution_count": 29,
   "id": "dd3bf7c0",
   "metadata": {},
   "outputs": [],
   "source": [
    "def sortedSquares(nums):\n",
    "    result = []\n",
    "\n",
    "    for num in nums:\n",
    "        result.append(num * num)\n",
    "\n",
    "    result.sort()\n",
    "\n",
    "    return result\n"
   ]
  },
  {
   "cell_type": "code",
   "execution_count": 30,
   "id": "dc07a9a1",
   "metadata": {},
   "outputs": [
    {
     "name": "stdout",
     "output_type": "stream",
     "text": [
      "[0, 1, 9, 16, 100]\n"
     ]
    }
   ],
   "source": [
    "nums = [-4, -1, 0, 3, 10]\n",
    "\n",
    "squared_nums = sortedSquares(nums)\n",
    "print(squared_nums)  # Output: [0, 1, 9, 16, 100]\n"
   ]
  },
  {
   "cell_type": "markdown",
   "id": "b543229b",
   "metadata": {},
   "source": [
    "The sortedSquares function takes an array nums as input, squares each number, and returns the resulting array in non-decreasing order."
   ]
  },
  {
   "cell_type": "markdown",
   "id": "0fd52c48",
   "metadata": {},
   "source": [
    "\n",
    "# 💡 **Question 8**\n",
    "\n",
    "Given the array nums consisting of 2n elements in the form [x1,x2,...,xn,y1,y2,...,yn].\n",
    "\n",
    "*Return the array in the form* [x1,y1,x2,y2,...,xn,yn].\n",
    "\n",
    "**Example 1:**\n",
    "\n",
    "**Input:** nums = [2,5,1,3,4,7], n = 3\n",
    "\n",
    "**Output:** [2,3,5,4,1,7]\n",
    "\n",
    "**Explanation:** Since x1=2, x2=5, x3=1, y1=3, y2=4, y3=7 then the answer is [2,3,5,4,1,7].\n",
    "\n"
   ]
  },
  {
   "cell_type": "markdown",
   "id": "83850e75",
   "metadata": {},
   "source": [
    "To rearrange the array nums in the specified form, you can use the following approach:\n",
    "\n",
    "Divide the input array nums into two halves, x and y, each containing n elements. The first n elements will be part of x, and the remaining n elements will be part of y.\n",
    "\n",
    "Initialize an empty array, result, to store the rearranged elements.\n",
    "\n",
    "Iterate over the range 0 to n.\n",
    "\n",
    "For each index i, append nums[i] from x and nums[i + n] from y to the result array.\n",
    "\n",
    "Return the result array."
   ]
  },
  {
   "cell_type": "code",
   "execution_count": 31,
   "id": "eb7e0a10",
   "metadata": {},
   "outputs": [],
   "source": [
    "def shuffle(nums, n):\n",
    "    x = nums[:n]\n",
    "    y = nums[n:]\n",
    "\n",
    "    result = []\n",
    "\n",
    "    for i in range(n):\n",
    "        result.append(x[i])\n",
    "        result.append(y[i])\n",
    "\n",
    "    return result\n"
   ]
  },
  {
   "cell_type": "code",
   "execution_count": 32,
   "id": "8e12c440",
   "metadata": {},
   "outputs": [
    {
     "name": "stdout",
     "output_type": "stream",
     "text": [
      "[2, 3, 5, 4, 1, 7]\n"
     ]
    }
   ],
   "source": [
    "nums = [2, 5, 1, 3, 4, 7]\n",
    "n = 3\n",
    "\n",
    "shuffled_nums = shuffle(nums, n)\n",
    "print(shuffled_nums)  # Output: [2, 3, 5, 4, 1, 7]\n"
   ]
  },
  {
   "cell_type": "markdown",
   "id": "88cf0dc1",
   "metadata": {},
   "source": [
    "The shuffle function takes an array nums and an integer n as input and returns the array rearranged in the specified form."
   ]
  },
  {
   "cell_type": "markdown",
   "id": "f38d5ccd",
   "metadata": {},
   "source": [
    "\n",
    "# 💡 **Question 7**\n",
    "You are given an m x n matrix M initialized with all 0's and an array of operations ops, where ops[i] = [ai, bi] means M[x][y] should be incremented by one for all 0 <= x < ai and 0 <= y < bi.\n",
    "\n",
    "Count and return *the number of maximum integers in the matrix after performing all the operations*\n",
    "\n",
    "**Example 1:**\n",
    "\n",
    "![q4.jpg](https://s3-us-west-2.amazonaws.com/secure.notion-static.com/4d0890d0-7bc7-4f59-be8e-352d9f3c1c52/q4.jpg)\n",
    "\n",
    "**Input:** m = 3, n = 3, ops = [[2,2],[3,3]]\n",
    "\n",
    "**Output:** 4\n",
    "\n",
    "**Explanation:** The maximum integer in M is 2, and there are four of it in M. So return 4.\n",
    "\n",
    "</aside>"
   ]
  },
  {
   "cell_type": "markdown",
   "id": "f070ff2f",
   "metadata": {},
   "source": [
    "To count the number of maximum integers in the matrix after performing all the operations, you can follow these steps:\n",
    "\n",
    "Initialize the variables min_row and min_col to m and n respectively.\n",
    "\n",
    "Iterate over each operation [ai, bi] in the ops array.\n",
    "\n",
    "Update min_row to the minimum value between min_row and ai.\n",
    "\n",
    "Update min_col to the minimum value between min_col and bi.\n",
    "\n",
    "Return the product of min_row and min_col."
   ]
  },
  {
   "cell_type": "code",
   "execution_count": 33,
   "id": "525bd5b1",
   "metadata": {},
   "outputs": [],
   "source": [
    "def maxCount(m, n, ops):\n",
    "    min_row = m\n",
    "    min_col = n\n",
    "\n",
    "    for op in ops:\n",
    "        min_row = min(min_row, op[0])\n",
    "        min_col = min(min_col, op[1])\n",
    "\n",
    "    return min_row * min_col\n"
   ]
  },
  {
   "cell_type": "code",
   "execution_count": 34,
   "id": "514ffd7e",
   "metadata": {},
   "outputs": [
    {
     "name": "stdout",
     "output_type": "stream",
     "text": [
      "4\n"
     ]
    }
   ],
   "source": [
    "m = 3\n",
    "n = 3\n",
    "ops = [[2, 2], [3, 3]]\n",
    "\n",
    "max_integers = maxCount(m, n, ops)\n",
    "print(max_integers)  # Output: 4\n"
   ]
  },
  {
   "cell_type": "markdown",
   "id": "c6737e63",
   "metadata": {},
   "source": [
    "The maxCount function takes the dimensions m and n of the matrix, and the operations ops as input. It returns the count of maximum integers in the matrix after performing all the operations."
   ]
  },
  {
   "cell_type": "markdown",
   "id": "8e392d47",
   "metadata": {},
   "source": [
    "\n",
    "# 💡 **Question 5**\n",
    "You have n coins and you want to build a staircase with these coins. The staircase consists of k rows where the ith row has exactly i coins. The last row of the staircase **may be** incomplete.\n",
    "\n",
    "Given the integer n, return *the number of **complete rows** of the staircase you will build*.\n",
    "\n",
    "**Example 1:**\n",
    "\n",
    "[]()\n",
    "\n",
    "![v2.jpg](https://s3-us-west-2.amazonaws.com/secure.notion-static.com/4bd91cfa-d2b1-47b3-8197-a72e8dcfff4b/v2.jpg)\n",
    "\n",
    "**Input:** n = 5\n",
    "\n",
    "**Output:** 2\n",
    "\n",
    "**Explanation:** Because the 3rd row is incomplete, we return 2.\n",
    "\n",
    "</aside>"
   ]
  },
  {
   "cell_type": "markdown",
   "id": "a13ac769",
   "metadata": {},
   "source": [
    "To determine the number of complete rows in the staircase, you can use the following approach:\n",
    "\n",
    "Initialize a variable rows to 0. This variable will keep track of the number of complete rows.\n",
    "\n",
    "Iterate over the rows of the staircase from 1 to n.\n",
    "\n",
    "Subtract the number of coins required for the current row from n. If the remaining coins are greater than or equal to 0, increment rows by 1.\n",
    "\n",
    "Return the value of rows"
   ]
  },
  {
   "cell_type": "code",
   "execution_count": 35,
   "id": "467d3a56",
   "metadata": {},
   "outputs": [],
   "source": [
    "def arrangeCoins(n):\n",
    "    rows = 0\n",
    "\n",
    "    for i in range(1, n+1):\n",
    "        n -= i\n",
    "        if n >= 0:\n",
    "            rows += 1\n",
    "        else:\n",
    "            break\n",
    "\n",
    "    return rows\n"
   ]
  },
  {
   "cell_type": "code",
   "execution_count": 36,
   "id": "904bdb93",
   "metadata": {},
   "outputs": [
    {
     "name": "stdout",
     "output_type": "stream",
     "text": [
      "2\n"
     ]
    }
   ],
   "source": [
    "n = 5\n",
    "\n",
    "complete_rows = arrangeCoins(n)\n",
    "print(complete_rows)  # Output: 2\n"
   ]
  },
  {
   "cell_type": "markdown",
   "id": "f899fa5c",
   "metadata": {},
   "source": [
    "The arrangeCoins function takes an integer n as input and returns the number of complete rows of the staircase that can be built with n coins."
   ]
  },
  {
   "cell_type": "code",
   "execution_count": null,
   "id": "e030e49c",
   "metadata": {},
   "outputs": [],
   "source": []
  },
  {
   "cell_type": "code",
   "execution_count": null,
   "id": "afa55509",
   "metadata": {},
   "outputs": [],
   "source": []
  }
 ],
 "metadata": {
  "kernelspec": {
   "display_name": "Python 3",
   "language": "python",
   "name": "python3"
  },
  "language_info": {
   "codemirror_mode": {
    "name": "ipython",
    "version": 3
   },
   "file_extension": ".py",
   "mimetype": "text/x-python",
   "name": "python",
   "nbconvert_exporter": "python",
   "pygments_lexer": "ipython3",
   "version": "3.8.8"
  }
 },
 "nbformat": 4,
 "nbformat_minor": 5
}
