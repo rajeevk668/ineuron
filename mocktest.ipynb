{
 "cells": [
  {
   "cell_type": "markdown",
   "id": "3af70a82",
   "metadata": {},
   "source": [
    "Given a non-negative integer x, return the square root of x rounded down to the nearest integer. The returned integer should be non-negative as well. You must not use any built-in exponent function or operator. \n",
    "\n",
    " Example 1:\n",
    "Input: x = 4 Output: 2 Explanation: The square root of 4 is 2, so we return 2.\n",
    "Example 2:\n",
    "\n",
    "Input: x = 8 Output: 2 Explanation: The square root of 8 is 2.82842..., and since we round it down to the nearest integer, 2 is returned.\n",
    "Constraints:\n",
    "\n",
    "0 <= x <= 2^31 - 1"
   ]
  },
  {
   "cell_type": "markdown",
   "id": "9391722e",
   "metadata": {},
   "source": [
    "To find the square root of a non-negative integer \"x\" rounded down to the nearest integer without using any built-in exponent function or operator, you can use the binary search "
   ]
  },
  {
   "cell_type": "code",
   "execution_count": 1,
   "id": "09715e3a",
   "metadata": {},
   "outputs": [],
   "source": [
    "def mySqrt(x):\n",
    "    if x == 0:\n",
    "        return 0\n",
    "    \n",
    "    left = 1\n",
    "    right = x\n",
    "\n",
    "    while left <= right:\n",
    "        mid = (left + right) // 2\n",
    "        if mid * mid > x:\n",
    "            right = mid - 1\n",
    "        else:\n",
    "            left = mid + 1\n",
    "\n",
    "    return left - 1\n"
   ]
  },
  {
   "cell_type": "code",
   "execution_count": 2,
   "id": "d60f3954",
   "metadata": {},
   "outputs": [
    {
     "name": "stdout",
     "output_type": "stream",
     "text": [
      "2\n"
     ]
    }
   ],
   "source": [
    "print(mySqrt(4))"
   ]
  },
  {
   "cell_type": "markdown",
   "id": "8249b7a3",
   "metadata": {},
   "source": [
    "You are given two non-empty linked lists representing two non-negative integers. The digits are stored in reverse order, and each of their nodes contains a single digit. Add the two numbers and return the sum as a linked list.\n",
    "\n",
    "You may assume the two numbers do not contain any leading zero, except the number 0 itself.\n",
    "\n",
    "\n",
    "Example 1:\n",
    "\n",
    "Input: l1 = [2,4,3], l2 = [5,6,4] Output: [7,0,8] Explanation: 342 + 465 = 807.\n",
    "\n",
    "Example 2:\n",
    "\n",
    "Input: l1 = [0], l2 = [0] Output: [0]\n",
    "\n",
    "Example 3:\n",
    "\n",
    "Input: l1 = [9,9,9,9,9,9,9], l2 = [9,9,9,9] Output: [8,9,9,9,0,0,0,1]\n",
    "\n",
    " \n",
    "\n",
    "Constraints:\n",
    "\n",
    "The number of nodes in each linked list is in the range [1, 100].\n",
    "0 <= Node.val <= 9 It is guaranteed that the list represents a number that does not have leading zeros.\n",
    "\n"
   ]
  },
  {
   "cell_type": "markdown",
   "id": "c6c52dc8",
   "metadata": {},
   "source": [
    "To solve the given problem, we can iterate over the two linked lists simultaneously, starting from the head of each list. We'll perform the following steps:\n",
    "\n",
    "Initialize a dummy node and a current node to keep track of the sum and carry. Set the dummy node as the head of the result list.\n",
    "\n",
    "Iterate over the linked lists, adding the corresponding digits along with the carry. If one of the linked lists reaches the end before the other, consider the remaining digits as 0.\n",
    "\n",
    "Calculate the sum and carry for each digit. The sum is obtained by adding the values of the current nodes, along with the carry. The carry is obtained by dividing the sum by 10.\n",
    "\n",
    "Create a new node with the digit value equal to the remainder of the sum divided by 10 and set it as the next node of the current node.\n",
    "\n",
    "Move the current node to the next node in each linked list.\n",
    "\n",
    "After iterating over both linked lists, check if there is any remaining carry. If there is, create a new node with the carry as its digit and set it as the next node of the current node.\n",
    "\n",
    "Return the next node of the dummy node, which will be the head of the resulting linked list."
   ]
  },
  {
   "cell_type": "code",
   "execution_count": 3,
   "id": "c28b576f",
   "metadata": {},
   "outputs": [],
   "source": [
    "class ListNode:\n",
    "    def __init__(self, val=0, next=None):\n",
    "        self.val = val\n",
    "        self.next = next\n",
    "\n",
    "\n",
    "def addTwoNumbers(l1, l2):\n",
    "    dummy = ListNode()\n",
    "    current = dummy\n",
    "    carry = 0\n",
    "\n",
    "    while l1 or l2:\n",
    "        # Obtain the digit values from each linked list\n",
    "        val1 = l1.val if l1 else 0\n",
    "        val2 = l2.val if l2 else 0\n",
    "\n",
    "        # Calculate the sum and carry\n",
    "        _sum = val1 + val2 + carry\n",
    "        carry = _sum // 10\n",
    "\n",
    "        # Create a new node with the digit value\n",
    "        current.next = ListNode(_sum % 10)\n",
    "\n",
    "        # Move to the next nodes\n",
    "        current = current.next\n",
    "        if l1:\n",
    "            l1 = l1.next\n",
    "        if l2:\n",
    "            l2 = l2.next\n",
    "\n",
    "    # Check if there is a remaining carry\n",
    "    if carry:\n",
    "        current.next = ListNode(carry)\n",
    "\n",
    "    return dummy.next\n"
   ]
  },
  {
   "cell_type": "code",
   "execution_count": null,
   "id": "658b57c0",
   "metadata": {},
   "outputs": [],
   "source": []
  }
 ],
 "metadata": {
  "kernelspec": {
   "display_name": "Python 3",
   "language": "python",
   "name": "python3"
  },
  "language_info": {
   "codemirror_mode": {
    "name": "ipython",
    "version": 3
   },
   "file_extension": ".py",
   "mimetype": "text/x-python",
   "name": "python",
   "nbconvert_exporter": "python",
   "pygments_lexer": "ipython3",
   "version": "3.8.8"
  }
 },
 "nbformat": 4,
 "nbformat_minor": 5
}
