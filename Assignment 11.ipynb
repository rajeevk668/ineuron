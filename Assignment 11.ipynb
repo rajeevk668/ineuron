{
 "cells": [
  {
   "cell_type": "markdown",
   "id": "54e837dc",
   "metadata": {},
   "source": [
    "# Assignment 11"
   ]
  },
  {
   "cell_type": "markdown",
   "id": "3d7e0231",
   "metadata": {},
   "source": [
    "\n",
    "# 💡 **Question 1**\n",
    "\n",
    "Given a non-negative integer `x`, return *the square root of* `x` *rounded down to the nearest integer*. The returned integer should be **non-negative** as well.\n",
    "\n",
    "You **must not use** any built-in exponent function or operator.\n",
    "\n",
    "- For example, do not use `pow(x, 0.5)` in c++ or `x ** 0.5` in python.\n",
    "\n",
    "**Example 1:**\n",
    "\n",
    "```\n",
    "Input: x = 4\n",
    "Output: 2\n",
    "Explanation: The square root of 4 is 2, so we return 2.\n",
    "\n",
    "```\n",
    "\n",
    "**Example 2:**\n",
    "Input: x = 8\n",
    "Output: 2\n",
    "Explanation: The square root of 8 is 2.82842..., and since we round it down to the nearest integer, 2 is returned.\n",
    "</aside>"
   ]
  },
  {
   "cell_type": "markdown",
   "id": "8d5da04d",
   "metadata": {},
   "source": [
    "To find the square root of a non-negative integer x rounded down to the nearest integer without using any built-in exponent function or operator, we can use a simple algorithm called the binary search method.\n",
    "\n",
    "Here's how we can implement it:\n",
    "\n",
    "If x is 0 or 1, the square root is equal to x itself. Return x as the result.\n",
    "\n",
    "Initialize two variables, left and right, to represent the range of possible square roots. left is initialized to 0, and right is initialized to x / 2 (since the square root of x cannot be greater than x / 2 for x > 1).\n",
    "\n",
    "While left is less than or equal to right, repeat steps 4-6.\n",
    "\n",
    "Calculate the middle value between left and right using integer division and assign it to the variable mid.\n",
    "\n",
    "Calculate the square of mid and compare it with x:\n",
    "\n",
    "If the square of mid is equal to x, return mid as the result.\n",
    "If the square of mid is less than x, update left to mid + 1.\n",
    "If the square of mid is greater than x, update right to mid - 1.\n",
    "If the loop ends without finding an exact square root, return right as the result. This will be the largest integer whose square is less than or equal to x."
   ]
  },
  {
   "cell_type": "code",
   "execution_count": 1,
   "id": "482c9f38",
   "metadata": {},
   "outputs": [],
   "source": [
    "def mySqrt(x):\n",
    "    if x <= 1:\n",
    "        return x\n",
    "\n",
    "    left = 0\n",
    "    right = x // 2\n",
    "\n",
    "    while left <= right:\n",
    "        mid = (left + right) // 2\n",
    "        square = mid * mid\n",
    "\n",
    "        if square == x:\n",
    "            return mid\n",
    "        elif square < x:\n",
    "            left = mid + 1\n",
    "        else:\n",
    "            right = mid - 1\n",
    "\n",
    "    return right\n"
   ]
  },
  {
   "cell_type": "code",
   "execution_count": 2,
   "id": "02a18ae8",
   "metadata": {},
   "outputs": [
    {
     "name": "stdout",
     "output_type": "stream",
     "text": [
      "2\n"
     ]
    }
   ],
   "source": [
    "print(mySqrt(4))  # Output: 2"
   ]
  },
  {
   "cell_type": "markdown",
   "id": "03eea9f6",
   "metadata": {},
   "source": [
    "\n",
    "# 💡 **Question 2**\n",
    "\n",
    "A peak element is an element that is strictly greater than its neighbors.\n",
    "\n",
    "Given a **0-indexed** integer array `nums`, find a peak element, and return its index. If the array contains multiple peaks, return the index to **any of the peaks**.\n",
    "\n",
    "You may imagine that `nums[-1] = nums[n] = -∞`. In other words, an element is always considered to be strictly greater than a neighbor that is outside the array.\n",
    "\n",
    "You must write an algorithm that runs in `O(log n)` time.\n",
    "\n",
    "**Example 1:**\n",
    "\n",
    "```\n",
    "Input: nums = [1,2,3,1]\n",
    "Output: 2\n",
    "Explanation: 3 is a peak element and your function should return the index number 2.\n",
    "```\n",
    "\n",
    "**Example 2:**\n",
    "\n",
    "Input: nums = [1,2,1,3,5,6,4]\n",
    "Output: 5\n",
    "Explanation: Your function can return either index number 1 where the peak element is 2, or index number 5 where the peak element is 6.\n",
    "\n",
    "\n",
    "\n",
    "</aside>"
   ]
  },
  {
   "cell_type": "markdown",
   "id": "6bc574af",
   "metadata": {},
   "source": [
    "To find a peak element in the given array nums, we can use a binary search algorithm that operates in O(log n) time.\n",
    "\n",
    "Here's an algorithm to solve the problem:\n",
    "\n",
    "Initialize two pointers, left and right, pointing to the start and end of the array respectively.\n",
    "While left < right:\n",
    "Calculate the midpoint index as mid = left + (right - left) / 2.\n",
    "If nums[mid] < nums[mid + 1], move the left pointer to mid + 1. This is because there must be a peak element on the right side of mid.\n",
    "Otherwise, move the right pointer to mid. This is because nums[mid] can be a potential peak, and there might be a peak on the left side of mid.\n",
    "Return the index left, which will point to a peak element in the array."
   ]
  },
  {
   "cell_type": "code",
   "execution_count": 3,
   "id": "dee9a87b",
   "metadata": {},
   "outputs": [],
   "source": [
    "def findPeakElement(nums):\n",
    "    left = 0\n",
    "    right = len(nums) - 1\n",
    "\n",
    "    while left < right:\n",
    "        mid = left + (right - left) // 2\n",
    "\n",
    "        if nums[mid] < nums[mid + 1]:\n",
    "            left = mid + 1\n",
    "        else:\n",
    "            right = mid\n",
    "\n",
    "    return left\n"
   ]
  },
  {
   "cell_type": "code",
   "execution_count": 4,
   "id": "161701a9",
   "metadata": {},
   "outputs": [
    {
     "name": "stdout",
     "output_type": "stream",
     "text": [
      "2\n",
      "5\n"
     ]
    }
   ],
   "source": [
    "# Example 1\n",
    "nums1 = [1, 2, 3, 1]\n",
    "print(findPeakElement(nums1))  # Output: 2\n",
    "\n",
    "# Example 2\n",
    "nums2 = [1, 2, 1, 3, 5, 6, 4]\n",
    "print(findPeakElement(nums2))  # Output: 5\n"
   ]
  },
  {
   "cell_type": "markdown",
   "id": "83686b8b",
   "metadata": {},
   "source": [
    "\n",
    "# 💡 **Question 3**\n",
    "\n",
    "****\n",
    "\n",
    "Given an array `nums` containing `n` distinct numbers in the range `[0, n]`, return *the only number in the range that is missing from the array.*\n",
    "\n",
    "**Example 1:**\n",
    "\n",
    "```\n",
    "Input: nums = [3,0,1]\n",
    "Output: 2\n",
    "Explanation: n = 3 since there are 3 numbers, so all numbers are in the range [0,3]. 2 is the missing number in the range since it does not appear in nums.\n",
    "\n",
    "```\n",
    "\n",
    "**Example 2:**\n",
    "\n",
    "```\n",
    "Input: nums = [0,1]\n",
    "Output: 2\n",
    "Explanation: n = 2 since there are 2 numbers, so all numbers are in the range [0,2]. 2 is the missing number in the range since it does not appear in nums.\n",
    "\n",
    "```\n",
    "\n",
    "**Example 3:**\n",
    "\n",
    "Input: nums = [9,6,4,2,3,5,7,0,1]\n",
    "Output: 8\n",
    "Explanation: n = 9 since there are 9 numbers, so all numbers are in the range [0,9]. 8 is the missing number in the range since it does not appear in nums.\n",
    "\n",
    "</aside>"
   ]
  },
  {
   "cell_type": "markdown",
   "id": "8c20c84b",
   "metadata": {},
   "source": [
    "To find the missing number in an array nums containing n distinct numbers in the range [0, n], we can use the mathematical approach.\n",
    "\n",
    "The sum of the first n natural numbers can be calculated using the formula sum = n * (n + 1) / 2. Since the range of numbers in nums is [0, n], the sum of all the numbers in this range is also sum.\n",
    "\n",
    "To find the missing number, we can subtract the sum of the numbers in nums from the expected sum of all the numbers in the range. The difference will be the missing number.\n",
    "\n",
    "Here's the algorithm to find the missing number:\n",
    "\n",
    "Initialize a variable expectedSum to n * (n + 1) / 2.\n",
    "Iterate over each element num in nums.\n",
    "Subtract num from expectedSum.\n",
    "Return the value of expectedSum, which will be the missing number."
   ]
  },
  {
   "cell_type": "code",
   "execution_count": 5,
   "id": "97d8486e",
   "metadata": {},
   "outputs": [],
   "source": [
    "def findMissingNumber(nums):\n",
    "    n = len(nums)\n",
    "    expectedSum = n * (n + 1) // 2\n",
    "\n",
    "    for num in nums:\n",
    "        expectedSum -= num\n",
    "\n",
    "    return expectedSum\n"
   ]
  },
  {
   "cell_type": "code",
   "execution_count": 6,
   "id": "e7236178",
   "metadata": {},
   "outputs": [
    {
     "name": "stdout",
     "output_type": "stream",
     "text": [
      "2\n"
     ]
    }
   ],
   "source": [
    "nums = [3, 0, 1]\n",
    "missingNumber = findMissingNumber(nums)\n",
    "print(missingNumber)  # Output: 2\n"
   ]
  },
  {
   "cell_type": "code",
   "execution_count": 7,
   "id": "dd6084b3",
   "metadata": {},
   "outputs": [
    {
     "name": "stdout",
     "output_type": "stream",
     "text": [
      "2\n"
     ]
    }
   ],
   "source": [
    "nums = [0, 1]\n",
    "missingNumber = findMissingNumber(nums)\n",
    "print(missingNumber)  # Output: 2\n"
   ]
  },
  {
   "cell_type": "code",
   "execution_count": 8,
   "id": "d0363925",
   "metadata": {},
   "outputs": [],
   "source": [
    "# In both examples, the output is 2, which is the missing number in the range [0, n]."
   ]
  },
  {
   "cell_type": "markdown",
   "id": "0ca36820",
   "metadata": {},
   "source": [
    "\n",
    "# 💡 **Question 4**\n",
    "\n",
    "Given an array of integers `nums` containing `n + 1` integers where each integer is in the range `[1, n]` inclusive.\n",
    "\n",
    "There is only **one repeated number** in `nums`, return *this repeated number*.\n",
    "\n",
    "You must solve the problem **without** modifying the array `nums` and uses only constant extra space.\n",
    "\n",
    "**Example 1:**\n",
    "\n",
    "```\n",
    "Input: nums = [1,3,4,2,2]\n",
    "Output: 2\n",
    "\n",
    "```\n",
    "\n",
    "**Example 2:**\n",
    "\n",
    "Input: nums = [3,1,3,4,2]\n",
    "Output: 3\n",
    "\n",
    "</aside>"
   ]
  },
  {
   "cell_type": "markdown",
   "id": "4599bc7f",
   "metadata": {},
   "source": [
    "To solve this problem without modifying the array and using constant extra space, we can utilize the property that the integers in the array are in the range [1, n].\n",
    "\n",
    "One approach to find the repeated number is by using the concept of cycle detection in a linked list. We can treat the array as a linked list where each element points to the index it represents. Since there is a repeated number, there will be a cycle in this linked list.\n",
    "\n",
    "Here's the step-by-step algorithm to find the repeated number:\n",
    "\n",
    "Initialize two pointers, slow and fast, to the first element of the array.\n",
    "Move slow one step at a time and fast two steps at a time until they meet inside the cycle.\n",
    "Reset one of the pointers back to the first element.\n",
    "Move both pointers one step at a time until they meet again. The meeting point will be the start of the cycle.\n",
    "Return the value at the meeting point, which is the repeated number."
   ]
  },
  {
   "cell_type": "code",
   "execution_count": 9,
   "id": "dcc023e4",
   "metadata": {},
   "outputs": [],
   "source": [
    "def findDuplicate(nums):\n",
    "    # Step 1: Initialize slow and fast pointers\n",
    "    slow = nums[0]\n",
    "    fast = nums[0]\n",
    "\n",
    "    # Step 2: Move slow one step and fast two steps at a time until they meet\n",
    "    while True:\n",
    "        slow = nums[slow]\n",
    "        fast = nums[nums[fast]]\n",
    "        if slow == fast:\n",
    "            break\n",
    "\n",
    "    # Step 3: Reset one of the pointers\n",
    "    slow = nums[0]\n",
    "\n",
    "    # Step 4: Move both pointers one step at a time until they meet again\n",
    "    while slow != fast:\n",
    "        slow = nums[slow]\n",
    "        fast = nums[fast]\n",
    "\n",
    "    # Step 5: Return the value at the meeting point\n",
    "    return slow\n"
   ]
  },
  {
   "cell_type": "code",
   "execution_count": 10,
   "id": "0b0a49ff",
   "metadata": {},
   "outputs": [
    {
     "name": "stdout",
     "output_type": "stream",
     "text": [
      "2\n"
     ]
    }
   ],
   "source": [
    "nums = [1, 3, 4, 2, 2]\n",
    "print(findDuplicate(nums))\n"
   ]
  },
  {
   "cell_type": "code",
   "execution_count": 11,
   "id": "cafa1c45",
   "metadata": {},
   "outputs": [],
   "source": [
    "#the algorithm correctly finds the repeated number, which is 2 in this case."
   ]
  },
  {
   "cell_type": "markdown",
   "id": "febb6905",
   "metadata": {},
   "source": [
    "\n",
    "# 💡 **Question 5**\n",
    "\n",
    "Given two integer arrays `nums1` and `nums2`, return *an array of their intersection*. Each element in the result must be **unique** and you may return the result in **any order**.\n",
    "\n",
    "**Example 1:**\n",
    "\n",
    "```\n",
    "Input: nums1 = [1,2,2,1], nums2 = [2,2]\n",
    "Output: [2]\n",
    "\n",
    "```\n",
    "\n",
    "**Example 2:**\n",
    "\n",
    "Input: nums1 = [4,9,5], nums2 = [9,4,9,8,4]\n",
    "Output: [9,4]\n",
    "Explanation: [4,9] is also accepted.\n",
    "\n",
    "</aside>"
   ]
  },
  {
   "cell_type": "markdown",
   "id": "95f19c9c",
   "metadata": {},
   "source": [
    "To find the intersection of two arrays, we can use a hash set to store unique elements from one of the arrays. Then, we iterate through the other array and check if each element is present in the hash set. If it is, we add it to the result array."
   ]
  },
  {
   "cell_type": "code",
   "execution_count": 12,
   "id": "f5fc5bf7",
   "metadata": {},
   "outputs": [],
   "source": [
    "def intersection(nums1, nums2):\n",
    "    set1 = set(nums1)\n",
    "    result = []\n",
    "    for num in nums2:\n",
    "        if num in set1:\n",
    "            result.append(num)\n",
    "            set1.remove(num)\n",
    "    return result\n"
   ]
  },
  {
   "cell_type": "code",
   "execution_count": 13,
   "id": "80d5f567",
   "metadata": {},
   "outputs": [
    {
     "name": "stdout",
     "output_type": "stream",
     "text": [
      "[2]\n"
     ]
    }
   ],
   "source": [
    "nums1 = [1, 2, 2, 1]\n",
    "nums2 = [2, 2]\n",
    "print(intersection(nums1, nums2))\n"
   ]
  },
  {
   "cell_type": "code",
   "execution_count": 14,
   "id": "3f2c01df",
   "metadata": {},
   "outputs": [
    {
     "name": "stdout",
     "output_type": "stream",
     "text": [
      "[9, 4]\n"
     ]
    }
   ],
   "source": [
    "nums1 = [4, 9, 5]\n",
    "nums2 = [9, 4, 9, 8, 4]\n",
    "print(intersection(nums1, nums2))\n"
   ]
  },
  {
   "cell_type": "code",
   "execution_count": 15,
   "id": "0d12544f",
   "metadata": {},
   "outputs": [],
   "source": [
    "# The function returns an array containing the intersection of nums1 and nums2. Each element in the result is unique, and the order of elements can be arbitrary."
   ]
  },
  {
   "cell_type": "markdown",
   "id": "6fdd7142",
   "metadata": {},
   "source": [
    "\n",
    "# 💡 **Question 6**\n",
    "\n",
    "Suppose an array of length `n` sorted in ascending order is **rotated** between `1` and `n` times. For example, the array `nums = [0,1,2,4,5,6,7]` might become:\n",
    "\n",
    "- `[4,5,6,7,0,1,2]` if it was rotated `4` times.\n",
    "- `[0,1,2,4,5,6,7]` if it was rotated `7` times.\n",
    "\n",
    "Notice that **rotating** an array `[a[0], a[1], a[2], ..., a[n-1]]` 1 time results in the array `[a[n-1], a[0], a[1], a[2], ..., a[n-2]]`.\n",
    "\n",
    "Given the sorted rotated array `nums` of **unique** elements, return *the minimum element of this array*.\n",
    "\n",
    "You must write an algorithm that runs in `O(log n) time.`\n",
    "\n",
    "**Example 1:**\n",
    "\n",
    "```\n",
    "Input: nums = [3,4,5,1,2]\n",
    "Output: 1\n",
    "Explanation: The original array was [1,2,3,4,5] rotated 3 times.\n",
    "\n",
    "```\n",
    "\n",
    "**Example 2:**\n",
    "\n",
    "```\n",
    "Input: nums = [4,5,6,7,0,1,2]\n",
    "Output: 0\n",
    "Explanation: The original array was [0,1,2,4,5,6,7] and it was rotated 4 times.\n",
    "\n",
    "```\n",
    "\n",
    "**Example 3:**\n",
    "\n",
    "Input: nums = [11,13,15,17]\n",
    "Output: 11\n",
    "Explanation: The original array was [11,13,15,17] and it was rotated 4 times.\n",
    "\n",
    "</aside>"
   ]
  },
  {
   "cell_type": "markdown",
   "id": "5607db07",
   "metadata": {},
   "source": [
    "To find the minimum element in a sorted rotated array, we can use a modified version of binary search. Here's the algorithm:\n",
    "\n",
    "Initialize two pointers, left and right, to the start and end of the array respectively.\n",
    "Check if the element at index left is less than the element at index right. If true, it means the array is not rotated and the minimum element is at index left. Return the element.\n",
    "While the left pointer is less than the right pointer:\n",
    "Calculate the mid index as (left + right) // 2.\n",
    "Check if the element at the mid index is greater than the element at the right index. If true, it means the minimum element is in the right half of the array. Set left = mid + 1.\n",
    "Otherwise, the minimum element is in the left half of the array. Set right = mid.\n",
    "Return the element at index left, which will be the minimum element."
   ]
  },
  {
   "cell_type": "code",
   "execution_count": 16,
   "id": "df87a453",
   "metadata": {},
   "outputs": [],
   "source": [
    "def find_min(nums):\n",
    "    left = 0\n",
    "    right = len(nums) - 1\n",
    "\n",
    "    while left < right:\n",
    "        if nums[left] < nums[right]:\n",
    "            return nums[left]\n",
    "\n",
    "        mid = (left + right) // 2\n",
    "\n",
    "        if nums[mid] > nums[right]:\n",
    "            left = mid + 1\n",
    "        else:\n",
    "            right = mid\n",
    "\n",
    "    return nums[left]\n"
   ]
  },
  {
   "cell_type": "code",
   "execution_count": 17,
   "id": "76d24cbf",
   "metadata": {},
   "outputs": [
    {
     "name": "stdout",
     "output_type": "stream",
     "text": [
      "1\n",
      "0\n"
     ]
    }
   ],
   "source": [
    "nums1 = [3, 4, 5, 1, 2]\n",
    "print(find_min(nums1))  # Output: 1\n",
    "\n",
    "nums2 = [4, 5, 6, 7, 0, 1, 2]\n",
    "print(find_min(nums2))  # Output: 0\n"
   ]
  },
  {
   "cell_type": "code",
   "execution_count": 18,
   "id": "d66a548f",
   "metadata": {},
   "outputs": [],
   "source": [
    "# The algorithm will correctly output the minimum element in each example."
   ]
  },
  {
   "cell_type": "markdown",
   "id": "9e876784",
   "metadata": {},
   "source": [
    "\n",
    "# 💡 **Question 7**\n",
    "\n",
    "Given an array of integers `nums` sorted in non-decreasing order, find the starting and ending position of a given `target` value.\n",
    "\n",
    "If `target` is not found in the array, return `[-1, -1]`.\n",
    "\n",
    "You must write an algorithm with `O(log n)` runtime complexity.\n",
    "\n",
    "**Example 1:**\n",
    "\n",
    "```\n",
    "Input: nums = [5,7,7,8,8,10], target = 8\n",
    "Output: [3,4]\n",
    "\n",
    "```\n",
    "\n",
    "**Example 2:**\n",
    "\n",
    "```\n",
    "Input: nums = [5,7,7,8,8,10], target = 6\n",
    "Output: [-1,-1]\n",
    "\n",
    "```\n",
    "\n",
    "**Example 3:**\n",
    "    \n",
    "    Input: nums = [], target = 0\n",
    "Output: [-1,-1]\n",
    "\n",
    "</aside>"
   ]
  },
  {
   "cell_type": "markdown",
   "id": "50fc3bbd",
   "metadata": {},
   "source": [
    "To find the starting and ending positions of a given target value in a sorted array nums with a runtime complexity of O(log n), we can use a modified binary search algorithm.\n",
    "\n",
    "Here's the algorithm to solve the problem:\n",
    "\n",
    "Initialize two variables, start and end, with values -1. These variables will track the starting and ending positions of the target value.\n",
    "Perform a binary search on the array nums to find the leftmost occurrence of the target value. Set the start index as the low value and the end index as the high value.\n",
    "While the low index is less than or equal to the high index, do the following:\n",
    "Compute the mid index as the average of the low and high indices: mid = (low + high) // 2.\n",
    "If the value at index mid is equal to the target, update the start variable to mid and set the high index to mid - 1 to search for the leftmost occurrence.\n",
    "If the value at index mid is greater than the target, set the high index to mid - 1 to search in the left half.\n",
    "If the value at index mid is less than the target, set the low index to mid + 1 to search in the right half.\n",
    "Perform another binary search on the array nums to find the rightmost occurrence of the target value. Set the start index as the low value and the end index as the high value.\n",
    "While the low index is less than or equal to the high index, do the following:\n",
    "Compute the mid index as the average of the low and high indices: mid = (low + high) // 2.\n",
    "If the value at index mid is equal to the target, update the end variable to mid and set the low index to mid + 1 to search for the rightmost occurrence.\n",
    "If the value at index mid is greater than the target, set the high index to mid - 1 to search in the left half.\n",
    "If the value at index mid is less than the target, set the low index to mid + 1 to search in the right half.\n",
    "Return the [start, end] as the result.\n",
    "\n",
    "\n",
    "\n",
    "\n",
    "\n"
   ]
  },
  {
   "cell_type": "code",
   "execution_count": 19,
   "id": "fc1aeeb9",
   "metadata": {},
   "outputs": [],
   "source": [
    "def searchRange(nums, target):\n",
    "    start, end = -1, -1\n",
    "    \n",
    "    # Find the leftmost occurrence\n",
    "    low, high = 0, len(nums) - 1\n",
    "    while low <= high:\n",
    "        mid = (low + high) // 2\n",
    "        if nums[mid] == target:\n",
    "            start = mid\n",
    "            high = mid - 1\n",
    "        elif nums[mid] < target:\n",
    "            low = mid + 1\n",
    "        else:\n",
    "            high = mid - 1\n",
    "    \n",
    "    # Find the rightmost occurrence\n",
    "    low, high = 0, len(nums) - 1\n",
    "    while low <= high:\n",
    "        mid = (low + high) // 2\n",
    "        if nums[mid] == target:\n",
    "            end = mid\n",
    "            low = mid + 1\n",
    "        elif nums[mid] < target:\n",
    "            low = mid + 1\n",
    "        else:\n",
    "            high = mid - 1\n",
    "    \n",
    "    return [start, end]"
   ]
  },
  {
   "cell_type": "code",
   "execution_count": 20,
   "id": "acb97979",
   "metadata": {},
   "outputs": [
    {
     "name": "stdout",
     "output_type": "stream",
     "text": [
      "[3, 4]\n"
     ]
    }
   ],
   "source": [
    "nums = [5, 7, 7, 8, 8, 10]\n",
    "target = 8\n",
    "print(searchRange(nums, target))  # Output: [3\n"
   ]
  },
  {
   "cell_type": "markdown",
   "id": "ae67f2be",
   "metadata": {},
   "source": [
    "\n",
    "# 💡 **Question 8**\n",
    "\n",
    "Given two integer arrays `nums1` and `nums2`, return *an array of their intersection*. Each element in the result must appear as many times as it shows in both arrays and you may return the result in **any order**.\n",
    "\n",
    "**Example 1:**\n",
    "\n",
    "```\n",
    "Input: nums1 = [1,2,2,1], nums2 = [2,2]\n",
    "Output: [2,2]\n",
    "\n",
    "```\n",
    "\n",
    "**Example 2:**\n",
    "\n",
    "Input: nums1 = [4,9,5], nums2 = [9,4,9,8,4]\n",
    "Output: [4,9]\n",
    "Explanation: [9,4] is also accepted.\n",
    "\n",
    "</aside>"
   ]
  },
  {
   "cell_type": "markdown",
   "id": "fdc1349e",
   "metadata": {},
   "source": [
    "To find the intersection of two arrays while preserving the frequency of elements, you can use a hash table to store the frequency of each element in one of the arrays. Then, iterate through the second array and check if each element exists in the hash table. If it does, decrement its frequency in the hash table and add it to the result array."
   ]
  },
  {
   "cell_type": "code",
   "execution_count": 21,
   "id": "bedfdc13",
   "metadata": {},
   "outputs": [],
   "source": [
    "from collections import defaultdict\n",
    "\n",
    "def intersect(nums1, nums2):\n",
    "    # Create a hash table to store the frequency of each element in nums1\n",
    "    freq = defaultdict(int)\n",
    "    for num in nums1:\n",
    "        freq[num] += 1\n",
    "\n",
    "    # Find the intersection while preserving the frequency\n",
    "    result = []\n",
    "    for num in nums2:\n",
    "        if freq[num] > 0:\n",
    "            result.append(num)\n",
    "            freq[num] -= 1\n",
    "\n",
    "    return result\n"
   ]
  },
  {
   "cell_type": "code",
   "execution_count": 22,
   "id": "a3b9b439",
   "metadata": {},
   "outputs": [
    {
     "name": "stdout",
     "output_type": "stream",
     "text": [
      "[2, 2]\n"
     ]
    }
   ],
   "source": [
    "nums1 = [1, 2, 2, 1]\n",
    "nums2 = [2, 2]\n",
    "print(intersect(nums1, nums2))\n"
   ]
  },
  {
   "cell_type": "code",
   "execution_count": null,
   "id": "8e5dc949",
   "metadata": {},
   "outputs": [],
   "source": [
    "# The function correctly returns the intersection [2, 2] as expected."
   ]
  }
 ],
 "metadata": {
  "kernelspec": {
   "display_name": "Python 3",
   "language": "python",
   "name": "python3"
  },
  "language_info": {
   "codemirror_mode": {
    "name": "ipython",
    "version": 3
   },
   "file_extension": ".py",
   "mimetype": "text/x-python",
   "name": "python",
   "nbconvert_exporter": "python",
   "pygments_lexer": "ipython3",
   "version": "3.8.8"
  }
 },
 "nbformat": 4,
 "nbformat_minor": 5
}
