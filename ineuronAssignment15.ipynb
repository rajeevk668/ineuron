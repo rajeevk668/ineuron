{
 "cells": [
  {
   "cell_type": "markdown",
   "id": "bb056d12",
   "metadata": {},
   "source": [
    "# Assignment 15"
   ]
  },
  {
   "cell_type": "markdown",
   "id": "46ce50b9",
   "metadata": {},
   "source": [
    "\n",
    "# 💡 **Question 1**\n",
    "\n",
    "Given an array **arr[ ]** of size **N** having elements, the task is to find the next greater element for each element of the array in order of their appearance in the array.Next greater element of an element in the array is the nearest element on the right which is greater than the current element.If there does not exist next greater of current element, then next greater element for current element is -1. For example, next greater of the last element is always -1.\n",
    "\n",
    "**Example 1:**\n",
    "\n",
    "```\n",
    "Input:\n",
    "N = 4, arr[] = [1 3 2 4]\n",
    "Output:\n",
    "3 4 4 -1\n",
    "Explanation:\n",
    "In the array, the next larger element\n",
    "to 1 is 3 , 3 is 4 , 2 is 4 and for 4 ?\n",
    "since it doesn't exist, it is -1.\n",
    "\n",
    "```\n",
    "\n",
    "**Example 2:**\n",
    "\n",
    "Input:\n",
    "N = 5, arr[] [6 8 0 1 3]\n",
    "Output:\n",
    "8 -1 1 3 -1\n",
    "Explanation:\n",
    "In the array, the next larger element to\n",
    "6 is 8, for 8 there is no larger elements\n",
    "hence it is -1, for 0 it is 1 , for 1 it\n",
    "is 3 and then for 3 there is no larger\n",
    "element on right and hence -1."
   ]
  },
  {
   "cell_type": "markdown",
   "id": "650c5288",
   "metadata": {},
   "source": [
    "To find the next greater element for each element in the array, we can use a stack-based approach. Here's a step-by-step algorithm to solve the problem:\n",
    "\n",
    "Create an empty stack and an empty result array of the same size as the input array.\n",
    "Iterate over the input array from right to left.\n",
    "For each element arr[i], perform the following steps:\n",
    "While the stack is not empty and the top element of the stack is less than or equal to arr[i], pop elements from the stack.\n",
    "If the stack becomes empty, set the corresponding element in the result array as -1.\n",
    "If the stack is not empty, set the corresponding element in the result array as the top element of the stack.\n",
    "Push arr[i] onto the stack.\n",
    "Return the result array."
   ]
  },
  {
   "cell_type": "code",
   "execution_count": 1,
   "id": "427f68e2",
   "metadata": {},
   "outputs": [],
   "source": [
    "def next_greater_element(arr):\n",
    "    n = len(arr)\n",
    "    stack = []\n",
    "    result = [-1] * n\n",
    "\n",
    "    for i in range(n - 1, -1, -1):\n",
    "        while stack and stack[-1] <= arr[i]:\n",
    "            stack.pop()\n",
    "\n",
    "        if stack:\n",
    "            result[i] = stack[-1]\n",
    "\n",
    "        stack.append(arr[i])\n",
    "\n",
    "    return result\n"
   ]
  },
  {
   "cell_type": "code",
   "execution_count": 2,
   "id": "efddb428",
   "metadata": {},
   "outputs": [
    {
     "name": "stdout",
     "output_type": "stream",
     "text": [
      "[3, 4, 4, -1]\n",
      "[8, -1, 1, 3, -1]\n"
     ]
    }
   ],
   "source": [
    "arr1 = [1, 3, 2, 4]\n",
    "result1 = next_greater_element(arr1)\n",
    "print(result1)  # Output: [3, 4, 4, -1]\n",
    "\n",
    "arr2 = [6, 8, 0, 1, 3]\n",
    "result2 = next_greater_element(arr2)\n",
    "print(result2)  # Output: [8, -1, 1, 3, -1]\n"
   ]
  },
  {
   "cell_type": "markdown",
   "id": "9e25278d",
   "metadata": {},
   "source": [
    "The next_greater_element function takes an array as input and returns the array containing the next greater element for each element."
   ]
  },
  {
   "cell_type": "markdown",
   "id": "339c8886",
   "metadata": {},
   "source": [
    "# 💡 **Question 2**\n",
    "\n",
    "Given an array **a** of integers of length **n**, find the nearest smaller number for every element such that the smaller element is on left side.If no small element present on the left print -1.\n",
    "\n",
    "**Example 1:**\n",
    "\n",
    "```\n",
    "Input: n = 3\n",
    "a = {1, 6, 2}\n",
    "Output: -1 1 1\n",
    "Explaination: There is no number at the\n",
    "left of 1. Smaller number than 6 and 2 is 1.\n",
    "```\n",
    "\n",
    "**Example 2:**\n",
    "\n",
    "\n",
    "Input: n = 6\n",
    "a = {1, 5, 0, 3, 4, 5}\n",
    "Output: -1 1 -1 0 3 4\n",
    "Explaination: Upto 3 it is easy to see\n",
    "the smaller numbers. But for 4 the smaller\n",
    "numbers are 1, 0 and 3. But among them 3\n",
    "is closest. Similary for 5 it is 4."
   ]
  },
  {
   "cell_type": "markdown",
   "id": "c94d7a35",
   "metadata": {},
   "source": [
    "To find the nearest smaller number for each element in the given array, we can iterate through the array from left to right and use a stack to keep track of the smaller numbers encountered so far.\n",
    "\n",
    "Here's the step-by-step algorithm:\n",
    "\n",
    "Create an empty stack to store the indices of smaller elements.\n",
    "Initialize an empty result array of the same length as the input array, filled with -1.\n",
    "Iterate through the array from left to right using the index variable i.\n",
    "While the stack is not empty and the element at the top of the stack (accessed using the index from the stack) is greater than or equal to the current element a[i], pop elements from the stack.\n",
    "If the stack is empty after the previous step, set the result array at index i to -1 (no smaller element on the left).\n",
    "Otherwise, set the result array at index i to the element at the top of the stack (the nearest smaller element on the left).\n",
    "Push the current index i onto the stack.\n",
    "Return the result array."
   ]
  },
  {
   "cell_type": "code",
   "execution_count": 3,
   "id": "158e800e",
   "metadata": {},
   "outputs": [],
   "source": [
    "def find_nearest_smaller_numbers(n, a):\n",
    "    stack = []  # stack to store indices of smaller elements\n",
    "    result = [-1] * n  # result array initialized with -1\n",
    "\n",
    "    for i in range(n):\n",
    "        while stack and a[stack[-1]] >= a[i]:\n",
    "            stack.pop()\n",
    "\n",
    "        if stack:\n",
    "            result[i] = a[stack[-1]]\n",
    "\n",
    "        stack.append(i)\n",
    "\n",
    "    return result\n"
   ]
  },
  {
   "cell_type": "code",
   "execution_count": 4,
   "id": "6389d74e",
   "metadata": {},
   "outputs": [
    {
     "name": "stdout",
     "output_type": "stream",
     "text": [
      "[-1, 1, 1]\n",
      "[-1, 1, -1, 0, 3, 4]\n"
     ]
    }
   ],
   "source": [
    "# Example 1:\n",
    "n = 3\n",
    "a = [1, 6, 2]\n",
    "print(find_nearest_smaller_numbers(n, a))\n",
    "# Output: [-1, 1, 1]\n",
    "\n",
    "# Example 2:\n",
    "n = 6\n",
    "a = [1, 5, 0, 3, 4, 5]\n",
    "print(find_nearest_smaller_numbers(n, a))\n",
    "# Output: [-1, 1, -1, 0, 3, 4]\n"
   ]
  },
  {
   "cell_type": "markdown",
   "id": "8e0a8e2e",
   "metadata": {},
   "source": [
    "# 💡 **Question 3**\n",
    "\n",
    "Implement a Stack using two queues **q1** and **q2**.\n",
    "\n",
    "**Example 1:**\n",
    "\n",
    "```\n",
    "Input:\n",
    "push(2)\n",
    "push(3)\n",
    "pop()\n",
    "push(4)\n",
    "pop()\n",
    "Output:3 4\n",
    "Explanation:\n",
    "push(2) the stack will be {2}\n",
    "push(3) the stack will be {2 3}\n",
    "pop()   poped element will be 3 the\n",
    "        stack will be {2}\n",
    "push(4) the stack will be {2 4}\n",
    "pop()   poped element will be 4\n",
    "\n",
    "```\n",
    "\n",
    "**Example 2:**\n",
    "\n",
    "Input:\n",
    "push(2)\n",
    "pop()\n",
    "pop()\n",
    "push(3)\n",
    "Output:2 -1"
   ]
  },
  {
   "cell_type": "markdown",
   "id": "811b8def",
   "metadata": {},
   "source": [
    "To implement a stack using two queues, we can follow the approach of using one queue for the main storage and the other queue for temporary storage during push operations"
   ]
  },
  {
   "cell_type": "code",
   "execution_count": 14,
   "id": "3c76b7c1",
   "metadata": {},
   "outputs": [
    {
     "name": "stdout",
     "output_type": "stream",
     "text": [
      "3\n",
      "4\n"
     ]
    }
   ],
   "source": [
    "from collections import deque\n",
    "\n",
    "class Stack:\n",
    "    def __init__(self):\n",
    "        self.q1 = deque()\n",
    "        self.q2 = deque()\n",
    "\n",
    "    def push(self, value):\n",
    "        # Move all elements from q1 to q2\n",
    "        while self.q1:\n",
    "            self.q2.append(self.q1.popleft())\n",
    "        \n",
    "        # Add the new element to q1\n",
    "        self.q1.append(value)\n",
    "        \n",
    "        # Move all elements back from q2 to q1\n",
    "        while self.q2:\n",
    "            self.q1.append(self.q2.popleft())\n",
    "\n",
    "    def pop(self):\n",
    "        if not self.q1:\n",
    "            return -1\n",
    "        \n",
    "        return self.q1.popleft()\n",
    "\n",
    "# Testing the implementation\n",
    "stack = Stack()\n",
    "stack.push(2)\n",
    "stack.push(3)\n",
    "print(stack.pop())  # Output: 3\n",
    "stack.push(4)\n",
    "print(stack.pop())  # Output: 4\n",
    "\n",
    "\n"
   ]
  },
  {
   "cell_type": "markdown",
   "id": "2faa359a",
   "metadata": {},
   "source": [
    "Explanation:\n",
    "\n",
    "We use q1 as the main storage for the stack and q2 as temporary storage during the push operation.\n",
    "When pushing an element, we first move all the elements from q1 to q2 to make room for the new element.\n",
    "Then, we add the new element to q1.\n",
    "Finally, we move all the elements back from q2 to q1 to maintain the stack order.\n",
    "The pop operation simply dequeues an element from q1 if it's not empty."
   ]
  },
  {
   "cell_type": "code",
   "execution_count": 15,
   "id": "416bec82",
   "metadata": {},
   "outputs": [
    {
     "name": "stdout",
     "output_type": "stream",
     "text": [
      "3\n",
      "4\n"
     ]
    }
   ],
   "source": [
    "stack = Stack()\n",
    "stack.push(2)\n",
    "stack.push(3)\n",
    "print(stack.pop())  # Output: 3\n",
    "stack.push(4)\n",
    "print(stack.pop())  # Output: 4\n"
   ]
  },
  {
   "cell_type": "code",
   "execution_count": 16,
   "id": "cbe76a81",
   "metadata": {},
   "outputs": [
    {
     "name": "stdout",
     "output_type": "stream",
     "text": [
      "2\n",
      "-1\n"
     ]
    }
   ],
   "source": [
    "stack = Stack()\n",
    "stack.push(2)\n",
    "print(stack.pop())  # Output: 2\n",
    "print(stack.pop())  # Output: -1\n",
    "stack.push(3)\n"
   ]
  },
  {
   "cell_type": "markdown",
   "id": "78a83ba5",
   "metadata": {},
   "source": [
    "# 💡 **Question 4**\n",
    "\n",
    "You are given a stack **St**. You have to reverse the stack using recursion.\n",
    "\n",
    "**Example 1:**\n",
    "\n",
    "```\n",
    "Input:St = {3,2,1,7,6}\n",
    "Output:{6,7,1,2,3}\n",
    "```\n",
    "\n",
    "**Example 2:**\n",
    "\n",
    "Input:St = {4,3,9,6}\n",
    "Output:{6,9,3,4}"
   ]
  },
  {
   "cell_type": "markdown",
   "id": "3660ce12",
   "metadata": {},
   "source": [
    "To reverse a stack using recursion, we can follow these steps:\n",
    "\n",
    "Define a recursive function, let's call it reverseStack, that takes the stack as input.\n",
    "Check if the stack is empty or contains only one element. If so, return the stack as it is (base case).\n",
    "If the stack has more than one element, pop the top element from the stack and store it in a variable, let's call it top_element.\n",
    "Recursively call the reverseStack function on the remaining stack.\n",
    "Once the recursion is complete and we reach the base case, we can start pushing the top_element back into the stack.\n",
    "To push the top_element back into the stack, we need another recursive function, let's call it insertAtBottom, which takes the stack and the top_element as input.\n",
    "Check if the stack is empty. If so, push the top_element into the stack.\n",
    "If the stack is not empty, pop the top element from the stack and recursively call the insertAtBottom function on the remaining stack and top_element.\n",
    "Once the recursion is complete and we reach an empty stack, we can push the top_element back into the stack.\n",
    "Finally, after the reverseStack function is called, the original stack will be reversed."
   ]
  },
  {
   "cell_type": "code",
   "execution_count": 17,
   "id": "12c021a7",
   "metadata": {},
   "outputs": [
    {
     "name": "stdout",
     "output_type": "stream",
     "text": [
      "[6, 7, 1, 2, 3]\n"
     ]
    }
   ],
   "source": [
    "def insertAtBottom(stack, top_element):\n",
    "    if len(stack) == 0:\n",
    "        stack.append(top_element)\n",
    "    else:\n",
    "        temp = stack.pop()\n",
    "        insertAtBottom(stack, top_element)\n",
    "        stack.append(temp)\n",
    "\n",
    "def reverseStack(stack):\n",
    "    if len(stack) > 1:\n",
    "        top_element = stack.pop()\n",
    "        reverseStack(stack)\n",
    "        insertAtBottom(stack, top_element)\n",
    "\n",
    "# Example usage:\n",
    "stack = [3, 2, 1, 7, 6]\n",
    "reverseStack(stack)\n",
    "print(stack)  # Output: [6, 7, 1, 2, 3]\n"
   ]
  },
  {
   "cell_type": "markdown",
   "id": "68344189",
   "metadata": {},
   "source": [
    "\n",
    "# 💡 **Question 5**\n",
    "\n",
    "You are given a string **S**, the task is to reverse the string using stack.\n",
    "\n",
    "**Example 1:**\n",
    "\n"
   ]
  },
  {
   "cell_type": "markdown",
   "id": "97877d06",
   "metadata": {},
   "source": [
    "To reverse a string using a stack, you can follow these steps:\n",
    "\n",
    "Create an empty stack.\n",
    "Iterate through each character in the string S and push each character onto the stack.\n",
    "Create an empty string called reversedString.\n",
    "Pop each character from the stack and append it to the reversedString.\n",
    "Return the reversedString."
   ]
  },
  {
   "cell_type": "code",
   "execution_count": 18,
   "id": "4d93f637",
   "metadata": {},
   "outputs": [],
   "source": [
    "def reverse_string(S):\n",
    "    stack = []\n",
    "    \n",
    "    # Push each character onto the stack\n",
    "    for char in S:\n",
    "        stack.append(char)\n",
    "    \n",
    "    reversedString = \"\"\n",
    "    \n",
    "    # Pop each character from the stack and append it to the reversedString\n",
    "    while stack:\n",
    "        reversedString += stack.pop()\n",
    "    \n",
    "    return reversedString\n"
   ]
  },
  {
   "cell_type": "code",
   "execution_count": 19,
   "id": "9a314698",
   "metadata": {},
   "outputs": [
    {
     "name": "stdout",
     "output_type": "stream",
     "text": [
      "elpmaxe\n"
     ]
    }
   ],
   "source": [
    "string = \"example\"\n",
    "reversed_string = reverse_string(string)\n",
    "print(reversed_string)  # Output: \"elpmaxe\"\n"
   ]
  },
  {
   "cell_type": "markdown",
   "id": "8fcd5fb1",
   "metadata": {},
   "source": [
    "# 💡 **Question 6**\n",
    "\n",
    "Given string **S** representing a postfix expression, the task is to evaluate the expression and find the final value. Operators will only include the basic arithmetic operators like ***, /, + and -**.\n",
    "\n",
    "**Example 1:**\n",
    "\n",
    "```\n",
    "Input: S = \"231*+9-\"\n",
    "Output: -4\n",
    "Explanation:\n",
    "After solving the given expression,\n",
    "we have -4 as result.\n",
    "\n",
    "```\n",
    "\n",
    "**Example 2:**\n",
    "\n",
    "Input: S = \"123+*8-\"\n",
    "Output: -3\n",
    "Explanation:\n",
    "After solving the given postfix\n",
    "expression, we have -3 as result."
   ]
  },
  {
   "cell_type": "markdown",
   "id": "0b74662e",
   "metadata": {},
   "source": [
    "To evaluate a postfix expression, we can use a stack data structure. The algorithm for evaluating a postfix expression is as follows:\n",
    "\n",
    "Create an empty stack.\n",
    "Scan the postfix expression from left to right.\n",
    "For each character in the postfix expression:\n",
    "If the character is an operand (a digit), convert it to an integer and push it onto the stack.\n",
    "If the character is an operator (+, -, *, or /), pop the top two elements from the stack, perform the operation, and push the result back onto the stack.\n",
    "After scanning the entire expression, the result will be the only element left on the stack. Pop it and return as the final result."
   ]
  },
  {
   "cell_type": "code",
   "execution_count": 20,
   "id": "28aebc28",
   "metadata": {},
   "outputs": [
    {
     "name": "stdout",
     "output_type": "stream",
     "text": [
      "-4\n"
     ]
    }
   ],
   "source": [
    "def evaluate_postfix(expression):\n",
    "    stack = []\n",
    "    \n",
    "    for char in expression:\n",
    "        if char.isdigit():\n",
    "            stack.append(int(char))\n",
    "        else:\n",
    "            operand2 = stack.pop()\n",
    "            operand1 = stack.pop()\n",
    "            \n",
    "            if char == '+':\n",
    "                result = operand1 + operand2\n",
    "            elif char == '-':\n",
    "                result = operand1 - operand2\n",
    "            elif char == '*':\n",
    "                result = operand1 * operand2\n",
    "            elif char == '/':\n",
    "                result = operand1 / operand2\n",
    "            \n",
    "            stack.append(result)\n",
    "    \n",
    "    return stack[0]\n",
    "\n",
    "# Example usage:\n",
    "expression = \"231*+9-\"\n",
    "result = evaluate_postfix(expression)\n",
    "print(result)  # Output: -4\n"
   ]
  },
  {
   "cell_type": "markdown",
   "id": "d95eb36f",
   "metadata": {},
   "source": [
    "# 💡 **Question 7**\n",
    "\n",
    "Design a stack that supports push, pop, top, and retrieving the minimum element in constant time.\n",
    "\n",
    "Implement the `MinStack` class:\n",
    "\n",
    "- `MinStack()` initializes the stack object.\n",
    "- `void push(int val)` pushes the element `val` onto the stack.\n",
    "- `void pop()` removes the element on the top of the stack.\n",
    "- `int top()` gets the top element of the stack.\n",
    "- `int getMin()` retrieves the minimum element in the stack.\n",
    "\n",
    "You must implement a solution with `O(1)` time complexity for each function.\n",
    "\n",
    "**Example 1:**\n",
    "\n",
    "Input\n",
    "[\"MinStack\",\"push\",\"push\",\"push\",\"getMin\",\"pop\",\"top\",\"getMin\"]\n",
    "[[],[-2],[0],[-3],[],[],[],[]]\n",
    "\n",
    "Output\n",
    "[null,null,null,null,-3,null,0,-2]\n",
    "\n",
    "Explanation\n",
    "MinStack minStack = new MinStack();\n",
    "minStack.push(-2);\n",
    "minStack.push(0);\n",
    "minStack.push(-3);\n",
    "minStack.getMin(); // return -3\n",
    "minStack.pop();\n",
    "minStack.top();    // return 0\n",
    "minStack.getMin(); // return -2\n"
   ]
  },
  {
   "cell_type": "markdown",
   "id": "317692e4",
   "metadata": {},
   "source": [
    "To design a stack that supports push, pop, top, and retrieving the minimum element in constant time, we can utilize an auxiliary stack to keep track of the minimum values."
   ]
  },
  {
   "cell_type": "code",
   "execution_count": 22,
   "id": "40b06a09",
   "metadata": {},
   "outputs": [],
   "source": [
    "class MinStack:\n",
    "    def __init__(self):\n",
    "        self.stack = []\n",
    "        self.min_stack = []\n",
    "\n",
    "    def push(self, val):\n",
    "        self.stack.append(val)\n",
    "\n",
    "        if not self.min_stack or val <= self.min_stack[-1]:\n",
    "            self.min_stack.append(val)\n",
    "\n",
    "    def pop(self):\n",
    "        if self.stack:\n",
    "            popped = self.stack.pop()\n",
    "\n",
    "            if popped == self.min_stack[-1]:\n",
    "                self.min_stack.pop()\n",
    "\n",
    "    def top(self):\n",
    "        if self.stack:\n",
    "            return self.stack[-1]\n",
    "\n",
    "    def getMin(self):\n",
    "        if self.min_stack:\n",
    "            return self.min_stack[-1]\n"
   ]
  },
  {
   "cell_type": "code",
   "execution_count": 23,
   "id": "5314c458",
   "metadata": {},
   "outputs": [
    {
     "name": "stdout",
     "output_type": "stream",
     "text": [
      "-3\n",
      "0\n",
      "-2\n"
     ]
    }
   ],
   "source": [
    "minStack = MinStack()\n",
    "minStack.push(-2)\n",
    "minStack.push(0)\n",
    "minStack.push(-3)\n",
    "print(minStack.getMin())  # Output: -3\n",
    "minStack.pop()\n",
    "print(minStack.top())     # Output: 0\n",
    "print(minStack.getMin())  # Output: -2\n"
   ]
  },
  {
   "cell_type": "markdown",
   "id": "372abcd4",
   "metadata": {},
   "source": [
    "The stack list is used to store the elements pushed onto the stack. The min_stack list is used to keep track of the minimum elements at each step. When pushing an element, if the min_stack is empty or the new element is less than or equal to the current minimum, the new element is also pushed onto the min_stack. When popping an element, if the popped element is the current minimum, it is also removed from the min_stack.\n",
    "\n",
    "The top method returns the top element of the stack if it exists. The getMin method returns the top element of the min_stack if it exists, representing the minimum element in the stack. Both methods have constant time complexity as they directly access the last element of their respective stacks."
   ]
  },
  {
   "cell_type": "markdown",
   "id": "3f8932c9",
   "metadata": {},
   "source": [
    "\n",
    "# 💡 **Question 8**\n",
    "\n",
    "Given `n` non-negative integers representing an elevation map where the width of each bar is `1`, compute how much water it can trap after raining.\n",
    "\n",
    "**Example 1:**\n",
    "\n",
    "!https://assets.leetcode.com/uploads/2018/10/22/rainwatertrap.png\n",
    "\n",
    "```\n",
    "Input: height = [0,1,0,2,1,0,1,3,2,1,2,1]\n",
    "Output: 6\n",
    "Explanation: The above elevation map (black section) is represented by array [0,1,0,2,1,0,1,3,2,1,2,1]. In this case, 6 units of rain water (blue section) are being trapped.\n",
    "\n",
    "```\n",
    "\n",
    "**Example 2:**\n",
    "\n",
    "Input: height = [4,2,0,3,2,5]\n",
    "Output: 9\n",
    "\n"
   ]
  },
  {
   "cell_type": "markdown",
   "id": "fcf00e55",
   "metadata": {},
   "source": [
    "To compute the amount of water that can be trapped after raining in an elevation map, we can use the two-pointer approach."
   ]
  },
  {
   "cell_type": "code",
   "execution_count": 24,
   "id": "0f93f433",
   "metadata": {},
   "outputs": [],
   "source": [
    "def trap(height):\n",
    "    if not height:\n",
    "        return 0\n",
    "\n",
    "    left, right = 0, len(height) - 1  # Initialize left and right pointers\n",
    "    left_max = right_max = trapped_water = 0  # Initialize variables\n",
    "\n",
    "    while left < right:\n",
    "        if height[left] < height[right]:\n",
    "            if height[left] >= left_max:\n",
    "                left_max = height[left]\n",
    "            else:\n",
    "                trapped_water += left_max - height[left]\n",
    "            left += 1\n",
    "        else:\n",
    "            if height[right] >= right_max:\n",
    "                right_max = height[right]\n",
    "            else:\n",
    "                trapped_water += right_max - height[right]\n",
    "            right -= 1\n",
    "\n",
    "    return trapped_water\n"
   ]
  },
  {
   "cell_type": "markdown",
   "id": "1c875078",
   "metadata": {},
   "source": [
    "In this implementation, we start with two pointers, left and right, pointing to the leftmost and rightmost elements of the elevation map, respectively. We also initialize left_max and right_max to keep track of the maximum heights encountered from the left and right sides, respectively.\n",
    "\n",
    "We iterate using the two pointers while left is less than right. At each iteration, we compare the heights at left and right. If the height at left is smaller, it means the water trapped at left can be determined based on the left_max. If the height at left is greater than or equal to left_max, we update left_max accordingly. Otherwise, we calculate the trapped water at left by subtracting the height at left from left_max.\n",
    "\n",
    "Similarly, if the height at right is smaller, we update right_max and calculate the trapped water at right in a similar manner.\n",
    "\n",
    "Finally, we return the total trapped water."
   ]
  },
  {
   "cell_type": "code",
   "execution_count": 25,
   "id": "81efdf57",
   "metadata": {},
   "outputs": [
    {
     "name": "stdout",
     "output_type": "stream",
     "text": [
      "6\n",
      "9\n"
     ]
    }
   ],
   "source": [
    "height1 = [0, 1, 0, 2, 1, 0, 1, 3, 2, 1, 2, 1]\n",
    "print(trap(height1))  # Output: 6\n",
    "\n",
    "height2 = [4, 2, 0, 3, 2, 5]\n",
    "print(trap(height2))  # Output: 9\n"
   ]
  },
  {
   "cell_type": "code",
   "execution_count": null,
   "id": "51e57d63",
   "metadata": {},
   "outputs": [],
   "source": []
  }
 ],
 "metadata": {
  "kernelspec": {
   "display_name": "Python 3",
   "language": "python",
   "name": "python3"
  },
  "language_info": {
   "codemirror_mode": {
    "name": "ipython",
    "version": 3
   },
   "file_extension": ".py",
   "mimetype": "text/x-python",
   "name": "python",
   "nbconvert_exporter": "python",
   "pygments_lexer": "ipython3",
   "version": "3.8.8"
  }
 },
 "nbformat": 4,
 "nbformat_minor": 5
}
